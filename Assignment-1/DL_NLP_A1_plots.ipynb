{
  "nbformat": 4,
  "nbformat_minor": 0,
  "metadata": {
    "colab": {
      "name": "DL-NLP-A1-plots.ipynb",
      "provenance": []
    },
    "kernelspec": {
      "name": "python3",
      "display_name": "Python 3"
    },
    "language_info": {
      "name": "python"
    }
  },
  "cells": [
    {
      "cell_type": "markdown",
      "metadata": {
        "id": "FgvMCfbmaIgR"
      },
      "source": [
        "# **Upgrading matplotlib and importing packages**"
      ]
    },
    {
      "cell_type": "code",
      "metadata": {
        "id": "AjF4jubmWaA0"
      },
      "source": [
        "!pip install matplotlib --upgrade\n",
        "!pip install seaborn --upgrade"
      ],
      "execution_count": null,
      "outputs": []
    },
    {
      "cell_type": "code",
      "metadata": {
        "id": "8jECNB56ucIV"
      },
      "source": [
        "import pandas as pd\n",
        "import numpy as np\n",
        "import seaborn as sns\n",
        "import matplotlib.pyplot as plt\n",
        "\n",
        "##  SKlearn libs for regressions\n",
        "from sklearn import metrics, linear_model\n",
        "from sklearn.model_selection import train_test_split, RandomizedSearchCV, GridSearchCV\n",
        "from sklearn.feature_selection import SelectKBest, chi2, f_classif\n",
        "from sklearn.preprocessing import PolynomialFeatures\n",
        "from sklearn.ensemble import RandomForestRegressor\n",
        "\n",
        "##Importing Libraries for Neural Nets\n",
        "import keras\n",
        "from keras.models import Sequential, model_from_json\n",
        "from keras.layers import Dense, Dropout, Activation\n",
        "import math\n",
        "from tqdm import tqdm\n",
        "import pickle \n",
        "\n",
        "pd.set_option('display.max_columns', None)  # or 1000\n",
        "pd.set_option('display.max_rows', 100)"
      ],
      "execution_count": 1,
      "outputs": []
    },
    {
      "cell_type": "markdown",
      "metadata": {
        "id": "8YPthCT_alOQ"
      },
      "source": [
        "# **Importing datasets & pickle files**\n",
        "\n"
      ]
    },
    {
      "cell_type": "code",
      "metadata": {
        "colab": {
          "base_uri": "https://localhost:8080/",
          "height": 309
        },
        "id": "b86iGlNcu3GV",
        "outputId": "584ce274-03a0-4314-9e64-3511a7267853"
      },
      "source": [
        "original = pd.read_csv('original.csv')\n",
        "original.head()"
      ],
      "execution_count": 2,
      "outputs": [
        {
          "output_type": "execute_result",
          "data": {
            "text/html": [
              "<div>\n",
              "<style scoped>\n",
              "    .dataframe tbody tr th:only-of-type {\n",
              "        vertical-align: middle;\n",
              "    }\n",
              "\n",
              "    .dataframe tbody tr th {\n",
              "        vertical-align: top;\n",
              "    }\n",
              "\n",
              "    .dataframe thead th {\n",
              "        text-align: right;\n",
              "    }\n",
              "</style>\n",
              "<table border=\"1\" class=\"dataframe\">\n",
              "  <thead>\n",
              "    <tr style=\"text-align: right;\">\n",
              "      <th></th>\n",
              "      <th>url</th>\n",
              "      <th>timedelta</th>\n",
              "      <th>n_tokens_title</th>\n",
              "      <th>n_tokens_content</th>\n",
              "      <th>n_unique_tokens</th>\n",
              "      <th>n_non_stop_words</th>\n",
              "      <th>n_non_stop_unique_tokens</th>\n",
              "      <th>num_hrefs</th>\n",
              "      <th>num_self_hrefs</th>\n",
              "      <th>num_imgs</th>\n",
              "      <th>num_videos</th>\n",
              "      <th>average_token_length</th>\n",
              "      <th>num_keywords</th>\n",
              "      <th>data_channel_is_lifestyle</th>\n",
              "      <th>data_channel_is_entertainment</th>\n",
              "      <th>data_channel_is_bus</th>\n",
              "      <th>data_channel_is_socmed</th>\n",
              "      <th>data_channel_is_tech</th>\n",
              "      <th>data_channel_is_world</th>\n",
              "      <th>kw_min_min</th>\n",
              "      <th>kw_max_min</th>\n",
              "      <th>kw_avg_min</th>\n",
              "      <th>kw_min_max</th>\n",
              "      <th>kw_max_max</th>\n",
              "      <th>kw_avg_max</th>\n",
              "      <th>kw_min_avg</th>\n",
              "      <th>kw_max_avg</th>\n",
              "      <th>kw_avg_avg</th>\n",
              "      <th>self_reference_min_shares</th>\n",
              "      <th>self_reference_max_shares</th>\n",
              "      <th>self_reference_avg_sharess</th>\n",
              "      <th>weekday_is_monday</th>\n",
              "      <th>weekday_is_tuesday</th>\n",
              "      <th>weekday_is_wednesday</th>\n",
              "      <th>weekday_is_thursday</th>\n",
              "      <th>weekday_is_friday</th>\n",
              "      <th>weekday_is_saturday</th>\n",
              "      <th>weekday_is_sunday</th>\n",
              "      <th>is_weekend</th>\n",
              "      <th>LDA_00</th>\n",
              "      <th>LDA_01</th>\n",
              "      <th>LDA_02</th>\n",
              "      <th>LDA_03</th>\n",
              "      <th>LDA_04</th>\n",
              "      <th>global_subjectivity</th>\n",
              "      <th>global_sentiment_polarity</th>\n",
              "      <th>global_rate_positive_words</th>\n",
              "      <th>global_rate_negative_words</th>\n",
              "      <th>rate_positive_words</th>\n",
              "      <th>rate_negative_words</th>\n",
              "      <th>avg_positive_polarity</th>\n",
              "      <th>min_positive_polarity</th>\n",
              "      <th>max_positive_polarity</th>\n",
              "      <th>avg_negative_polarity</th>\n",
              "      <th>min_negative_polarity</th>\n",
              "      <th>max_negative_polarity</th>\n",
              "      <th>title_subjectivity</th>\n",
              "      <th>title_sentiment_polarity</th>\n",
              "      <th>abs_title_subjectivity</th>\n",
              "      <th>abs_title_sentiment_polarity</th>\n",
              "      <th>shares</th>\n",
              "    </tr>\n",
              "  </thead>\n",
              "  <tbody>\n",
              "    <tr>\n",
              "      <th>0</th>\n",
              "      <td>http://mashable.com/2013/01/07/amazon-instant-...</td>\n",
              "      <td>731.0</td>\n",
              "      <td>12.0</td>\n",
              "      <td>219.0</td>\n",
              "      <td>0.663594</td>\n",
              "      <td>1.0</td>\n",
              "      <td>0.815385</td>\n",
              "      <td>4.0</td>\n",
              "      <td>2.0</td>\n",
              "      <td>1.0</td>\n",
              "      <td>0.0</td>\n",
              "      <td>4.680365</td>\n",
              "      <td>5.0</td>\n",
              "      <td>0.0</td>\n",
              "      <td>1.0</td>\n",
              "      <td>0.0</td>\n",
              "      <td>0.0</td>\n",
              "      <td>0.0</td>\n",
              "      <td>0.0</td>\n",
              "      <td>0.0</td>\n",
              "      <td>0.0</td>\n",
              "      <td>0.0</td>\n",
              "      <td>0.0</td>\n",
              "      <td>0.0</td>\n",
              "      <td>0.0</td>\n",
              "      <td>0.0</td>\n",
              "      <td>0.0</td>\n",
              "      <td>0.0</td>\n",
              "      <td>496.0</td>\n",
              "      <td>496.0</td>\n",
              "      <td>496.000000</td>\n",
              "      <td>1.0</td>\n",
              "      <td>0.0</td>\n",
              "      <td>0.0</td>\n",
              "      <td>0.0</td>\n",
              "      <td>0.0</td>\n",
              "      <td>0.0</td>\n",
              "      <td>0.0</td>\n",
              "      <td>0.0</td>\n",
              "      <td>0.500331</td>\n",
              "      <td>0.378279</td>\n",
              "      <td>0.040005</td>\n",
              "      <td>0.041263</td>\n",
              "      <td>0.040123</td>\n",
              "      <td>0.521617</td>\n",
              "      <td>0.092562</td>\n",
              "      <td>0.045662</td>\n",
              "      <td>0.013699</td>\n",
              "      <td>0.769231</td>\n",
              "      <td>0.230769</td>\n",
              "      <td>0.378636</td>\n",
              "      <td>0.100000</td>\n",
              "      <td>0.7</td>\n",
              "      <td>-0.350000</td>\n",
              "      <td>-0.600</td>\n",
              "      <td>-0.200000</td>\n",
              "      <td>0.500000</td>\n",
              "      <td>-0.187500</td>\n",
              "      <td>0.000000</td>\n",
              "      <td>0.187500</td>\n",
              "      <td>593</td>\n",
              "    </tr>\n",
              "    <tr>\n",
              "      <th>1</th>\n",
              "      <td>http://mashable.com/2013/01/07/ap-samsung-spon...</td>\n",
              "      <td>731.0</td>\n",
              "      <td>9.0</td>\n",
              "      <td>255.0</td>\n",
              "      <td>0.604743</td>\n",
              "      <td>1.0</td>\n",
              "      <td>0.791946</td>\n",
              "      <td>3.0</td>\n",
              "      <td>1.0</td>\n",
              "      <td>1.0</td>\n",
              "      <td>0.0</td>\n",
              "      <td>4.913725</td>\n",
              "      <td>4.0</td>\n",
              "      <td>0.0</td>\n",
              "      <td>0.0</td>\n",
              "      <td>1.0</td>\n",
              "      <td>0.0</td>\n",
              "      <td>0.0</td>\n",
              "      <td>0.0</td>\n",
              "      <td>0.0</td>\n",
              "      <td>0.0</td>\n",
              "      <td>0.0</td>\n",
              "      <td>0.0</td>\n",
              "      <td>0.0</td>\n",
              "      <td>0.0</td>\n",
              "      <td>0.0</td>\n",
              "      <td>0.0</td>\n",
              "      <td>0.0</td>\n",
              "      <td>0.0</td>\n",
              "      <td>0.0</td>\n",
              "      <td>0.000000</td>\n",
              "      <td>1.0</td>\n",
              "      <td>0.0</td>\n",
              "      <td>0.0</td>\n",
              "      <td>0.0</td>\n",
              "      <td>0.0</td>\n",
              "      <td>0.0</td>\n",
              "      <td>0.0</td>\n",
              "      <td>0.0</td>\n",
              "      <td>0.799756</td>\n",
              "      <td>0.050047</td>\n",
              "      <td>0.050096</td>\n",
              "      <td>0.050101</td>\n",
              "      <td>0.050001</td>\n",
              "      <td>0.341246</td>\n",
              "      <td>0.148948</td>\n",
              "      <td>0.043137</td>\n",
              "      <td>0.015686</td>\n",
              "      <td>0.733333</td>\n",
              "      <td>0.266667</td>\n",
              "      <td>0.286915</td>\n",
              "      <td>0.033333</td>\n",
              "      <td>0.7</td>\n",
              "      <td>-0.118750</td>\n",
              "      <td>-0.125</td>\n",
              "      <td>-0.100000</td>\n",
              "      <td>0.000000</td>\n",
              "      <td>0.000000</td>\n",
              "      <td>0.500000</td>\n",
              "      <td>0.000000</td>\n",
              "      <td>711</td>\n",
              "    </tr>\n",
              "    <tr>\n",
              "      <th>2</th>\n",
              "      <td>http://mashable.com/2013/01/07/apple-40-billio...</td>\n",
              "      <td>731.0</td>\n",
              "      <td>9.0</td>\n",
              "      <td>211.0</td>\n",
              "      <td>0.575130</td>\n",
              "      <td>1.0</td>\n",
              "      <td>0.663866</td>\n",
              "      <td>3.0</td>\n",
              "      <td>1.0</td>\n",
              "      <td>1.0</td>\n",
              "      <td>0.0</td>\n",
              "      <td>4.393365</td>\n",
              "      <td>6.0</td>\n",
              "      <td>0.0</td>\n",
              "      <td>0.0</td>\n",
              "      <td>1.0</td>\n",
              "      <td>0.0</td>\n",
              "      <td>0.0</td>\n",
              "      <td>0.0</td>\n",
              "      <td>0.0</td>\n",
              "      <td>0.0</td>\n",
              "      <td>0.0</td>\n",
              "      <td>0.0</td>\n",
              "      <td>0.0</td>\n",
              "      <td>0.0</td>\n",
              "      <td>0.0</td>\n",
              "      <td>0.0</td>\n",
              "      <td>0.0</td>\n",
              "      <td>918.0</td>\n",
              "      <td>918.0</td>\n",
              "      <td>918.000000</td>\n",
              "      <td>1.0</td>\n",
              "      <td>0.0</td>\n",
              "      <td>0.0</td>\n",
              "      <td>0.0</td>\n",
              "      <td>0.0</td>\n",
              "      <td>0.0</td>\n",
              "      <td>0.0</td>\n",
              "      <td>0.0</td>\n",
              "      <td>0.217792</td>\n",
              "      <td>0.033334</td>\n",
              "      <td>0.033351</td>\n",
              "      <td>0.033334</td>\n",
              "      <td>0.682188</td>\n",
              "      <td>0.702222</td>\n",
              "      <td>0.323333</td>\n",
              "      <td>0.056872</td>\n",
              "      <td>0.009479</td>\n",
              "      <td>0.857143</td>\n",
              "      <td>0.142857</td>\n",
              "      <td>0.495833</td>\n",
              "      <td>0.100000</td>\n",
              "      <td>1.0</td>\n",
              "      <td>-0.466667</td>\n",
              "      <td>-0.800</td>\n",
              "      <td>-0.133333</td>\n",
              "      <td>0.000000</td>\n",
              "      <td>0.000000</td>\n",
              "      <td>0.500000</td>\n",
              "      <td>0.000000</td>\n",
              "      <td>1500</td>\n",
              "    </tr>\n",
              "    <tr>\n",
              "      <th>3</th>\n",
              "      <td>http://mashable.com/2013/01/07/astronaut-notre...</td>\n",
              "      <td>731.0</td>\n",
              "      <td>9.0</td>\n",
              "      <td>531.0</td>\n",
              "      <td>0.503788</td>\n",
              "      <td>1.0</td>\n",
              "      <td>0.665635</td>\n",
              "      <td>9.0</td>\n",
              "      <td>0.0</td>\n",
              "      <td>1.0</td>\n",
              "      <td>0.0</td>\n",
              "      <td>4.404896</td>\n",
              "      <td>7.0</td>\n",
              "      <td>0.0</td>\n",
              "      <td>1.0</td>\n",
              "      <td>0.0</td>\n",
              "      <td>0.0</td>\n",
              "      <td>0.0</td>\n",
              "      <td>0.0</td>\n",
              "      <td>0.0</td>\n",
              "      <td>0.0</td>\n",
              "      <td>0.0</td>\n",
              "      <td>0.0</td>\n",
              "      <td>0.0</td>\n",
              "      <td>0.0</td>\n",
              "      <td>0.0</td>\n",
              "      <td>0.0</td>\n",
              "      <td>0.0</td>\n",
              "      <td>0.0</td>\n",
              "      <td>0.0</td>\n",
              "      <td>0.000000</td>\n",
              "      <td>1.0</td>\n",
              "      <td>0.0</td>\n",
              "      <td>0.0</td>\n",
              "      <td>0.0</td>\n",
              "      <td>0.0</td>\n",
              "      <td>0.0</td>\n",
              "      <td>0.0</td>\n",
              "      <td>0.0</td>\n",
              "      <td>0.028573</td>\n",
              "      <td>0.419300</td>\n",
              "      <td>0.494651</td>\n",
              "      <td>0.028905</td>\n",
              "      <td>0.028572</td>\n",
              "      <td>0.429850</td>\n",
              "      <td>0.100705</td>\n",
              "      <td>0.041431</td>\n",
              "      <td>0.020716</td>\n",
              "      <td>0.666667</td>\n",
              "      <td>0.333333</td>\n",
              "      <td>0.385965</td>\n",
              "      <td>0.136364</td>\n",
              "      <td>0.8</td>\n",
              "      <td>-0.369697</td>\n",
              "      <td>-0.600</td>\n",
              "      <td>-0.166667</td>\n",
              "      <td>0.000000</td>\n",
              "      <td>0.000000</td>\n",
              "      <td>0.500000</td>\n",
              "      <td>0.000000</td>\n",
              "      <td>1200</td>\n",
              "    </tr>\n",
              "    <tr>\n",
              "      <th>4</th>\n",
              "      <td>http://mashable.com/2013/01/07/att-u-verse-apps/</td>\n",
              "      <td>731.0</td>\n",
              "      <td>13.0</td>\n",
              "      <td>1072.0</td>\n",
              "      <td>0.415646</td>\n",
              "      <td>1.0</td>\n",
              "      <td>0.540890</td>\n",
              "      <td>19.0</td>\n",
              "      <td>19.0</td>\n",
              "      <td>20.0</td>\n",
              "      <td>0.0</td>\n",
              "      <td>4.682836</td>\n",
              "      <td>7.0</td>\n",
              "      <td>0.0</td>\n",
              "      <td>0.0</td>\n",
              "      <td>0.0</td>\n",
              "      <td>0.0</td>\n",
              "      <td>1.0</td>\n",
              "      <td>0.0</td>\n",
              "      <td>0.0</td>\n",
              "      <td>0.0</td>\n",
              "      <td>0.0</td>\n",
              "      <td>0.0</td>\n",
              "      <td>0.0</td>\n",
              "      <td>0.0</td>\n",
              "      <td>0.0</td>\n",
              "      <td>0.0</td>\n",
              "      <td>0.0</td>\n",
              "      <td>545.0</td>\n",
              "      <td>16000.0</td>\n",
              "      <td>3151.157895</td>\n",
              "      <td>1.0</td>\n",
              "      <td>0.0</td>\n",
              "      <td>0.0</td>\n",
              "      <td>0.0</td>\n",
              "      <td>0.0</td>\n",
              "      <td>0.0</td>\n",
              "      <td>0.0</td>\n",
              "      <td>0.0</td>\n",
              "      <td>0.028633</td>\n",
              "      <td>0.028794</td>\n",
              "      <td>0.028575</td>\n",
              "      <td>0.028572</td>\n",
              "      <td>0.885427</td>\n",
              "      <td>0.513502</td>\n",
              "      <td>0.281003</td>\n",
              "      <td>0.074627</td>\n",
              "      <td>0.012127</td>\n",
              "      <td>0.860215</td>\n",
              "      <td>0.139785</td>\n",
              "      <td>0.411127</td>\n",
              "      <td>0.033333</td>\n",
              "      <td>1.0</td>\n",
              "      <td>-0.220192</td>\n",
              "      <td>-0.500</td>\n",
              "      <td>-0.050000</td>\n",
              "      <td>0.454545</td>\n",
              "      <td>0.136364</td>\n",
              "      <td>0.045455</td>\n",
              "      <td>0.136364</td>\n",
              "      <td>505</td>\n",
              "    </tr>\n",
              "  </tbody>\n",
              "</table>\n",
              "</div>"
            ],
            "text/plain": [
              "                                                 url  timedelta  \\\n",
              "0  http://mashable.com/2013/01/07/amazon-instant-...      731.0   \n",
              "1  http://mashable.com/2013/01/07/ap-samsung-spon...      731.0   \n",
              "2  http://mashable.com/2013/01/07/apple-40-billio...      731.0   \n",
              "3  http://mashable.com/2013/01/07/astronaut-notre...      731.0   \n",
              "4   http://mashable.com/2013/01/07/att-u-verse-apps/      731.0   \n",
              "\n",
              "   n_tokens_title  n_tokens_content  n_unique_tokens  n_non_stop_words  \\\n",
              "0            12.0             219.0         0.663594               1.0   \n",
              "1             9.0             255.0         0.604743               1.0   \n",
              "2             9.0             211.0         0.575130               1.0   \n",
              "3             9.0             531.0         0.503788               1.0   \n",
              "4            13.0            1072.0         0.415646               1.0   \n",
              "\n",
              "   n_non_stop_unique_tokens  num_hrefs  num_self_hrefs  num_imgs  num_videos  \\\n",
              "0                  0.815385        4.0             2.0       1.0         0.0   \n",
              "1                  0.791946        3.0             1.0       1.0         0.0   \n",
              "2                  0.663866        3.0             1.0       1.0         0.0   \n",
              "3                  0.665635        9.0             0.0       1.0         0.0   \n",
              "4                  0.540890       19.0            19.0      20.0         0.0   \n",
              "\n",
              "   average_token_length  num_keywords  data_channel_is_lifestyle  \\\n",
              "0              4.680365           5.0                        0.0   \n",
              "1              4.913725           4.0                        0.0   \n",
              "2              4.393365           6.0                        0.0   \n",
              "3              4.404896           7.0                        0.0   \n",
              "4              4.682836           7.0                        0.0   \n",
              "\n",
              "   data_channel_is_entertainment  data_channel_is_bus  data_channel_is_socmed  \\\n",
              "0                            1.0                  0.0                     0.0   \n",
              "1                            0.0                  1.0                     0.0   \n",
              "2                            0.0                  1.0                     0.0   \n",
              "3                            1.0                  0.0                     0.0   \n",
              "4                            0.0                  0.0                     0.0   \n",
              "\n",
              "   data_channel_is_tech  data_channel_is_world  kw_min_min  kw_max_min  \\\n",
              "0                   0.0                    0.0         0.0         0.0   \n",
              "1                   0.0                    0.0         0.0         0.0   \n",
              "2                   0.0                    0.0         0.0         0.0   \n",
              "3                   0.0                    0.0         0.0         0.0   \n",
              "4                   1.0                    0.0         0.0         0.0   \n",
              "\n",
              "   kw_avg_min  kw_min_max  kw_max_max  kw_avg_max  kw_min_avg  kw_max_avg  \\\n",
              "0         0.0         0.0         0.0         0.0         0.0         0.0   \n",
              "1         0.0         0.0         0.0         0.0         0.0         0.0   \n",
              "2         0.0         0.0         0.0         0.0         0.0         0.0   \n",
              "3         0.0         0.0         0.0         0.0         0.0         0.0   \n",
              "4         0.0         0.0         0.0         0.0         0.0         0.0   \n",
              "\n",
              "   kw_avg_avg  self_reference_min_shares  self_reference_max_shares  \\\n",
              "0         0.0                      496.0                      496.0   \n",
              "1         0.0                        0.0                        0.0   \n",
              "2         0.0                      918.0                      918.0   \n",
              "3         0.0                        0.0                        0.0   \n",
              "4         0.0                      545.0                    16000.0   \n",
              "\n",
              "   self_reference_avg_sharess  weekday_is_monday  weekday_is_tuesday  \\\n",
              "0                  496.000000                1.0                 0.0   \n",
              "1                    0.000000                1.0                 0.0   \n",
              "2                  918.000000                1.0                 0.0   \n",
              "3                    0.000000                1.0                 0.0   \n",
              "4                 3151.157895                1.0                 0.0   \n",
              "\n",
              "   weekday_is_wednesday  weekday_is_thursday  weekday_is_friday  \\\n",
              "0                   0.0                  0.0                0.0   \n",
              "1                   0.0                  0.0                0.0   \n",
              "2                   0.0                  0.0                0.0   \n",
              "3                   0.0                  0.0                0.0   \n",
              "4                   0.0                  0.0                0.0   \n",
              "\n",
              "   weekday_is_saturday  weekday_is_sunday  is_weekend    LDA_00    LDA_01  \\\n",
              "0                  0.0                0.0         0.0  0.500331  0.378279   \n",
              "1                  0.0                0.0         0.0  0.799756  0.050047   \n",
              "2                  0.0                0.0         0.0  0.217792  0.033334   \n",
              "3                  0.0                0.0         0.0  0.028573  0.419300   \n",
              "4                  0.0                0.0         0.0  0.028633  0.028794   \n",
              "\n",
              "     LDA_02    LDA_03    LDA_04  global_subjectivity  \\\n",
              "0  0.040005  0.041263  0.040123             0.521617   \n",
              "1  0.050096  0.050101  0.050001             0.341246   \n",
              "2  0.033351  0.033334  0.682188             0.702222   \n",
              "3  0.494651  0.028905  0.028572             0.429850   \n",
              "4  0.028575  0.028572  0.885427             0.513502   \n",
              "\n",
              "   global_sentiment_polarity  global_rate_positive_words  \\\n",
              "0                   0.092562                    0.045662   \n",
              "1                   0.148948                    0.043137   \n",
              "2                   0.323333                    0.056872   \n",
              "3                   0.100705                    0.041431   \n",
              "4                   0.281003                    0.074627   \n",
              "\n",
              "   global_rate_negative_words  rate_positive_words  rate_negative_words  \\\n",
              "0                    0.013699             0.769231             0.230769   \n",
              "1                    0.015686             0.733333             0.266667   \n",
              "2                    0.009479             0.857143             0.142857   \n",
              "3                    0.020716             0.666667             0.333333   \n",
              "4                    0.012127             0.860215             0.139785   \n",
              "\n",
              "   avg_positive_polarity  min_positive_polarity  max_positive_polarity  \\\n",
              "0               0.378636               0.100000                    0.7   \n",
              "1               0.286915               0.033333                    0.7   \n",
              "2               0.495833               0.100000                    1.0   \n",
              "3               0.385965               0.136364                    0.8   \n",
              "4               0.411127               0.033333                    1.0   \n",
              "\n",
              "   avg_negative_polarity  min_negative_polarity  max_negative_polarity  \\\n",
              "0              -0.350000                 -0.600              -0.200000   \n",
              "1              -0.118750                 -0.125              -0.100000   \n",
              "2              -0.466667                 -0.800              -0.133333   \n",
              "3              -0.369697                 -0.600              -0.166667   \n",
              "4              -0.220192                 -0.500              -0.050000   \n",
              "\n",
              "   title_subjectivity  title_sentiment_polarity  abs_title_subjectivity  \\\n",
              "0            0.500000                 -0.187500                0.000000   \n",
              "1            0.000000                  0.000000                0.500000   \n",
              "2            0.000000                  0.000000                0.500000   \n",
              "3            0.000000                  0.000000                0.500000   \n",
              "4            0.454545                  0.136364                0.045455   \n",
              "\n",
              "   abs_title_sentiment_polarity  shares  \n",
              "0                      0.187500     593  \n",
              "1                      0.000000     711  \n",
              "2                      0.000000    1500  \n",
              "3                      0.000000    1200  \n",
              "4                      0.136364     505  "
            ]
          },
          "metadata": {
            "tags": []
          },
          "execution_count": 2
        }
      ]
    },
    {
      "cell_type": "code",
      "metadata": {
        "id": "6Li9x1DoWKFq"
      },
      "source": [
        "with open('average_losses.pickle', 'rb') as handle:\n",
        "    average_losses = pickle.load(handle)\n",
        "\n",
        "with open('batch_exec_time.pickle', 'rb') as handle:\n",
        "    batch_exec_time = pickle.load(handle)\n",
        "\n",
        "with open('average_losses_in.pickle', 'rb') as handle:\n",
        "    average_losses_in = pickle.load(handle)\n",
        "\n",
        "with open('batch_exec_time_in.pickle', 'rb') as handle:\n",
        "    batch_exec_time_in = pickle.load(handle)"
      ],
      "execution_count": 5,
      "outputs": []
    },
    {
      "cell_type": "code",
      "metadata": {
        "colab": {
          "base_uri": "https://localhost:8080/"
        },
        "id": "yt0aY1ZF_EVz",
        "outputId": "3aef5e9c-0592-4687-87b4-abd9479dedc3"
      },
      "source": [
        "df = original.drop('url', axis = 1)\n",
        "\n",
        "X = df.drop('shares', axis = 1).copy()\n",
        "y = df.shares.copy()\n",
        "\n",
        "X_train = X[:25000]\n",
        "y_train = y[:25000]\n",
        "X_valid = X[25000:30000]\n",
        "y_valid = y[25000:30000]\n",
        "X_test = X[30000:]\n",
        "y_test = y[30000:]\n",
        "\n",
        "print(X_train.shape)\n",
        "print(y_train.shape)\n",
        "print(X_valid.shape)\n",
        "print(y_valid.shape)\n",
        "print(X_test.shape)\n",
        "print(y_test.shape)"
      ],
      "execution_count": 3,
      "outputs": [
        {
          "output_type": "stream",
          "text": [
            "(25000, 59)\n",
            "(25000,)\n",
            "(5000, 59)\n",
            "(5000,)\n",
            "(9644, 59)\n",
            "(9644,)\n"
          ],
          "name": "stdout"
        }
      ]
    },
    {
      "cell_type": "markdown",
      "metadata": {
        "id": "__dedtzZa-T4"
      },
      "source": [
        "# **Compute validation losses (without removing outliers)**\n"
      ]
    },
    {
      "cell_type": "code",
      "metadata": {
        "id": "1eUPu_nN_I4S"
      },
      "source": [
        "act = 'swish'\n",
        "opt = 'RMSprop'\n",
        "epoch = 30"
      ],
      "execution_count": 4,
      "outputs": []
    },
    {
      "cell_type": "code",
      "metadata": {
        "colab": {
          "base_uri": "https://localhost:8080/"
        },
        "id": "5dSxlWLc_Kg1",
        "outputId": "34718b93-6699-4c34-d2e9-925a66c8d776"
      },
      "source": [
        "average_losses = dict()\n",
        "\n",
        "for batch_len in [4, 8, 16, 32, 64, 128, 256, 512, 1024, 2048, 4096]:\n",
        "    losses = []\n",
        "    # Repeat training 5 times and take the average validation loss\n",
        "    for _ in tqdm(range(5)):\n",
        "        # Define the model\n",
        "        keras.backend.clear_session()\n",
        "        model = Sequential()\n",
        "        model.add(Dense(16, input_dim=X_train.shape[1], activation=act))\n",
        "        model.add(Dense(16, activation=act))\n",
        "        model.add(Dense(1, activation='linear'))\n",
        "\n",
        "        # Train the model\n",
        "        model.compile(loss='mse', optimizer=opt, metrics=['mse'])\n",
        "        history = model.fit(X_train, y_train, epochs=epoch, batch_size=batch_len,  verbose=0)\n",
        "\n",
        "        # Compute and store the RMSE validation loss\n",
        "        y_pred_valid = model.predict(X_valid)\n",
        "        rmse_valid_loss = math.sqrt(metrics.mean_squared_error(y_valid, y_pred_valid))\n",
        "        # rmse_valid_loss = round(rmse_valid_loss, 1)\n",
        "        losses.append(rmse_valid_loss)\n",
        "    \n",
        "    # Compute and store the average loss for this batch size\n",
        "    average_loss = np.mean(losses)\n",
        "    average_loss = round(average_loss, 1)\n",
        "    average_losses[batch_len] = average_loss"
      ],
      "execution_count": 12,
      "outputs": [
        {
          "output_type": "stream",
          "text": [
            "100%|██████████| 5/5 [16:56<00:00, 203.25s/it]\n",
            "100%|██████████| 5/5 [09:24<00:00, 112.85s/it]\n",
            "100%|██████████| 5/5 [05:45<00:00, 69.01s/it]\n",
            "100%|██████████| 5/5 [02:19<00:00, 27.99s/it]\n",
            "100%|██████████| 5/5 [01:21<00:00, 16.31s/it]\n",
            "100%|██████████| 5/5 [00:43<00:00,  8.67s/it]\n",
            "100%|██████████| 5/5 [00:22<00:00,  4.50s/it]\n",
            "100%|██████████| 5/5 [00:15<00:00,  3.09s/it]\n",
            "100%|██████████| 5/5 [00:13<00:00,  2.66s/it]\n"
          ],
          "name": "stderr"
        }
      ]
    },
    {
      "cell_type": "code",
      "metadata": {
        "id": "m0StczlCDbr3"
      },
      "source": [
        "average_losses"
      ],
      "execution_count": null,
      "outputs": []
    },
    {
      "cell_type": "code",
      "metadata": {
        "colab": {
          "base_uri": "https://localhost:8080/",
          "height": 460
        },
        "id": "JWdBzGxmQfSQ",
        "outputId": "338aaee8-76ab-47b0-c3a3-0ebdde1ecd29"
      },
      "source": [
        "# Plot the validation loss for different batch sizes \n",
        "keys = list(average_losses.keys())\n",
        "values = list(average_losses.values())\n",
        "plt.figure(figsize = (12, 7))\n",
        "ax = sns.barplot(x = keys, y = values, palette = 'crest')\n",
        "ax.bar_label(ax.containers[0])\n",
        "ax.set(xlabel='Batch size', ylabel='Validation loss (RMSE)')\n",
        "ax.set_title( \"Losses using different batch sizes (including outliers)\", size = 15)\n",
        "plt.show()"
      ],
      "execution_count": 33,
      "outputs": [
        {
          "output_type": "display_data",
          "data": {
            "image/png": "[encoded data removed]",
            "text/plain": [
              "<Figure size 864x504 with 1 Axes>"
            ]
          },
          "metadata": {
            "tags": [],
            "needs_background": "light"
          }
        }
      ]
    },
    {
      "cell_type": "code",
      "metadata": {
        "colab": {
          "base_uri": "https://localhost:8080/",
          "height": 460
        },
        "id": "QlLyyRBYYrh-",
        "outputId": "e6b1a543-cbe9-45d3-890c-9c23731126a9"
      },
      "source": [
        "# Plot the execution time for different batch sizes \n",
        "keys = list(batch_exec_time.keys())\n",
        "values = list(batch_exec_time.values())\n",
        "plt.figure(figsize = (12, 7))\n",
        "ax = sns.barplot(x = keys, y = values, palette = 'flare_r')\n",
        "ax.bar_label(ax.containers[0])\n",
        "ax.set(xlabel='Batch sizes', ylabel='Training time (seconds)')\n",
        "ax.set_title( \"Execution time using different batch sizes (including outliers)\", size = 15)\n",
        "plt.show()"
      ],
      "execution_count": 34,
      "outputs": [
        {
          "output_type": "display_data",
          "data": {
            "image/png": "[encoded data removed]",
            "text/plain": [
              "<Figure size 864x504 with 1 Axes>"
            ]
          },
          "metadata": {
            "tags": [],
            "needs_background": "light"
          }
        }
      ]
    },
    {
      "cell_type": "markdown",
      "metadata": {
        "id": "g0JqS9FRbQaJ"
      },
      "source": [
        "# **Compute validation losses (after removing outliers)**"
      ]
    },
    {
      "cell_type": "code",
      "metadata": {
        "colab": {
          "base_uri": "https://localhost:8080/"
        },
        "id": "ieHpVFdMbP7n",
        "outputId": "48da3641-3a8c-439a-ef07-517ad9d42e42"
      },
      "source": [
        "df.shape"
      ],
      "execution_count": 16,
      "outputs": [
        {
          "output_type": "execute_result",
          "data": {
            "text/plain": [
              "(39644, 60)"
            ]
          },
          "metadata": {
            "tags": []
          },
          "execution_count": 16
        }
      ]
    },
    {
      "cell_type": "code",
      "metadata": {
        "colab": {
          "base_uri": "https://localhost:8080/"
        },
        "id": "cg1BIIvdbyL2",
        "outputId": "03fbdce3-085c-4957-aa90-a6a82f687294"
      },
      "source": [
        "df_inliers = df[df.shares <= 50000]\n",
        "df_inliers.shape\n",
        "# Around 200 data points have been dropped"
      ],
      "execution_count": 18,
      "outputs": [
        {
          "output_type": "execute_result",
          "data": {
            "text/plain": [
              "(39441, 60)"
            ]
          },
          "metadata": {
            "tags": []
          },
          "execution_count": 18
        }
      ]
    },
    {
      "cell_type": "code",
      "metadata": {
        "colab": {
          "base_uri": "https://localhost:8080/"
        },
        "id": "RI8sERFdcC_o",
        "outputId": "3a72c7bf-c3f2-4bcd-fcf1-9cea015a7dde"
      },
      "source": [
        "X_in = df_inliers.drop('shares', axis = 1).copy()\n",
        "y_in = df_inliers.shares.copy()\n",
        "\n",
        "X_train_in = X_in[:25000]\n",
        "y_train_in = y_in[:25000]\n",
        "X_valid_in = X_in[25000:30000]\n",
        "y_valid_in = y_in[25000:30000]\n",
        "X_test_in = X_in[30000:]\n",
        "y_test_in = y_in[30000:]\n",
        "\n",
        "print(X_train_in.shape)\n",
        "print(y_train_in.shape)\n",
        "print(X_valid_in.shape)\n",
        "print(y_valid_in.shape)\n",
        "print(X_test_in.shape)\n",
        "print(y_test_in.shape)"
      ],
      "execution_count": 20,
      "outputs": [
        {
          "output_type": "stream",
          "text": [
            "(25000, 59)\n",
            "(25000,)\n",
            "(5000, 59)\n",
            "(5000,)\n",
            "(9441, 59)\n",
            "(9441,)\n"
          ],
          "name": "stdout"
        }
      ]
    },
    {
      "cell_type": "code",
      "metadata": {
        "colab": {
          "base_uri": "https://localhost:8080/"
        },
        "id": "l_ulhyhYdN0_",
        "outputId": "2082d69b-7e74-427f-f5ec-47bd505a51e9"
      },
      "source": [
        "average_losses_in = dict()\n",
        "\n",
        "for batch_len in [4, 8, 16, 32, 64, 128, 256, 512, 1024, 2048, 4096]:\n",
        "    losses = []\n",
        "    # Repeat training 5 times and take the average validation loss\n",
        "    for _ in tqdm(range(5)):\n",
        "        # Define the model\n",
        "        keras.backend.clear_session()\n",
        "        model = Sequential()\n",
        "        model.add(Dense(16, input_dim=X_train_in.shape[1], activation=act))\n",
        "        model.add(Dense(16, activation=act))\n",
        "        model.add(Dense(1, activation='linear'))\n",
        "\n",
        "        # Train the model\n",
        "        model.compile(loss='mse', optimizer=opt, metrics=['mse'])\n",
        "        history = model.fit(X_train_in, y_train_in, epochs=epoch, batch_size=batch_len, verbose=0)\n",
        "\n",
        "        # Compute and store the RMSE validation loss\n",
        "        y_pred_valid_in = model.predict(X_valid_in)\n",
        "        rmse_valid_loss = math.sqrt(metrics.mean_squared_error(y_valid_in, y_pred_valid_in))\n",
        "        losses.append(rmse_valid_loss)\n",
        "    \n",
        "    # Compute and store the average loss for this batch size\n",
        "    average_loss = np.mean(losses)\n",
        "    average_loss = round(average_loss, 1)\n",
        "    average_losses_in[batch_len] = average_loss"
      ],
      "execution_count": 21,
      "outputs": [
        {
          "output_type": "stream",
          "text": [
            "100%|██████████| 5/5 [15:38<00:00, 187.77s/it]\n",
            "100%|██████████| 5/5 [08:13<00:00, 98.73s/it] \n",
            "100%|██████████| 5/5 [05:05<00:00, 61.16s/it]\n",
            "100%|██████████| 5/5 [02:36<00:00, 31.25s/it]\n",
            "100%|██████████| 5/5 [01:12<00:00, 14.44s/it]\n",
            "100%|██████████| 5/5 [00:55<00:00, 11.12s/it]\n",
            "100%|██████████| 5/5 [00:27<00:00,  5.57s/it]\n",
            "100%|██████████| 5/5 [00:15<00:00,  3.03s/it]\n",
            "100%|██████████| 5/5 [00:11<00:00,  2.22s/it]\n",
            "100%|██████████| 5/5 [00:09<00:00,  1.84s/it]\n",
            "100%|██████████| 5/5 [00:08<00:00,  1.74s/it]\n"
          ],
          "name": "stderr"
        }
      ]
    },
    {
      "cell_type": "code",
      "metadata": {
        "id": "6LVnJVrznVBG"
      },
      "source": [
        "average_losses_in"
      ],
      "execution_count": null,
      "outputs": []
    },
    {
      "cell_type": "code",
      "metadata": {
        "colab": {
          "base_uri": "https://localhost:8080/",
          "height": 460
        },
        "id": "jEVdottzoLE1",
        "outputId": "c56d579a-4f2f-4777-9d52-918a1c4049a3"
      },
      "source": [
        "# Plot the validation loss for different batch sizes (inliers only)\n",
        "keys = list(average_losses_in.keys())\n",
        "values = list(average_losses_in.values())\n",
        "plt.figure(figsize = (12, 7))\n",
        "ax = sns.barplot(x = keys, y = values, palette = 'crest')\n",
        "ax.bar_label(ax.containers[0])\n",
        "ax.set(xlabel='Batch size', ylabel='Validation loss (RMSE)')\n",
        "ax.set_title( \"Losses using different batch sizes (excluding outliers)\", size = 15)\n",
        "plt.show()"
      ],
      "execution_count": 35,
      "outputs": [
        {
          "output_type": "display_data",
          "data": {
            "image/png": "[encoded data removed]",
            "text/plain": [
              "<Figure size 864x504 with 1 Axes>"
            ]
          },
          "metadata": {
            "tags": [],
            "needs_background": "light"
          }
        }
      ]
    },
    {
      "cell_type": "code",
      "metadata": {
        "colab": {
          "base_uri": "https://localhost:8080/",
          "height": 460
        },
        "id": "SYZj8OQOpqkE",
        "outputId": "77730ad8-440c-4578-cc8b-799f2d6e7b89"
      },
      "source": [
        "# Plot the execution time for different batch sizes \n",
        "keys = list(batch_exec_time_in.keys())\n",
        "values = list(batch_exec_time_in.values())\n",
        "plt.figure(figsize = (12, 7))\n",
        "ax = sns.barplot(x = keys, y = values, palette = 'flare_r')\n",
        "ax.bar_label(ax.containers[0])\n",
        "ax.set(xlabel='Batch sizes', ylabel='Training time (seconds)')\n",
        "ax.set_title( \"Execution time using different batch sizes (excluding outliers)\", size = 15)\n",
        "plt.show()"
      ],
      "execution_count": 36,
      "outputs": [
        {
          "output_type": "display_data",
          "data": {
            "image/png": "[encoded data removed]",
            "text/plain": [
              "<Figure size 864x504 with 1 Axes>"
            ]
          },
          "metadata": {
            "tags": [],
            "needs_background": "light"
          }
        }
      ]
    },
    {
      "cell_type": "markdown",
      "metadata": {
        "id": "quTgg2qNq0tG"
      },
      "source": [
        "# **Code for storing dicts as pickle files**"
      ]
    },
    {
      "cell_type": "code",
      "metadata": {
        "colab": {
          "base_uri": "https://localhost:8080/"
        },
        "id": "W7RrotYTTctV",
        "outputId": "f44c0d18-aa81-482d-ebe4-1397cc107ed1"
      },
      "source": [
        "with open('average_losses_in.pickle', 'wb') as handle:\n",
        "    pickle.dump(average_losses_in, handle)\n",
        "\n",
        "with open('average_losses_in.pickle', 'rb') as handle:\n",
        "    pickled_losses_in = pickle.load(handle)\n",
        "\n",
        "pickled_losses_in == average_losses_in"
      ],
      "execution_count": 28,
      "outputs": [
        {
          "output_type": "execute_result",
          "data": {
            "text/plain": [
              "True"
            ]
          },
          "metadata": {
            "tags": []
          },
          "execution_count": 28
        }
      ]
    }
  ]
}