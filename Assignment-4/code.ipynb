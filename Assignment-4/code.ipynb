{
  "nbformat": 4,
  "nbformat_minor": 5,
  "metadata": {
    "kernelspec": {
      "display_name": "Python 3",
      "language": "python",
      "name": "python3"
    },
    "language_info": {
      "codemirror_mode": {
        "name": "ipython",
        "version": 3
      },
      "file_extension": ".py",
      "mimetype": "text/x-python",
      "name": "python",
      "nbconvert_exporter": "python",
      "pygments_lexer": "ipython3",
      "version": "3.8.10"
    },
    "colab": {
      "name": "DL_NLP_A4.ipynb",
      "provenance": [],
      "collapsed_sections": [
        "u35NK6glhZ0s",
        "Vcn4O6yXhUAS",
        "_gQZRMsp9CkK",
        "AeNi5c6shpaU",
        "z_yDAST0JXN0",
        "xwoWQYq4hHwh",
        "XMWqWHVhiGq_"
      ]
    },
    "accelerator": "GPU"
  },
  "cells": [
    {
      "cell_type": "markdown",
      "metadata": {
        "id": "u35NK6glhZ0s"
      },
      "source": [
        "### **Importing**"
      ],
      "id": "u35NK6glhZ0s"
    },
    {
      "cell_type": "code",
      "metadata": {
        "id": "51e45f1a"
      },
      "source": [
        "from tensorflow import keras \n",
        "import pandas as pd\n",
        "import numpy as np\n",
        "import csv"
      ],
      "id": "51e45f1a",
      "execution_count": 1,
      "outputs": []
    },
    {
      "cell_type": "code",
      "metadata": {
        "id": "e0a8254a"
      },
      "source": [
        "import tensorflow as tf\n",
        "import string"
      ],
      "id": "e0a8254a",
      "execution_count": 2,
      "outputs": []
    },
    {
      "cell_type": "code",
      "metadata": {
        "id": "5a015db9"
      },
      "source": [
        "import re\n",
        "from tensorflow.keras import models,layers,Model\n",
        "from sklearn.model_selection import train_test_split\n",
        "from sklearn.metrics import classification_report, confusion_matrix"
      ],
      "id": "5a015db9",
      "execution_count": 3,
      "outputs": []
    },
    {
      "cell_type": "code",
      "metadata": {
        "id": "-Xfucz0amlwW"
      },
      "source": [
        "import tensorflow.keras.backend as K\n",
        "from matplotlib import pyplot as plt\n",
        "from keras.models import load_model"
      ],
      "id": "-Xfucz0amlwW",
      "execution_count": 4,
      "outputs": []
    },
    {
      "cell_type": "code",
      "metadata": {
        "id": "CVaJXBjRgJJN",
        "colab": {
          "base_uri": "https://localhost:8080/"
        },
        "outputId": "174fea72-eea9-4f6d-a5c0-9a66c5abcfa1"
      },
      "source": [
        "from google.colab import drive\n",
        "drive.mount('/content/drive')"
      ],
      "id": "CVaJXBjRgJJN",
      "execution_count": 5,
      "outputs": [
        {
          "output_type": "stream",
          "name": "stdout",
          "text": [
            "Mounted at /content/drive\n"
          ]
        }
      ]
    },
    {
      "cell_type": "markdown",
      "metadata": {
        "id": "Vcn4O6yXhUAS"
      },
      "source": [
        "### **Preprocessing**"
      ],
      "id": "Vcn4O6yXhUAS"
    },
    {
      "cell_type": "code",
      "metadata": {
        "id": "110bdd1f"
      },
      "source": [
        "df=pd.read_csv(\"/content/drive/MyDrive/Datasets/DL-NLP-A4/train.csv\")"
      ],
      "id": "110bdd1f",
      "execution_count": 6,
      "outputs": []
    },
    {
      "cell_type": "code",
      "metadata": {
        "id": "9296fd20",
        "colab": {
          "base_uri": "https://localhost:8080/",
          "height": 204
        },
        "outputId": "ede72daa-1938-4b57-e422-d84d953a1dc2"
      },
      "source": [
        "df.head()"
      ],
      "id": "9296fd20",
      "execution_count": 7,
      "outputs": [
        {
          "output_type": "execute_result",
          "data": {
            "text/html": [
              "<div>\n",
              "<style scoped>\n",
              "    .dataframe tbody tr th:only-of-type {\n",
              "        vertical-align: middle;\n",
              "    }\n",
              "\n",
              "    .dataframe tbody tr th {\n",
              "        vertical-align: top;\n",
              "    }\n",
              "\n",
              "    .dataframe thead th {\n",
              "        text-align: right;\n",
              "    }\n",
              "</style>\n",
              "<table border=\"1\" class=\"dataframe\">\n",
              "  <thead>\n",
              "    <tr style=\"text-align: right;\">\n",
              "      <th></th>\n",
              "      <th>Text</th>\n",
              "      <th>Category</th>\n",
              "    </tr>\n",
              "  </thead>\n",
              "  <tbody>\n",
              "    <tr>\n",
              "      <th>0</th>\n",
              "      <td>worldcom ex-boss launches defence lawyers defe...</td>\n",
              "      <td>business</td>\n",
              "    </tr>\n",
              "    <tr>\n",
              "      <th>1</th>\n",
              "      <td>german business confidence slides german busin...</td>\n",
              "      <td>business</td>\n",
              "    </tr>\n",
              "    <tr>\n",
              "      <th>2</th>\n",
              "      <td>bbc poll indicates economic gloom citizens in ...</td>\n",
              "      <td>business</td>\n",
              "    </tr>\n",
              "    <tr>\n",
              "      <th>3</th>\n",
              "      <td>lifestyle  governs mobile choice  faster  bett...</td>\n",
              "      <td>tech</td>\n",
              "    </tr>\n",
              "    <tr>\n",
              "      <th>4</th>\n",
              "      <td>enron bosses in $168m payout eighteen former e...</td>\n",
              "      <td>business</td>\n",
              "    </tr>\n",
              "  </tbody>\n",
              "</table>\n",
              "</div>"
            ],
            "text/plain": [
              "                                                Text  Category\n",
              "0  worldcom ex-boss launches defence lawyers defe...  business\n",
              "1  german business confidence slides german busin...  business\n",
              "2  bbc poll indicates economic gloom citizens in ...  business\n",
              "3  lifestyle  governs mobile choice  faster  bett...      tech\n",
              "4  enron bosses in $168m payout eighteen former e...  business"
            ]
          },
          "metadata": {},
          "execution_count": 7
        }
      ]
    },
    {
      "cell_type": "code",
      "metadata": {
        "id": "0c78e621"
      },
      "source": [
        "# swap labels with integers\n",
        "df.Category=df.Category.replace(\"business\",0)\n",
        "df.Category=df.Category.replace(\"tech\",1)\n",
        "df.Category=df.Category.replace(\"entertainment\",2)\n",
        "df.Category=df.Category.replace(\"sport\",3)\n",
        "df.Category=df.Category.replace(\"politics\",4)"
      ],
      "id": "0c78e621",
      "execution_count": 8,
      "outputs": []
    },
    {
      "cell_type": "code",
      "metadata": {
        "id": "eb8cc3d5",
        "colab": {
          "base_uri": "https://localhost:8080/",
          "height": 204
        },
        "outputId": "7f32557e-7164-432b-a2f7-39c2839a2ff5"
      },
      "source": [
        "df.head()"
      ],
      "id": "eb8cc3d5",
      "execution_count": 9,
      "outputs": [
        {
          "output_type": "execute_result",
          "data": {
            "text/html": [
              "<div>\n",
              "<style scoped>\n",
              "    .dataframe tbody tr th:only-of-type {\n",
              "        vertical-align: middle;\n",
              "    }\n",
              "\n",
              "    .dataframe tbody tr th {\n",
              "        vertical-align: top;\n",
              "    }\n",
              "\n",
              "    .dataframe thead th {\n",
              "        text-align: right;\n",
              "    }\n",
              "</style>\n",
              "<table border=\"1\" class=\"dataframe\">\n",
              "  <thead>\n",
              "    <tr style=\"text-align: right;\">\n",
              "      <th></th>\n",
              "      <th>Text</th>\n",
              "      <th>Category</th>\n",
              "    </tr>\n",
              "  </thead>\n",
              "  <tbody>\n",
              "    <tr>\n",
              "      <th>0</th>\n",
              "      <td>worldcom ex-boss launches defence lawyers defe...</td>\n",
              "      <td>0</td>\n",
              "    </tr>\n",
              "    <tr>\n",
              "      <th>1</th>\n",
              "      <td>german business confidence slides german busin...</td>\n",
              "      <td>0</td>\n",
              "    </tr>\n",
              "    <tr>\n",
              "      <th>2</th>\n",
              "      <td>bbc poll indicates economic gloom citizens in ...</td>\n",
              "      <td>0</td>\n",
              "    </tr>\n",
              "    <tr>\n",
              "      <th>3</th>\n",
              "      <td>lifestyle  governs mobile choice  faster  bett...</td>\n",
              "      <td>1</td>\n",
              "    </tr>\n",
              "    <tr>\n",
              "      <th>4</th>\n",
              "      <td>enron bosses in $168m payout eighteen former e...</td>\n",
              "      <td>0</td>\n",
              "    </tr>\n",
              "  </tbody>\n",
              "</table>\n",
              "</div>"
            ],
            "text/plain": [
              "                                                Text  Category\n",
              "0  worldcom ex-boss launches defence lawyers defe...         0\n",
              "1  german business confidence slides german busin...         0\n",
              "2  bbc poll indicates economic gloom citizens in ...         0\n",
              "3  lifestyle  governs mobile choice  faster  bett...         1\n",
              "4  enron bosses in $168m payout eighteen former e...         0"
            ]
          },
          "metadata": {},
          "execution_count": 9
        }
      ]
    },
    {
      "cell_type": "code",
      "metadata": {
        "id": "O4XAbXurIDIM"
      },
      "source": [
        "def is_special(text):\n",
        "    rem = ''\n",
        "    for i in text: \n",
        "        if i.isalnum():\n",
        "            rem = rem + i\n",
        "        else:\n",
        "            rem = rem + ' '\n",
        "            rem=rem+i\n",
        "            rem = rem + ' '\n",
        "    return rem\n",
        "df.Text=df.Text.apply(is_special)"
      ],
      "id": "O4XAbXurIDIM",
      "execution_count": 32,
      "outputs": []
    },
    {
      "cell_type": "code",
      "metadata": {
        "id": "2RsQlNutIITF"
      },
      "source": [
        "def rem_extra(text):\n",
        "    rem=re.sub(' +', ' ',text)\n",
        "    return str(rem).strip()\n",
        "df.Text=df.Text.apply(rem_extra)"
      ],
      "id": "2RsQlNutIITF",
      "execution_count": 33,
      "outputs": []
    },
    {
      "cell_type": "code",
      "metadata": {
        "id": "cc502001"
      },
      "source": [
        "def get_max_length(df):\n",
        "    max_length = 0\n",
        "    length=[]\n",
        "    for row in df['Text']:\n",
        "        length.append(len(row.split(\" \")))\n",
        "        if len(row.split(\" \")) > max_length:\n",
        "            max_length = len(row.split(\" \"))\n",
        "    return max_length,length"
      ],
      "id": "cc502001",
      "execution_count": 10,
      "outputs": []
    },
    {
      "cell_type": "code",
      "metadata": {
        "id": "GbMr3J_N9QGI"
      },
      "source": [
        "df_test=pd.read_csv(\"/content/drive/MyDrive/Datasets/DL-NLP-A4/test.csv\")"
      ],
      "id": "GbMr3J_N9QGI",
      "execution_count": 11,
      "outputs": []
    },
    {
      "cell_type": "code",
      "metadata": {
        "id": "Iuj2ayzyhwMu"
      },
      "source": [
        "df_label=pd.read_csv(\"/content/drive/MyDrive/Datasets/DL-NLP-A4/TestData_Labels.csv\")"
      ],
      "id": "Iuj2ayzyhwMu",
      "execution_count": 12,
      "outputs": []
    },
    {
      "cell_type": "code",
      "metadata": {
        "id": "yfrjWgPh9H_D"
      },
      "source": [
        "df_label.Category=df_label.Category.replace(\"business\",0)\n",
        "df_label.Category=df_label.Category.replace(\"tech\",1)\n",
        "df_label.Category=df_label.Category.replace(\"entertainment\",2)\n",
        "df_label.Category=df_label.Category.replace(\"sport\",3)\n",
        "df_label.Category=df_label.Category.replace(\"politics\",4)"
      ],
      "id": "yfrjWgPh9H_D",
      "execution_count": 13,
      "outputs": []
    },
    {
      "cell_type": "code",
      "metadata": {
        "colab": {
          "base_uri": "https://localhost:8080/",
          "height": 204
        },
        "id": "7RfOjrPKiHAH",
        "outputId": "c3aaf89d-2dee-4236-9fad-c0f4d76ed616"
      },
      "source": [
        "df_label.head()"
      ],
      "id": "7RfOjrPKiHAH",
      "execution_count": 14,
      "outputs": [
        {
          "output_type": "execute_result",
          "data": {
            "text/html": [
              "<div>\n",
              "<style scoped>\n",
              "    .dataframe tbody tr th:only-of-type {\n",
              "        vertical-align: middle;\n",
              "    }\n",
              "\n",
              "    .dataframe tbody tr th {\n",
              "        vertical-align: top;\n",
              "    }\n",
              "\n",
              "    .dataframe thead th {\n",
              "        text-align: right;\n",
              "    }\n",
              "</style>\n",
              "<table border=\"1\" class=\"dataframe\">\n",
              "  <thead>\n",
              "    <tr style=\"text-align: right;\">\n",
              "      <th></th>\n",
              "      <th>ArticleId</th>\n",
              "      <th>Category</th>\n",
              "    </tr>\n",
              "  </thead>\n",
              "  <tbody>\n",
              "    <tr>\n",
              "      <th>0</th>\n",
              "      <td>1018</td>\n",
              "      <td>3</td>\n",
              "    </tr>\n",
              "    <tr>\n",
              "      <th>1</th>\n",
              "      <td>1319</td>\n",
              "      <td>1</td>\n",
              "    </tr>\n",
              "    <tr>\n",
              "      <th>2</th>\n",
              "      <td>1138</td>\n",
              "      <td>0</td>\n",
              "    </tr>\n",
              "    <tr>\n",
              "      <th>3</th>\n",
              "      <td>459</td>\n",
              "      <td>2</td>\n",
              "    </tr>\n",
              "    <tr>\n",
              "      <th>4</th>\n",
              "      <td>1020</td>\n",
              "      <td>4</td>\n",
              "    </tr>\n",
              "  </tbody>\n",
              "</table>\n",
              "</div>"
            ],
            "text/plain": [
              "   ArticleId  Category\n",
              "0       1018         3\n",
              "1       1319         1\n",
              "2       1138         0\n",
              "3        459         2\n",
              "4       1020         4"
            ]
          },
          "metadata": {},
          "execution_count": 14
        }
      ]
    },
    {
      "cell_type": "code",
      "metadata": {
        "colab": {
          "base_uri": "https://localhost:8080/",
          "height": 204
        },
        "id": "tF0U9v8wiLDu",
        "outputId": "ec7073fa-e3d9-4808-a508-a9a4c65aec64"
      },
      "source": [
        "df_test.head()"
      ],
      "id": "tF0U9v8wiLDu",
      "execution_count": 15,
      "outputs": [
        {
          "output_type": "execute_result",
          "data": {
            "text/html": [
              "<div>\n",
              "<style scoped>\n",
              "    .dataframe tbody tr th:only-of-type {\n",
              "        vertical-align: middle;\n",
              "    }\n",
              "\n",
              "    .dataframe tbody tr th {\n",
              "        vertical-align: top;\n",
              "    }\n",
              "\n",
              "    .dataframe thead th {\n",
              "        text-align: right;\n",
              "    }\n",
              "</style>\n",
              "<table border=\"1\" class=\"dataframe\">\n",
              "  <thead>\n",
              "    <tr style=\"text-align: right;\">\n",
              "      <th></th>\n",
              "      <th>ArticleId</th>\n",
              "      <th>Text</th>\n",
              "    </tr>\n",
              "  </thead>\n",
              "  <tbody>\n",
              "    <tr>\n",
              "      <th>0</th>\n",
              "      <td>1018</td>\n",
              "      <td>qpr keeper day heads for preston queens park r...</td>\n",
              "    </tr>\n",
              "    <tr>\n",
              "      <th>1</th>\n",
              "      <td>1319</td>\n",
              "      <td>software watching while you work software that...</td>\n",
              "    </tr>\n",
              "    <tr>\n",
              "      <th>2</th>\n",
              "      <td>1138</td>\n",
              "      <td>d arcy injury adds to ireland woe gordon d arc...</td>\n",
              "    </tr>\n",
              "    <tr>\n",
              "      <th>3</th>\n",
              "      <td>459</td>\n",
              "      <td>india s reliance family feud heats up the ongo...</td>\n",
              "    </tr>\n",
              "    <tr>\n",
              "      <th>4</th>\n",
              "      <td>1020</td>\n",
              "      <td>boro suffer morrison injury blow middlesbrough...</td>\n",
              "    </tr>\n",
              "  </tbody>\n",
              "</table>\n",
              "</div>"
            ],
            "text/plain": [
              "   ArticleId                                               Text\n",
              "0       1018  qpr keeper day heads for preston queens park r...\n",
              "1       1319  software watching while you work software that...\n",
              "2       1138  d arcy injury adds to ireland woe gordon d arc...\n",
              "3        459  india s reliance family feud heats up the ongo...\n",
              "4       1020  boro suffer morrison injury blow middlesbrough..."
            ]
          },
          "metadata": {},
          "execution_count": 15
        }
      ]
    },
    {
      "cell_type": "markdown",
      "metadata": {
        "id": "bLMHucHm5eNh"
      },
      "source": [
        "### **Preparing new test labels**"
      ],
      "id": "bLMHucHm5eNh"
    },
    {
      "cell_type": "code",
      "metadata": {
        "id": "M1bHb_dr5jF5"
      },
      "source": [
        "df_test = pd.read_csv(\"/content/drive/MyDrive/Datasets/DL-NLP-A4/Assignment4_TestLabels.csv\")"
      ],
      "id": "M1bHb_dr5jF5",
      "execution_count": 16,
      "outputs": []
    },
    {
      "cell_type": "code",
      "metadata": {
        "id": "kx0VvzVI5zRV",
        "outputId": "9ed66d4c-c4b1-4c66-d50e-d2ddeb3e5fef",
        "colab": {
          "base_uri": "https://localhost:8080/",
          "height": 341
        }
      },
      "source": [
        "df_test.columns = ['ArticleId', 'Category']"
      ],
      "id": "kx0VvzVI5zRV",
      "execution_count": 17,
      "outputs": [
        {
          "output_type": "error",
          "ename": "ValueError",
          "evalue": "ignored",
          "traceback": [
            "\u001b[0;31m---------------------------------------------------------------------------\u001b[0m",
            "\u001b[0;31mValueError\u001b[0m                                Traceback (most recent call last)",
            "\u001b[0;32m<ipython-input-17-2a09915c72ef>\u001b[0m in \u001b[0;36m<module>\u001b[0;34m()\u001b[0m\n\u001b[0;32m----> 1\u001b[0;31m \u001b[0mdf_test\u001b[0m\u001b[0;34m.\u001b[0m\u001b[0mcolumns\u001b[0m \u001b[0;34m=\u001b[0m \u001b[0;34m[\u001b[0m\u001b[0;34m'ArticleId'\u001b[0m\u001b[0;34m,\u001b[0m \u001b[0;34m'Category'\u001b[0m\u001b[0;34m]\u001b[0m\u001b[0;34m\u001b[0m\u001b[0;34m\u001b[0m\u001b[0m\n\u001b[0m",
            "\u001b[0;32m/usr/local/lib/python3.7/dist-packages/pandas/core/generic.py\u001b[0m in \u001b[0;36m__setattr__\u001b[0;34m(self, name, value)\u001b[0m\n\u001b[1;32m   5152\u001b[0m         \u001b[0;32mtry\u001b[0m\u001b[0;34m:\u001b[0m\u001b[0;34m\u001b[0m\u001b[0;34m\u001b[0m\u001b[0m\n\u001b[1;32m   5153\u001b[0m             \u001b[0mobject\u001b[0m\u001b[0;34m.\u001b[0m\u001b[0m__getattribute__\u001b[0m\u001b[0;34m(\u001b[0m\u001b[0mself\u001b[0m\u001b[0;34m,\u001b[0m \u001b[0mname\u001b[0m\u001b[0;34m)\u001b[0m\u001b[0;34m\u001b[0m\u001b[0;34m\u001b[0m\u001b[0m\n\u001b[0;32m-> 5154\u001b[0;31m             \u001b[0;32mreturn\u001b[0m \u001b[0mobject\u001b[0m\u001b[0;34m.\u001b[0m\u001b[0m__setattr__\u001b[0m\u001b[0;34m(\u001b[0m\u001b[0mself\u001b[0m\u001b[0;34m,\u001b[0m \u001b[0mname\u001b[0m\u001b[0;34m,\u001b[0m \u001b[0mvalue\u001b[0m\u001b[0;34m)\u001b[0m\u001b[0;34m\u001b[0m\u001b[0;34m\u001b[0m\u001b[0m\n\u001b[0m\u001b[1;32m   5155\u001b[0m         \u001b[0;32mexcept\u001b[0m \u001b[0mAttributeError\u001b[0m\u001b[0;34m:\u001b[0m\u001b[0;34m\u001b[0m\u001b[0;34m\u001b[0m\u001b[0m\n\u001b[1;32m   5156\u001b[0m             \u001b[0;32mpass\u001b[0m\u001b[0;34m\u001b[0m\u001b[0;34m\u001b[0m\u001b[0m\n",
            "\u001b[0;32mpandas/_libs/properties.pyx\u001b[0m in \u001b[0;36mpandas._libs.properties.AxisProperty.__set__\u001b[0;34m()\u001b[0m\n",
            "\u001b[0;32m/usr/local/lib/python3.7/dist-packages/pandas/core/generic.py\u001b[0m in \u001b[0;36m_set_axis\u001b[0;34m(self, axis, labels)\u001b[0m\n\u001b[1;32m    562\u001b[0m     \u001b[0;32mdef\u001b[0m \u001b[0m_set_axis\u001b[0m\u001b[0;34m(\u001b[0m\u001b[0mself\u001b[0m\u001b[0;34m,\u001b[0m \u001b[0maxis\u001b[0m\u001b[0;34m:\u001b[0m \u001b[0mint\u001b[0m\u001b[0;34m,\u001b[0m \u001b[0mlabels\u001b[0m\u001b[0;34m:\u001b[0m \u001b[0mIndex\u001b[0m\u001b[0;34m)\u001b[0m \u001b[0;34m->\u001b[0m \u001b[0;32mNone\u001b[0m\u001b[0;34m:\u001b[0m\u001b[0;34m\u001b[0m\u001b[0;34m\u001b[0m\u001b[0m\n\u001b[1;32m    563\u001b[0m         \u001b[0mlabels\u001b[0m \u001b[0;34m=\u001b[0m \u001b[0mensure_index\u001b[0m\u001b[0;34m(\u001b[0m\u001b[0mlabels\u001b[0m\u001b[0;34m)\u001b[0m\u001b[0;34m\u001b[0m\u001b[0;34m\u001b[0m\u001b[0m\n\u001b[0;32m--> 564\u001b[0;31m         \u001b[0mself\u001b[0m\u001b[0;34m.\u001b[0m\u001b[0m_mgr\u001b[0m\u001b[0;34m.\u001b[0m\u001b[0mset_axis\u001b[0m\u001b[0;34m(\u001b[0m\u001b[0maxis\u001b[0m\u001b[0;34m,\u001b[0m \u001b[0mlabels\u001b[0m\u001b[0;34m)\u001b[0m\u001b[0;34m\u001b[0m\u001b[0;34m\u001b[0m\u001b[0m\n\u001b[0m\u001b[1;32m    565\u001b[0m         \u001b[0mself\u001b[0m\u001b[0;34m.\u001b[0m\u001b[0m_clear_item_cache\u001b[0m\u001b[0;34m(\u001b[0m\u001b[0;34m)\u001b[0m\u001b[0;34m\u001b[0m\u001b[0;34m\u001b[0m\u001b[0m\n\u001b[1;32m    566\u001b[0m \u001b[0;34m\u001b[0m\u001b[0m\n",
            "\u001b[0;32m/usr/local/lib/python3.7/dist-packages/pandas/core/internals/managers.py\u001b[0m in \u001b[0;36mset_axis\u001b[0;34m(self, axis, new_labels)\u001b[0m\n\u001b[1;32m    225\u001b[0m         \u001b[0;32mif\u001b[0m \u001b[0mnew_len\u001b[0m \u001b[0;34m!=\u001b[0m \u001b[0mold_len\u001b[0m\u001b[0;34m:\u001b[0m\u001b[0;34m\u001b[0m\u001b[0;34m\u001b[0m\u001b[0m\n\u001b[1;32m    226\u001b[0m             raise ValueError(\n\u001b[0;32m--> 227\u001b[0;31m                 \u001b[0;34mf\"Length mismatch: Expected axis has {old_len} elements, new \"\u001b[0m\u001b[0;34m\u001b[0m\u001b[0;34m\u001b[0m\u001b[0m\n\u001b[0m\u001b[1;32m    228\u001b[0m                 \u001b[0;34mf\"values have {new_len} elements\"\u001b[0m\u001b[0;34m\u001b[0m\u001b[0;34m\u001b[0m\u001b[0m\n\u001b[1;32m    229\u001b[0m             )\n",
            "\u001b[0;31mValueError\u001b[0m: Length mismatch: Expected axis has 30 elements, new values have 2 elements"
          ]
        }
      ]
    },
    {
      "cell_type": "code",
      "metadata": {
        "id": "ijaPmuQ26L54"
      },
      "source": [
        "df_test.head()"
      ],
      "id": "ijaPmuQ26L54",
      "execution_count": null,
      "outputs": []
    },
    {
      "cell_type": "code",
      "metadata": {
        "id": "q9_c3esb6113"
      },
      "source": [
        "df_label = df_test.copy()"
      ],
      "id": "q9_c3esb6113",
      "execution_count": null,
      "outputs": []
    },
    {
      "cell_type": "code",
      "metadata": {
        "id": "qmPheuxD6OBD"
      },
      "source": [
        "df_test = df_test[['ArticleId', 'Label - (business, tech, politics, sport, entertainment)']]"
      ],
      "id": "qmPheuxD6OBD",
      "execution_count": null,
      "outputs": []
    },
    {
      "cell_type": "markdown",
      "metadata": {
        "id": "AeNi5c6shpaU"
      },
      "source": [
        "### **Preparing the data**"
      ],
      "id": "AeNi5c6shpaU"
    },
    {
      "cell_type": "code",
      "metadata": {
        "id": "86c605c9"
      },
      "source": [
        "token=keras.preprocessing.text.Tokenizer(filters='\"#$*+/:;<=>@[\\\\]^_{|}~\\t\\n')\n",
        "token.fit_on_texts(df.Text)"
      ],
      "id": "86c605c9",
      "execution_count": 34,
      "outputs": []
    },
    {
      "cell_type": "code",
      "metadata": {
        "id": "730772a8",
        "colab": {
          "base_uri": "https://localhost:8080/"
        },
        "outputId": "db48124b-8962-4fb2-c78c-89c0dc072505"
      },
      "source": [
        "size_of_vocabulary=len(token.word_index)+1\n",
        "size_of_vocabulary"
      ],
      "id": "730772a8",
      "execution_count": 35,
      "outputs": [
        {
          "output_type": "execute_result",
          "data": {
            "text/plain": [
              "24792"
            ]
          },
          "metadata": {},
          "execution_count": 35
        }
      ]
    },
    {
      "cell_type": "code",
      "metadata": {
        "id": "ssTAIDa6EK1U"
      },
      "source": [
        "max_len=1000"
      ],
      "id": "ssTAIDa6EK1U",
      "execution_count": 36,
      "outputs": []
    },
    {
      "cell_type": "code",
      "metadata": {
        "id": "7312e50b"
      },
      "source": [
        "def prepare_text(text, token, max_len):\n",
        "    text_seqs = token.texts_to_sequences(text)\n",
        "    return tf.keras.preprocessing.sequence.pad_sequences(text_seqs, maxlen = max_len)"
      ],
      "id": "7312e50b",
      "execution_count": 37,
      "outputs": []
    },
    {
      "cell_type": "code",
      "metadata": {
        "id": "e6f98956"
      },
      "source": [
        "data_train = prepare_text(df.Text, token, max_len)\n",
        "data_test = prepare_text(df_test.Text, token, max_len)"
      ],
      "id": "e6f98956",
      "execution_count": 38,
      "outputs": []
    },
    {
      "cell_type": "code",
      "metadata": {
        "id": "SCUIB3lsDPiQ"
      },
      "source": [
        "X_train, X_valid, y_train, y_valid = train_test_split(data_train, df.Category.values, random_state=42, test_size=0.15)"
      ],
      "id": "SCUIB3lsDPiQ",
      "execution_count": 39,
      "outputs": []
    },
    {
      "cell_type": "markdown",
      "metadata": {
        "id": "z_yDAST0JXN0"
      },
      "source": [
        "### **Pretrained word vectors** "
      ],
      "id": "z_yDAST0JXN0"
    },
    {
      "cell_type": "code",
      "metadata": {
        "id": "352a3f43"
      },
      "source": [
        "def load_emb(addrs,size_of_vocabulary,tk):\n",
        "    embeddings_index = dict()\n",
        "    f = open(addrs)\n",
        "    for line in f:\n",
        "        values = line.split()\n",
        "        word = values[0]\n",
        "        coefs = np.asarray(values[1:], dtype='float32')\n",
        "        embeddings_index[word] = coefs\n",
        "\n",
        "    f.close()\n",
        "    print('Loaded %s word vectors.' % len(embeddings_index))\n",
        "    \n",
        "    embedding_matrix = np.zeros((size_of_vocabulary, 300))\n",
        "    c=0\n",
        "    for word, i in tk.word_index.items():\n",
        "        embedding_vector = embeddings_index.get(word)\n",
        "        if embedding_vector is not None:\n",
        "            embedding_matrix[i] = embedding_vector\n",
        "            c+=1\n",
        "        else:\n",
        "            pass\n",
        "    print('No. of out of vocab word in train set= %s'%(size_of_vocabulary-c))\n",
        "    \n",
        "    return embedding_matrix"
      ],
      "id": "352a3f43",
      "execution_count": 40,
      "outputs": []
    },
    {
      "cell_type": "code",
      "metadata": {
        "id": "8b23f10e",
        "colab": {
          "base_uri": "https://localhost:8080/"
        },
        "outputId": "99ca6187-1cc1-4739-b7f6-701fa1cadfb9"
      },
      "source": [
        "fasttext = load_emb(\"/content/drive/MyDrive/Embeddings/wiki-news-300d-1M-subword.vec\",size_of_vocabulary,token)"
      ],
      "id": "8b23f10e",
      "execution_count": 41,
      "outputs": [
        {
          "output_type": "stream",
          "name": "stdout",
          "text": [
            "Loaded 999995 word vectors.\n",
            "No. of out of vocab word in train set= 3471\n"
          ]
        }
      ]
    },
    {
      "cell_type": "code",
      "metadata": {
        "id": "22b7dac5",
        "colab": {
          "base_uri": "https://localhost:8080/"
        },
        "outputId": "2943e740-6d5a-44b5-f0f0-bdf4a0a9ead3"
      },
      "source": [
        "glove = load_emb(\"/content/drive/MyDrive/Embeddings/glove.6B.300d.txt\",size_of_vocabulary,token)"
      ],
      "id": "22b7dac5",
      "execution_count": 42,
      "outputs": [
        {
          "output_type": "stream",
          "name": "stdout",
          "text": [
            "Loaded 400000 word vectors.\n",
            "No. of out of vocab word in train set= 1053\n"
          ]
        }
      ]
    },
    {
      "cell_type": "code",
      "metadata": {
        "id": "ff2c9a45"
      },
      "source": [
        "def w2v():\n",
        "  from gensim import models\n",
        "  w2v = models.KeyedVectors.load_word2vec_format('/content/drive/MyDrive/Embeddings/GoogleNews-vectors-negative300.bin', binary=True)\n",
        "  embd_w2v = np.zeros((size_of_vocabulary, 300))\n",
        "  c=0\n",
        "  for word, i in token.word_index.items():\n",
        "      try:\n",
        "        embd_w2v[i] =w2v[word]   \n",
        "      except:\n",
        "        c+=1\n",
        "        \n",
        "  print('No. of out of vocab word in train set= %s'%(c))\n",
        "  return embd_w2v\n",
        "    "
      ],
      "id": "ff2c9a45",
      "execution_count": 43,
      "outputs": []
    },
    {
      "cell_type": "code",
      "metadata": {
        "id": "c2a0c62b",
        "colab": {
          "base_uri": "https://localhost:8080/"
        },
        "outputId": "4a7d7629-25a1-4370-9e09-2ff0fa7e5e36"
      },
      "source": [
        "word2vec = w2v()"
      ],
      "id": "c2a0c62b",
      "execution_count": 44,
      "outputs": [
        {
          "output_type": "stream",
          "name": "stdout",
          "text": [
            "No. of out of vocab word in train set= 5760\n"
          ]
        }
      ]
    },
    {
      "cell_type": "markdown",
      "metadata": {
        "id": "xwoWQYq4hHwh"
      },
      "source": [
        "### **Dynamic meta embedding**"
      ],
      "id": "xwoWQYq4hHwh"
    },
    {
      "cell_type": "code",
      "metadata": {
        "id": "Jazi00lykDjp"
      },
      "source": [
        "def Concat_Emb(list_emb, maxlen):\n",
        "    inputs = []\n",
        "    output = []\n",
        "    for embedding in list_emb:\n",
        "        inp = layers.Input(shape=(maxlen,))\n",
        "        emb = layers.Embedding(size_of_vocabulary, 300, weights=[embedding], trainable=False)(inp)\n",
        "        emb = layers.Reshape((-1,300,1))(emb)\n",
        "        inputs.append(inp)\n",
        "        output.append(emb)\n",
        "    concat = layers.Concatenate(axis=-1)(output)\n",
        "    return Model(inputs, concat)"
      ],
      "id": "Jazi00lykDjp",
      "execution_count": 45,
      "outputs": []
    },
    {
      "cell_type": "code",
      "metadata": {
        "id": "9b245324"
      },
      "source": [
        "def DME(maxlen):\n",
        "    inp = layers.Input(shape=(maxlen, 300, 3))\n",
        "    x = layers.Reshape((maxlen, -1))(inp)\n",
        "    x = layers.LSTM(3, return_sequences=True)(x)\n",
        "    x = layers.Activation('sigmoid')(x)\n",
        "    x = layers.Reshape((maxlen, 1, 3))(x)\n",
        "    x = layers.multiply([inp, x])\n",
        "    out = layers.Lambda(lambda t: K.sum(t, axis=-1))(x)\n",
        "    return Model(inp, out)"
      ],
      "id": "9b245324",
      "execution_count": 46,
      "outputs": []
    },
    {
      "cell_type": "markdown",
      "metadata": {
        "id": "XMWqWHVhiGq_"
      },
      "source": [
        "### **Without CNN**"
      ],
      "id": "XMWqWHVhiGq_"
    },
    {
      "cell_type": "code",
      "metadata": {
        "id": "e3aa5150"
      },
      "source": [
        "concat_inputs = Concat_Emb([fasttext, glove, word2vec], maxlen=max_len)\n",
        "\n",
        "dme = DME(max_len)\n",
        "x = dme(concat_inputs.output)\n",
        "x = layers.GRU(128, return_sequences=True)(x)\n",
        "x = layers.GRU(32)(x)\n",
        "out = layers.Dense(5, activation='softmax')(x)\n",
        "basic_model = Model(concat_inputs.input, out)\n",
        "basic_model.compile(loss='sparse_categorical_crossentropy', optimizer='adam', metrics=['accuracy'])"
      ],
      "id": "e3aa5150",
      "execution_count": null,
      "outputs": []
    },
    {
      "cell_type": "code",
      "metadata": {
        "id": "n4fsRAu625cU"
      },
      "source": [
        "early_stop = keras.callbacks.EarlyStopping(monitor='val_loss', patience=2, mode='min')"
      ],
      "id": "n4fsRAu625cU",
      "execution_count": null,
      "outputs": []
    },
    {
      "cell_type": "code",
      "metadata": {
        "colab": {
          "base_uri": "https://localhost:8080/"
        },
        "id": "FdCoysicj_EE",
        "outputId": "65a6606c-80c6-46d0-da33-b1544a8788e4"
      },
      "source": [
        "basic_model.fit([data_train]*3, df.Category.values, batch_size=64, validation_split=0.1, epochs=50,callbacks=early_stop)"
      ],
      "id": "FdCoysicj_EE",
      "execution_count": null,
      "outputs": [
        {
          "output_type": "stream",
          "name": "stdout",
          "text": [
            "Epoch 1/100\n",
            "21/21 [==============================] - 21s 549ms/step - loss: 1.4687 - accuracy: 0.4004 - val_loss: 1.3019 - val_accuracy: 0.4966\n",
            "Epoch 2/100\n",
            "21/21 [==============================] - 10s 481ms/step - loss: 0.9630 - accuracy: 0.6540 - val_loss: 0.7786 - val_accuracy: 0.7181\n",
            "Epoch 3/100\n",
            "21/21 [==============================] - 10s 482ms/step - loss: 0.5085 - accuracy: 0.8218 - val_loss: 0.4919 - val_accuracy: 0.8389\n",
            "Epoch 4/100\n",
            "21/21 [==============================] - 10s 481ms/step - loss: 0.3426 - accuracy: 0.8814 - val_loss: 0.3871 - val_accuracy: 0.8859\n",
            "Epoch 5/100\n",
            "21/21 [==============================] - 10s 483ms/step - loss: 0.2546 - accuracy: 0.9202 - val_loss: 0.3482 - val_accuracy: 0.8926\n",
            "Epoch 6/100\n",
            "21/21 [==============================] - 10s 483ms/step - loss: 0.2125 - accuracy: 0.9389 - val_loss: 0.3794 - val_accuracy: 0.8926\n",
            "Epoch 7/100\n",
            "21/21 [==============================] - 10s 482ms/step - loss: 0.2641 - accuracy: 0.9366 - val_loss: 0.2602 - val_accuracy: 0.9396\n",
            "Epoch 8/100\n",
            "21/21 [==============================] - 10s 483ms/step - loss: 0.1617 - accuracy: 0.9582 - val_loss: 0.3516 - val_accuracy: 0.9195\n",
            "Epoch 9/100\n",
            "21/21 [==============================] - 10s 483ms/step - loss: 0.2189 - accuracy: 0.9396 - val_loss: 0.1907 - val_accuracy: 0.9396\n",
            "Epoch 10/100\n",
            "21/21 [==============================] - 10s 483ms/step - loss: 0.1286 - accuracy: 0.9687 - val_loss: 0.8147 - val_accuracy: 0.8054\n",
            "Epoch 11/100\n",
            "21/21 [==============================] - 10s 481ms/step - loss: 0.4013 - accuracy: 0.8732 - val_loss: 0.3260 - val_accuracy: 0.8993\n",
            "Epoch 12/100\n",
            "21/21 [==============================] - 10s 483ms/step - loss: 0.1199 - accuracy: 0.9746 - val_loss: 0.1979 - val_accuracy: 0.9329\n"
          ]
        },
        {
          "output_type": "execute_result",
          "data": {
            "text/plain": [
              "<keras.callbacks.History at 0x7f19762c2bd0>"
            ]
          },
          "metadata": {},
          "execution_count": 46
        }
      ]
    },
    {
      "cell_type": "markdown",
      "metadata": {
        "id": "xNUaEw31igIX"
      },
      "source": [
        "### **With CNN, without self-attention**"
      ],
      "id": "xNUaEw31igIX"
    },
    {
      "cell_type": "code",
      "metadata": {
        "id": "cPsuQO0_ii9n"
      },
      "source": [
        "concat_inputs = Concat_Emb([fasttext, glove, word2vec], maxlen=max_len)\n",
        "dme = DME(max_len)\n",
        "\n",
        "x = dme(concat_inputs.output)\n",
        "x=layers.Conv1D(128, 3, activation='swish', input_shape=(1000,300), padding='same')(x)\n",
        "x = layers.GRU(64)(x)\n",
        "out = layers.Dense(5, activation='softmax')(x)\n",
        "\n",
        "CLSTM_model = Model(concat_inputs.input, out)\n",
        "CLSTM_model.compile(loss='sparse_categorical_crossentropy', optimizer='adam', metrics=['accuracy'])"
      ],
      "id": "cPsuQO0_ii9n",
      "execution_count": 53,
      "outputs": []
    },
    {
      "cell_type": "code",
      "metadata": {
        "id": "fJ3BwyHluI8a"
      },
      "source": [
        "early_stop = keras.callbacks.EarlyStopping(monitor='val_loss', patience=3, mode='min')"
      ],
      "id": "fJ3BwyHluI8a",
      "execution_count": 51,
      "outputs": []
    },
    {
      "cell_type": "code",
      "metadata": {
        "colab": {
          "base_uri": "https://localhost:8080/"
        },
        "id": "wJ9rpBd6pcRS",
        "outputId": "7f5b62a5-e09f-4095-e605-67946a62dfd7"
      },
      "source": [
        "CLSTM_model.fit([X_train]*3, y_train, validation_data=([X_valid]*3, y_valid) ,batch_size=16, epochs=50, callbacks = early_stop)"
      ],
      "id": "wJ9rpBd6pcRS",
      "execution_count": 54,
      "outputs": [
        {
          "output_type": "stream",
          "name": "stdout",
          "text": [
            "Epoch 1/50\n",
            "80/80 [==============================] - 24s 260ms/step - loss: 1.2520 - accuracy: 0.4842 - val_loss: 1.0805 - val_accuracy: 0.5625\n",
            "Epoch 2/50\n",
            "80/80 [==============================] - 18s 228ms/step - loss: 0.5491 - accuracy: 0.8096 - val_loss: 0.2796 - val_accuracy: 0.9152\n",
            "Epoch 3/50\n",
            "80/80 [==============================] - 18s 228ms/step - loss: 0.2011 - accuracy: 0.9384 - val_loss: 0.1643 - val_accuracy: 0.9554\n",
            "Epoch 4/50\n",
            "80/80 [==============================] - 18s 228ms/step - loss: 0.1108 - accuracy: 0.9676 - val_loss: 0.1646 - val_accuracy: 0.9643\n",
            "Epoch 5/50\n",
            "80/80 [==============================] - 19s 244ms/step - loss: 0.0655 - accuracy: 0.9842 - val_loss: 0.0842 - val_accuracy: 0.9821\n",
            "Epoch 6/50\n",
            "80/80 [==============================] - 19s 244ms/step - loss: 0.0723 - accuracy: 0.9771 - val_loss: 0.0855 - val_accuracy: 0.9732\n",
            "Epoch 7/50\n",
            "80/80 [==============================] - 19s 244ms/step - loss: 0.0564 - accuracy: 0.9850 - val_loss: 0.1348 - val_accuracy: 0.9643\n",
            "Epoch 8/50\n",
            "80/80 [==============================] - 19s 244ms/step - loss: 0.0244 - accuracy: 0.9961 - val_loss: 0.0788 - val_accuracy: 0.9821\n",
            "Epoch 9/50\n",
            "80/80 [==============================] - 19s 244ms/step - loss: 0.0145 - accuracy: 0.9984 - val_loss: 0.0778 - val_accuracy: 0.9866\n",
            "Epoch 10/50\n",
            "80/80 [==============================] - 19s 244ms/step - loss: 0.0088 - accuracy: 0.9992 - val_loss: 0.0887 - val_accuracy: 0.9777\n",
            "Epoch 11/50\n",
            "80/80 [==============================] - 18s 228ms/step - loss: 0.0068 - accuracy: 0.9992 - val_loss: 0.0853 - val_accuracy: 0.9777\n",
            "Epoch 12/50\n",
            "80/80 [==============================] - 19s 244ms/step - loss: 0.0054 - accuracy: 0.9992 - val_loss: 0.0772 - val_accuracy: 0.9866\n",
            "Epoch 13/50\n",
            "80/80 [==============================] - 19s 244ms/step - loss: 0.0043 - accuracy: 0.9992 - val_loss: 0.0822 - val_accuracy: 0.9821\n",
            "Epoch 14/50\n",
            "80/80 [==============================] - 19s 243ms/step - loss: 0.0034 - accuracy: 0.9992 - val_loss: 0.0801 - val_accuracy: 0.9866\n",
            "Epoch 15/50\n",
            "80/80 [==============================] - 19s 244ms/step - loss: 0.0027 - accuracy: 0.9992 - val_loss: 0.0832 - val_accuracy: 0.9866\n"
          ]
        },
        {
          "output_type": "execute_result",
          "data": {
            "text/plain": [
              "<keras.callbacks.History at 0x7f3ad7933290>"
            ]
          },
          "metadata": {},
          "execution_count": 54
        }
      ]
    },
    {
      "cell_type": "markdown",
      "metadata": {
        "id": "Cx0wcFy2dr-Q"
      },
      "source": [
        "### **With self-attention**"
      ],
      "id": "Cx0wcFy2dr-Q"
    },
    {
      "cell_type": "code",
      "metadata": {
        "colab": {
          "base_uri": "https://localhost:8080/"
        },
        "id": "c3DxbWgpKtsd",
        "outputId": "d39c757e-bbd0-4b07-f6a8-e478e68bb001"
      },
      "source": [
        "!pip install keras-self-attention"
      ],
      "id": "c3DxbWgpKtsd",
      "execution_count": 56,
      "outputs": [
        {
          "output_type": "stream",
          "name": "stdout",
          "text": [
            "Collecting keras-self-attention\n",
            "  Downloading keras-self-attention-0.50.0.tar.gz (12 kB)\n",
            "Requirement already satisfied: numpy in /usr/local/lib/python3.7/dist-packages (from keras-self-attention) (1.19.5)\n",
            "Requirement already satisfied: Keras in /usr/local/lib/python3.7/dist-packages (from keras-self-attention) (2.6.0)\n",
            "Building wheels for collected packages: keras-self-attention\n",
            "  Building wheel for keras-self-attention (setup.py) ... \u001b[?25l\u001b[?25hdone\n",
            "  Created wheel for keras-self-attention: filename=keras_self_attention-0.50.0-py3-none-any.whl size=19414 sha256=b077e0669758839be2c241556bf7e3f7c029e860ea6ff09497bff22978197f08\n",
            "  Stored in directory: /root/.cache/pip/wheels/92/7a/a3/231bef5803298e7ec1815215bc0613239cb1e9c03c57b13c14\n",
            "Successfully built keras-self-attention\n",
            "Installing collected packages: keras-self-attention\n",
            "Successfully installed keras-self-attention-0.50.0\n"
          ]
        }
      ]
    },
    {
      "cell_type": "code",
      "metadata": {
        "id": "3kmC-5wXd1oF"
      },
      "source": [
        "from keras_self_attention import SeqSelfAttention\n",
        "\n",
        "concat_inputs = Concat_Emb([fasttext, glove, word2vec], maxlen=max_len)\n",
        "dme = DME(max_len)\n",
        "\n",
        "x = dme(concat_inputs.output)\n",
        "x=layers.Conv1D(128, 3, activation='swish', input_shape=(1000,300),padding='same')(x)\n",
        "x = layers.GRU(64, return_sequences=True)(x)\n",
        "x = SeqSelfAttention(attention_activation='sigmoid')(x)\n",
        "x = layers.GlobalAvgPool1D()(x)\n",
        "out = layers.Dense(5, activation='softmax')(x)\n",
        "\n",
        "attention_model = Model(concat_inputs.input, out)\n",
        "attention_model.compile(loss='sparse_categorical_crossentropy', optimizer='adam', metrics=['accuracy'])"
      ],
      "id": "3kmC-5wXd1oF",
      "execution_count": null,
      "outputs": []
    },
    {
      "cell_type": "code",
      "metadata": {
        "colab": {
          "base_uri": "https://localhost:8080/"
        },
        "id": "r1imr9IRxfnc",
        "outputId": "77b50bc2-f770-4fed-caa9-3cd82cc1b751"
      },
      "source": [
        "attention_model.fit([X_train]*3, y_train, validation_data=([X_valid]*3,y_valid), batch_size=16, epochs=100, callbacks=early_stop)"
      ],
      "id": "r1imr9IRxfnc",
      "execution_count": null,
      "outputs": [
        {
          "output_type": "stream",
          "name": "stdout",
          "text": [
            "Epoch 1/100\n",
            "84/84 [==============================] - 91s 653ms/step - loss: 0.8064 - accuracy: 0.7069 - val_loss: 0.2585 - val_accuracy: 0.9329\n",
            "Epoch 2/100\n",
            "84/84 [==============================] - 54s 640ms/step - loss: 0.2920 - accuracy: 0.9113 - val_loss: 0.1398 - val_accuracy: 0.9799\n",
            "Epoch 3/100\n",
            "84/84 [==============================] - 54s 640ms/step - loss: 0.2292 - accuracy: 0.9277 - val_loss: 0.1496 - val_accuracy: 0.9530\n",
            "Epoch 4/100\n",
            "84/84 [==============================] - 54s 640ms/step - loss: 0.1671 - accuracy: 0.9463 - val_loss: 0.0771 - val_accuracy: 0.9799\n",
            "Epoch 5/100\n",
            "84/84 [==============================] - 54s 640ms/step - loss: 0.1438 - accuracy: 0.9590 - val_loss: 0.0931 - val_accuracy: 0.9866\n",
            "Epoch 6/100\n",
            "84/84 [==============================] - 54s 640ms/step - loss: 0.1160 - accuracy: 0.9672 - val_loss: 0.0594 - val_accuracy: 0.9799\n",
            "Epoch 7/100\n",
            "84/84 [==============================] - 54s 640ms/step - loss: 0.0757 - accuracy: 0.9799 - val_loss: 0.0964 - val_accuracy: 0.9664\n",
            "Epoch 8/100\n",
            "84/84 [==============================] - 54s 639ms/step - loss: 0.1277 - accuracy: 0.9582 - val_loss: 0.3771 - val_accuracy: 0.9060\n",
            "Epoch 9/100\n",
            "84/84 [==============================] - 54s 639ms/step - loss: 0.0888 - accuracy: 0.9732 - val_loss: 0.0508 - val_accuracy: 0.9799\n",
            "Epoch 10/100\n",
            "84/84 [==============================] - 54s 640ms/step - loss: 0.0435 - accuracy: 0.9888 - val_loss: 0.0414 - val_accuracy: 0.9799\n",
            "Epoch 11/100\n",
            "84/84 [==============================] - 54s 640ms/step - loss: 0.0626 - accuracy: 0.9821 - val_loss: 0.0983 - val_accuracy: 0.9597\n",
            "Epoch 12/100\n",
            "84/84 [==============================] - 54s 639ms/step - loss: 0.0510 - accuracy: 0.9851 - val_loss: 0.0517 - val_accuracy: 0.9866\n",
            "Epoch 13/100\n",
            "84/84 [==============================] - 54s 639ms/step - loss: 0.0613 - accuracy: 0.9888 - val_loss: 0.1129 - val_accuracy: 0.9732\n"
          ]
        },
        {
          "output_type": "execute_result",
          "data": {
            "text/plain": [
              "<keras.callbacks.History at 0x7f194f09dc90>"
            ]
          },
          "metadata": {},
          "execution_count": 58
        }
      ]
    },
    {
      "cell_type": "markdown",
      "metadata": {
        "id": "hqtvCFdiL_1b"
      },
      "source": [
        "### **Slightly different architecture**"
      ],
      "id": "hqtvCFdiL_1b"
    },
    {
      "cell_type": "code",
      "metadata": {
        "id": "ZmlRJBOZL_Mm"
      },
      "source": [
        "from keras_self_attention import SeqSelfAttention\n",
        "\n",
        "concat_inputs = Concat_Emb([fasttext, glove, word2vec], maxlen=max_len)\n",
        "dme = DME(max_len)\n",
        "\n",
        "x = dme(concat_inputs.output)\n",
        "x=layers.Conv1D(128, 3, activation='swish', input_shape=(1000,300),padding='same')(x)\n",
        "x = layers.GRU(64, return_sequences=True)(x)\n",
        "x = SeqSelfAttention(attention_activation='sigmoid')(x)\n",
        "x = layers.GlobalAvgPool1D()(x)\n",
        "out = layers.Dense(5, activation='softmax')(x)\n",
        "\n",
        "attention_model2 = Model(concat_inputs.input, out)\n",
        "attention_model2.compile(loss='sparse_categorical_crossentropy', optimizer='adam', metrics=['accuracy'])"
      ],
      "id": "ZmlRJBOZL_Mm",
      "execution_count": 58,
      "outputs": []
    },
    {
      "cell_type": "code",
      "metadata": {
        "id": "DgNW97xMMJjJ",
        "outputId": "86a8ea2c-e735-497f-980f-c6a309bda772",
        "colab": {
          "base_uri": "https://localhost:8080/"
        }
      },
      "source": [
        "attention_model2.fit([X_train]*3, y_train, validation_data=([X_valid]*3,y_valid), batch_size=16, epochs=30, callbacks=early_stop)"
      ],
      "id": "DgNW97xMMJjJ",
      "execution_count": 60,
      "outputs": [
        {
          "output_type": "stream",
          "name": "stdout",
          "text": [
            "Epoch 1/30\n",
            "80/80 [==============================] - 51s 632ms/step - loss: 0.0136 - accuracy: 0.9976 - val_loss: 0.0955 - val_accuracy: 0.9777\n",
            "Epoch 2/30\n",
            "80/80 [==============================] - 53s 657ms/step - loss: 0.0151 - accuracy: 0.9984 - val_loss: 0.1015 - val_accuracy: 0.9777\n",
            "Epoch 3/30\n",
            "80/80 [==============================] - 52s 657ms/step - loss: 0.0080 - accuracy: 0.9984 - val_loss: 0.1394 - val_accuracy: 0.9509\n",
            "Epoch 4/30\n",
            "80/80 [==============================] - 52s 657ms/step - loss: 0.0095 - accuracy: 0.9992 - val_loss: 0.1075 - val_accuracy: 0.9688\n"
          ]
        },
        {
          "output_type": "execute_result",
          "data": {
            "text/plain": [
              "<keras.callbacks.History at 0x7f3ae005fa50>"
            ]
          },
          "metadata": {},
          "execution_count": 60
        }
      ]
    },
    {
      "cell_type": "code",
      "metadata": {
        "colab": {
          "base_uri": "https://localhost:8080/"
        },
        "id": "n6M8xLNifCR-",
        "outputId": "c4cfca61-1849-43b0-e992-1e2f731280ce"
      },
      "source": [
        "model.save('/content/drive/MyDrive/Models/DL-NLP-A4/')"
      ],
      "id": "n6M8xLNifCR-",
      "execution_count": null,
      "outputs": [
        {
          "output_type": "stream",
          "name": "stderr",
          "text": [
            "WARNING:absl:Found untraced functions such as lstm_cell_7_layer_call_fn, lstm_cell_7_layer_call_and_return_conditional_losses, lstm_cell_6_layer_call_fn, lstm_cell_6_layer_call_and_return_conditional_losses, lstm_cell_7_layer_call_fn while saving (showing 5 of 10). These functions will not be directly callable after loading.\n"
          ]
        },
        {
          "output_type": "stream",
          "name": "stdout",
          "text": [
            "INFO:tensorflow:Assets written to: /content/drive/MyDrive/Models/DL-NLP-A4/assets\n"
          ]
        },
        {
          "output_type": "stream",
          "name": "stderr",
          "text": [
            "INFO:tensorflow:Assets written to: /content/drive/MyDrive/Models/DL-NLP-A4/assets\n",
            "/usr/local/lib/python3.7/dist-packages/keras/utils/generic_utils.py:497: CustomMaskWarning: Custom mask layers require a config and must override get_config. When loading, the custom mask layer must be passed to the custom_objects argument.\n",
            "  category=CustomMaskWarning)\n"
          ]
        }
      ]
    },
    {
      "cell_type": "code",
      "metadata": {
        "id": "Ns7EAISH4fy0"
      },
      "source": [
        "y_pred=model.predict([data_test]*3)"
      ],
      "id": "Ns7EAISH4fy0",
      "execution_count": null,
      "outputs": []
    },
    {
      "cell_type": "code",
      "metadata": {
        "colab": {
          "base_uri": "https://localhost:8080/"
        },
        "id": "8clWUi-f4ovB",
        "outputId": "1629d246-37ef-43f1-cbad-0f38020adcbb"
      },
      "source": [
        "print(classification_report(df_label.Category.values,np.argmax(y_pred,axis=1)))"
      ],
      "id": "8clWUi-f4ovB",
      "execution_count": null,
      "outputs": [
        {
          "output_type": "stream",
          "name": "stdout",
          "text": [
            "              precision    recall  f1-score   support\n",
            "\n",
            "           0       0.93      0.98      0.96       176\n",
            "           1       0.96      0.95      0.96       135\n",
            "           2       0.94      0.90      0.92       113\n",
            "           3       1.00      0.98      0.99       168\n",
            "           4       0.95      0.97      0.96       143\n",
            "\n",
            "    accuracy                           0.96       735\n",
            "   macro avg       0.96      0.96      0.96       735\n",
            "weighted avg       0.96      0.96      0.96       735\n",
            "\n"
          ]
        }
      ]
    },
    {
      "cell_type": "code",
      "metadata": {
        "colab": {
          "base_uri": "https://localhost:8080/"
        },
        "id": "9sObzhMA7TH0",
        "outputId": "e4712c03-6a0f-4f33-8bad-447bc7f66ab2"
      },
      "source": [
        "np.argmax(y_pred,axis=1)"
      ],
      "id": "9sObzhMA7TH0",
      "execution_count": null,
      "outputs": [
        {
          "output_type": "execute_result",
          "data": {
            "text/plain": [
              "array([3, 1, 3, 0, 3, 3, 4, 4, 2, 0, 0, 1, 4, 1, 2, 3, 4, 1, 2, 2, 0, 4,\n",
              "       3, 0, 4, 3, 0, 3, 3, 0, 4, 1, 0, 0, 3, 3, 3, 0, 2, 4, 1, 4, 2, 1,\n",
              "       3, 1, 2, 0, 4, 0, 4, 0, 0, 0, 1, 0, 1, 2, 3, 1, 3, 2, 1, 4, 0, 2,\n",
              "       3, 1, 3, 3, 0, 3, 0, 4, 1, 3, 1, 1, 1, 2, 4, 3, 2, 0, 0, 2, 0, 2,\n",
              "       0, 1, 0, 4, 3, 1, 3, 3, 3, 3, 3, 3, 4, 3, 4, 2, 0, 3, 4, 3, 0, 2,\n",
              "       3, 0, 2, 3, 4, 3, 4, 3, 4, 0, 1, 0, 2, 2, 1, 3, 0, 2, 0, 2, 0, 4,\n",
              "       4, 1, 0, 0, 4, 1, 2, 3, 0, 1, 3, 2, 4, 3, 3, 2, 2, 1, 0, 1, 4, 1,\n",
              "       3, 3, 3, 3, 2, 1, 0, 1, 0, 1, 0, 1, 2, 1, 1, 4, 0, 4, 0, 0, 2, 4,\n",
              "       1, 0, 0, 1, 3, 4, 3, 4, 1, 1, 4, 0, 4, 2, 4, 0, 2, 3, 1, 1, 0, 1,\n",
              "       4, 0, 3, 4, 0, 2, 0, 0, 3, 1, 0, 3, 2, 2, 3, 2, 3, 1, 4, 2, 3, 2,\n",
              "       3, 2, 4, 0, 1, 2, 0, 4, 0, 1, 0, 3, 4, 4, 0, 4, 3, 0, 0, 4, 3, 4,\n",
              "       0, 3, 1, 0, 4, 0, 4, 0, 0, 3, 1, 4, 2, 1, 2, 2, 3, 3, 1, 3, 3, 3,\n",
              "       2, 3, 4, 1, 0, 3, 0, 3, 0, 3, 2, 0, 0, 2, 4, 0, 3, 3, 1, 3, 3, 2,\n",
              "       0, 3, 1, 4, 2, 0, 0, 4, 3, 2, 4, 0, 3, 3, 1, 2, 3, 0, 1, 0, 3, 4,\n",
              "       4, 4, 4, 2, 4, 0, 4, 1, 0, 3, 1, 2, 4, 3, 4, 4, 1, 4, 3, 1, 4, 1,\n",
              "       1, 2, 4, 1, 4, 0, 4, 3, 2, 2, 2, 0, 3, 1, 1, 2, 1, 0, 3, 2, 1, 0,\n",
              "       4, 0, 1, 4, 4, 3, 0, 1, 3, 4, 4, 0, 1, 3, 4, 0, 4, 4, 1, 2, 0, 0,\n",
              "       3, 3, 3, 1, 1, 4, 1, 1, 4, 0, 3, 3, 2, 2, 3, 1, 1, 3, 1, 2, 4, 1,\n",
              "       3, 0, 4, 2, 0, 1, 3, 4, 0, 0, 4, 1, 3, 2, 0, 1, 0, 1, 1, 3, 4, 0,\n",
              "       1, 3, 4, 0, 0, 1, 4, 1, 0, 4, 0, 2, 0, 2, 4, 2, 3, 0, 4, 0, 3, 2,\n",
              "       0, 2, 2, 3, 1, 2, 2, 0, 4, 2, 4, 4, 3, 0, 0, 4, 2, 2, 0, 0, 3, 4,\n",
              "       1, 0, 4, 0, 3, 3, 4, 3, 1, 0, 4, 3, 4, 1, 0, 4, 1, 4, 4, 2, 1, 3,\n",
              "       3, 4, 0, 1, 4, 3, 3, 2, 0, 0, 2, 0, 4, 3, 4, 1, 1, 0, 4, 3, 0, 3,\n",
              "       0, 4, 0, 3, 4, 1, 3, 4, 0, 1, 4, 3, 4, 2, 3, 4, 0, 0, 0, 1, 4, 4,\n",
              "       3, 0, 1, 1, 1, 3, 1, 4, 0, 0, 3, 0, 4, 0, 1, 1, 3, 1, 0, 3, 0, 0,\n",
              "       0, 4, 4, 2, 2, 2, 4, 1, 1, 0, 2, 0, 3, 3, 4, 2, 4, 3, 0, 0, 0, 2,\n",
              "       1, 3, 0, 4, 4, 1, 4, 3, 4, 0, 1, 0, 3, 3, 1, 3, 2, 1, 2, 1, 3, 4,\n",
              "       0, 1, 4, 4, 2, 4, 0, 0, 1, 0, 0, 0, 3, 2, 0, 3, 0, 3, 1, 0, 4, 3,\n",
              "       0, 3, 3, 2, 4, 1, 3, 0, 3, 0, 3, 3, 4, 1, 0, 1, 0, 3, 1, 0, 2, 0,\n",
              "       2, 3, 1, 0, 0, 0, 4, 3, 2, 1, 0, 3, 2, 0, 2, 0, 4, 3, 3, 0, 1, 3,\n",
              "       0, 0, 0, 0, 0, 2, 1, 3, 4, 1, 4, 1, 3, 1, 2, 0, 0, 4, 4, 3, 3, 3,\n",
              "       2, 1, 4, 2, 3, 3, 4, 1, 4, 2, 3, 2, 3, 2, 1, 3, 3, 0, 1, 2, 0, 1,\n",
              "       0, 0, 3, 2, 4, 2, 0, 4, 0, 4, 3, 1, 1, 4, 2, 0, 2, 2, 2, 4, 0, 0,\n",
              "       4, 4, 1, 3, 0, 2, 0, 0, 4])"
            ]
          },
          "metadata": {},
          "execution_count": 84
        }
      ]
    },
    {
      "cell_type": "code",
      "metadata": {
        "id": "K1PoVMcNn0hm"
      },
      "source": [
        "for i in range(len(labels)):\n",
        "  index = np.argmax(labels[i])\n",
        "  labels[i] = np.zeros(5)\n",
        "  labels[index] = 1"
      ],
      "id": "K1PoVMcNn0hm",
      "execution_count": null,
      "outputs": []
    },
    {
      "cell_type": "code",
      "metadata": {
        "id": "bQmgH6ZZoeqb"
      },
      "source": [
        "temp = labels.argmax(axis = 1)"
      ],
      "id": "bQmgH6ZZoeqb",
      "execution_count": null,
      "outputs": []
    },
    {
      "cell_type": "code",
      "metadata": {
        "colab": {
          "base_uri": "https://localhost:8080/"
        },
        "id": "GyLq5-n1ot33",
        "outputId": "3b10a189-6123-4fc2-e1c8-57a1f10ff1eb"
      },
      "source": [
        "labels"
      ],
      "id": "GyLq5-n1ot33",
      "execution_count": null,
      "outputs": [
        {
          "output_type": "execute_result",
          "data": {
            "text/plain": [
              "array([[1., 1., 1., 1., 1.],\n",
              "       [1., 1., 1., 1., 1.],\n",
              "       [1., 1., 1., 1., 1.],\n",
              "       ...,\n",
              "       [0., 0., 0., 0., 0.],\n",
              "       [0., 0., 0., 0., 0.],\n",
              "       [0., 0., 0., 0., 0.]], dtype=float32)"
            ]
          },
          "metadata": {},
          "execution_count": 82
        }
      ]
    },
    {
      "cell_type": "code",
      "metadata": {
        "colab": {
          "base_uri": "https://localhost:8080/"
        },
        "id": "bAd2igevpL2J",
        "outputId": "ff338306-a519-45a5-eedf-a71cffe7894c"
      },
      "source": [
        "df_label.Category.values,np.argmax(y_pred,axis=1)"
      ],
      "id": "bAd2igevpL2J",
      "execution_count": null,
      "outputs": [
        {
          "output_type": "execute_result",
          "data": {
            "text/plain": [
              "(array([3, 1, 0, 2, 4, 3, 1, 0, 2, 4, 3, 1, 0, 2, 4, 3, 1, 0, 2, 4, 3, 1,\n",
              "        0, 2, 4, 3, 1, 0, 2, 4, 3, 1, 0, 2, 4, 3, 1, 0, 2, 4, 3, 1, 0, 2,\n",
              "        4, 3, 1, 0, 2, 4, 3, 1, 0, 2, 4, 3, 1, 0, 2, 4, 3, 1, 0, 2, 4, 3,\n",
              "        1, 0, 2, 4, 3, 1, 0, 2, 4, 3, 1, 0, 2, 4, 3, 1, 0, 2, 4, 3, 1, 0,\n",
              "        2, 4, 3, 1, 0, 2, 4, 3, 1, 0, 2, 4, 3, 1, 0, 2, 4, 3, 1, 0, 2, 4,\n",
              "        3, 1, 0, 2, 4, 3, 1, 0, 2, 4, 3, 1, 0, 2, 4, 3, 1, 0, 2, 4, 3, 1,\n",
              "        0, 2, 4, 3, 1, 0, 2, 4, 3, 1, 0, 2, 4, 3, 1, 0, 2, 4, 3, 1, 0, 2,\n",
              "        4, 3, 1, 0, 2, 4, 3, 1, 0, 2, 4, 3, 1, 0, 2, 4, 3, 1, 0, 2, 4, 3,\n",
              "        1, 0, 2, 4, 3, 1, 0, 2, 4, 3, 1, 0, 2, 4, 3, 1, 0, 2, 4, 3, 1, 0,\n",
              "        2, 4, 3, 1, 0, 2, 4, 3, 1, 0, 2, 4, 3, 1, 0, 2, 4, 3, 1, 0, 2, 4,\n",
              "        3, 1, 0, 2, 4, 3, 1, 0, 2, 4, 3, 1, 0, 2, 4, 3, 1, 0, 2, 4, 3, 1,\n",
              "        0, 2, 4, 3, 1, 0, 2, 4, 3, 1, 0, 2, 4, 3, 1, 0, 2, 4, 3, 1, 0, 2,\n",
              "        4, 3, 1, 0, 2, 4, 3, 1, 0, 2, 4, 3, 1, 0, 2, 4, 3, 1, 0, 2, 4, 3,\n",
              "        1, 0, 2, 4, 3, 1, 0, 2, 4, 3, 1, 0, 2, 4, 3, 1, 0, 2, 4, 3, 1, 0,\n",
              "        2, 4, 3, 1, 0, 2, 4, 3, 1, 0, 2, 4, 3, 1, 0, 2, 4, 3, 1, 0, 2, 4,\n",
              "        3, 1, 0, 2, 4, 3, 1, 0, 2, 4, 3, 1, 0, 2, 4, 3, 1, 0, 2, 4, 3, 1,\n",
              "        0, 2, 4, 3, 1, 0, 2, 4, 3, 1, 0, 2, 4, 3, 1, 0, 2, 4, 3, 1, 0, 2,\n",
              "        4, 3, 1, 0, 2, 4, 3, 1, 0, 2, 4, 3, 1, 0, 2, 4, 3, 1, 0, 2, 4, 3,\n",
              "        1, 0, 2, 4, 3, 1, 0, 2, 4, 3, 1, 0, 2, 4, 3, 1, 0, 2, 4, 3, 1, 0,\n",
              "        2, 4, 3, 1, 0, 2, 4, 3, 1, 0, 2, 4, 3, 1, 0, 2, 4, 3, 1, 0, 2, 4,\n",
              "        3, 1, 0, 2, 4, 3, 1, 0, 2, 4, 3, 1, 0, 2, 4, 3, 1, 0, 2, 4, 3, 1,\n",
              "        0, 2, 4, 3, 1, 0, 2, 4, 3, 1, 0, 2, 4, 3, 1, 0, 2, 4, 3, 1, 0, 2,\n",
              "        4, 3, 1, 0, 2, 4, 3, 1, 0, 2, 4, 3, 1, 0, 2, 4, 3, 1, 0, 2, 4, 3,\n",
              "        1, 0, 2, 4, 3, 1, 0, 2, 4, 3, 1, 0, 2, 4, 3, 1, 0, 2, 4, 3, 1, 0,\n",
              "        2, 4, 3, 1, 0, 2, 4, 3, 1, 0, 2, 4, 3, 1, 0, 2, 4, 3, 1, 0, 2, 4,\n",
              "        3, 1, 0, 2, 4, 3, 1, 0, 2, 4, 3, 1, 0, 2, 4, 3, 1, 0, 2, 4, 3, 1,\n",
              "        0, 2, 4, 3, 1, 0, 2, 4, 3, 1, 0, 2, 4, 3, 1, 0, 2, 4, 3, 1, 0, 2,\n",
              "        4, 3, 1, 0, 2, 4, 3, 1, 0, 2, 4, 3, 1, 0, 2, 4, 3, 1, 0, 2, 4, 3,\n",
              "        1, 0, 2, 4, 3, 1, 0, 2, 4, 3, 1, 0, 2, 4, 3, 1, 0, 2, 4, 3, 1, 0,\n",
              "        2, 4, 3, 1, 0, 2, 4, 3, 1, 0, 2, 4, 3, 1, 0, 2, 4, 3, 1, 0, 2, 4,\n",
              "        3, 1, 0, 2, 4, 3, 1, 0, 2, 4, 3, 1, 0, 2, 4, 3, 1, 0, 2, 4, 3, 1,\n",
              "        0, 2, 4, 3, 1, 0, 2, 4, 3, 1, 0, 2, 4, 3, 1, 0, 2, 4, 3, 1, 0, 2,\n",
              "        4, 3, 1, 0, 2, 4, 3, 1, 0, 2, 4, 3, 1, 0, 2, 4, 3, 1, 0, 2, 4, 3,\n",
              "        1, 0, 2, 4, 3, 1, 0, 2, 4]),\n",
              " array([3, 1, 3, 0, 3, 3, 4, 4, 2, 0, 0, 1, 2, 1, 2, 3, 4, 1, 2, 2, 0, 4,\n",
              "        3, 0, 4, 3, 0, 3, 3, 0, 4, 1, 0, 0, 3, 3, 3, 0, 2, 2, 1, 4, 2, 1,\n",
              "        3, 1, 2, 0, 4, 0, 4, 0, 0, 0, 1, 0, 1, 2, 3, 1, 3, 2, 1, 4, 2, 2,\n",
              "        3, 1, 3, 3, 1, 3, 0, 4, 1, 3, 1, 1, 1, 2, 4, 3, 2, 2, 0, 2, 0, 2,\n",
              "        0, 1, 2, 4, 3, 1, 3, 3, 3, 3, 3, 3, 4, 3, 4, 2, 0, 3, 4, 3, 4, 2,\n",
              "        3, 0, 2, 3, 4, 3, 4, 3, 4, 0, 2, 0, 2, 2, 1, 3, 0, 2, 0, 2, 0, 4,\n",
              "        4, 1, 0, 0, 4, 1, 2, 3, 0, 1, 3, 2, 4, 3, 3, 2, 2, 1, 0, 1, 4, 1,\n",
              "        3, 3, 3, 3, 2, 1, 0, 1, 0, 1, 0, 1, 2, 1, 1, 4, 0, 4, 0, 0, 2, 4,\n",
              "        1, 2, 0, 1, 3, 4, 3, 4, 1, 1, 4, 0, 4, 2, 4, 0, 2, 3, 1, 1, 0, 1,\n",
              "        4, 0, 3, 4, 0, 2, 0, 0, 3, 1, 0, 3, 2, 2, 3, 2, 3, 1, 4, 2, 3, 2,\n",
              "        3, 2, 4, 0, 1, 2, 0, 4, 0, 1, 0, 3, 4, 4, 0, 4, 3, 0, 2, 4, 3, 2,\n",
              "        0, 3, 1, 1, 4, 0, 4, 0, 0, 3, 1, 4, 2, 1, 2, 1, 3, 3, 1, 3, 3, 3,\n",
              "        2, 3, 4, 1, 2, 3, 0, 3, 0, 3, 2, 0, 0, 2, 4, 0, 3, 3, 1, 3, 3, 2,\n",
              "        0, 3, 1, 4, 2, 0, 0, 4, 3, 2, 4, 0, 3, 3, 1, 2, 3, 0, 1, 0, 3, 4,\n",
              "        4, 2, 4, 2, 4, 0, 4, 1, 0, 3, 1, 2, 4, 3, 4, 4, 1, 4, 3, 1, 4, 1,\n",
              "        1, 2, 4, 1, 4, 0, 4, 3, 0, 2, 2, 0, 3, 1, 0, 2, 1, 0, 3, 2, 1, 0,\n",
              "        4, 1, 1, 4, 4, 3, 0, 1, 3, 2, 4, 0, 1, 3, 4, 0, 4, 4, 1, 2, 0, 0,\n",
              "        3, 3, 3, 1, 3, 4, 1, 1, 4, 0, 3, 3, 2, 2, 3, 1, 1, 3, 1, 2, 2, 1,\n",
              "        3, 0, 4, 2, 0, 1, 3, 4, 0, 0, 4, 1, 3, 2, 0, 1, 0, 1, 3, 3, 4, 0,\n",
              "        1, 3, 4, 0, 0, 1, 4, 1, 0, 4, 0, 2, 0, 2, 0, 2, 3, 0, 4, 0, 3, 2,\n",
              "        0, 2, 2, 3, 1, 2, 1, 0, 4, 2, 4, 4, 3, 0, 3, 4, 2, 2, 0, 0, 3, 4,\n",
              "        1, 2, 4, 0, 3, 3, 4, 3, 1, 0, 4, 3, 4, 1, 0, 4, 1, 4, 0, 2, 1, 3,\n",
              "        3, 4, 0, 1, 4, 3, 3, 2, 0, 2, 2, 0, 4, 3, 4, 1, 1, 0, 4, 3, 0, 3,\n",
              "        0, 4, 0, 3, 4, 1, 3, 4, 0, 1, 4, 3, 4, 2, 3, 4, 0, 0, 0, 1, 4, 4,\n",
              "        3, 0, 1, 1, 1, 3, 1, 4, 1, 0, 3, 2, 4, 0, 1, 1, 3, 1, 0, 3, 0, 0,\n",
              "        0, 4, 4, 2, 2, 2, 4, 1, 1, 0, 2, 0, 3, 3, 4, 2, 4, 3, 0, 0, 0, 2,\n",
              "        1, 3, 0, 4, 4, 1, 4, 3, 4, 0, 1, 0, 3, 3, 1, 3, 2, 1, 2, 1, 3, 4,\n",
              "        0, 1, 1, 2, 2, 4, 0, 0, 1, 0, 3, 0, 3, 2, 0, 3, 0, 3, 1, 0, 4, 3,\n",
              "        0, 3, 3, 2, 4, 1, 3, 0, 3, 0, 3, 3, 4, 1, 0, 1, 0, 3, 1, 0, 2, 0,\n",
              "        2, 3, 1, 3, 0, 0, 4, 3, 2, 1, 0, 3, 2, 0, 2, 0, 4, 3, 3, 0, 1, 3,\n",
              "        0, 0, 0, 2, 0, 2, 1, 3, 4, 1, 4, 1, 3, 1, 2, 0, 0, 2, 4, 3, 3, 3,\n",
              "        2, 1, 4, 2, 3, 3, 4, 1, 4, 2, 3, 2, 3, 1, 1, 3, 3, 0, 1, 2, 0, 1,\n",
              "        0, 0, 3, 2, 4, 2, 2, 4, 0, 4, 3, 1, 1, 4, 2, 0, 1, 2, 2, 4, 0, 0,\n",
              "        2, 4, 1, 3, 0, 2, 0, 0, 4]))"
            ]
          },
          "metadata": {},
          "execution_count": 87
        }
      ]
    },
    {
      "cell_type": "code",
      "metadata": {
        "colab": {
          "base_uri": "https://localhost:8080/"
        },
        "id": "B0d6p0ChpZhu",
        "outputId": "63423584-1ce7-4d0c-b5d0-438fb974b243"
      },
      "source": [
        "preds = np.argmax(y_pred,axis=1)\n",
        "preds"
      ],
      "id": "B0d6p0ChpZhu",
      "execution_count": null,
      "outputs": [
        {
          "output_type": "execute_result",
          "data": {
            "text/plain": [
              "array([3, 1, 3, 0, 3, 3, 4, 4, 2, 0, 0, 1, 4, 1, 2, 3, 4, 1, 2, 2, 0, 4,\n",
              "       3, 0, 4, 3, 0, 3, 3, 0, 4, 1, 0, 0, 3, 3, 3, 0, 2, 4, 1, 4, 2, 1,\n",
              "       3, 1, 2, 0, 4, 0, 4, 0, 0, 0, 1, 0, 1, 2, 3, 1, 3, 2, 1, 4, 0, 2,\n",
              "       3, 1, 3, 3, 0, 3, 0, 4, 1, 3, 1, 1, 1, 2, 4, 3, 2, 0, 0, 2, 0, 2,\n",
              "       0, 1, 0, 4, 3, 1, 3, 3, 3, 3, 3, 3, 4, 3, 4, 2, 0, 3, 4, 3, 0, 2,\n",
              "       3, 0, 2, 3, 4, 3, 4, 3, 4, 0, 1, 0, 2, 2, 1, 3, 0, 2, 0, 2, 0, 4,\n",
              "       4, 1, 0, 0, 4, 1, 2, 3, 0, 1, 3, 2, 4, 3, 3, 2, 2, 1, 0, 1, 4, 1,\n",
              "       3, 3, 3, 3, 2, 1, 0, 1, 0, 1, 0, 1, 2, 1, 1, 4, 0, 4, 0, 0, 2, 4,\n",
              "       1, 0, 0, 1, 3, 4, 3, 4, 1, 1, 4, 0, 4, 2, 4, 0, 2, 3, 1, 1, 0, 1,\n",
              "       4, 0, 3, 4, 0, 2, 0, 0, 3, 1, 0, 3, 2, 2, 3, 2, 3, 1, 4, 2, 3, 2,\n",
              "       3, 2, 4, 0, 1, 2, 0, 4, 0, 1, 0, 3, 4, 4, 0, 4, 3, 0, 0, 4, 3, 4,\n",
              "       0, 3, 1, 0, 4, 0, 4, 0, 0, 3, 1, 4, 2, 1, 2, 2, 3, 3, 1, 3, 3, 3,\n",
              "       2, 3, 4, 1, 0, 3, 0, 3, 0, 3, 2, 0, 0, 2, 4, 0, 3, 3, 1, 3, 3, 2,\n",
              "       0, 3, 1, 4, 2, 0, 0, 4, 3, 2, 4, 0, 3, 3, 1, 2, 3, 0, 1, 0, 3, 4,\n",
              "       4, 4, 4, 2, 4, 0, 4, 1, 0, 3, 1, 2, 4, 3, 4, 4, 1, 4, 3, 1, 4, 1,\n",
              "       1, 2, 4, 1, 4, 0, 4, 3, 2, 2, 2, 0, 3, 1, 1, 2, 1, 0, 3, 2, 1, 0,\n",
              "       4, 0, 1, 4, 4, 3, 0, 1, 3, 4, 4, 0, 1, 3, 4, 0, 4, 4, 1, 2, 0, 0,\n",
              "       3, 3, 3, 1, 1, 4, 1, 1, 4, 0, 3, 3, 2, 2, 3, 1, 1, 3, 1, 2, 4, 1,\n",
              "       3, 0, 4, 2, 0, 1, 3, 4, 0, 0, 4, 1, 3, 2, 0, 1, 0, 1, 1, 3, 4, 0,\n",
              "       1, 3, 4, 0, 0, 1, 4, 1, 0, 4, 0, 2, 0, 2, 4, 2, 3, 0, 4, 0, 3, 2,\n",
              "       0, 2, 2, 3, 1, 2, 2, 0, 4, 2, 4, 4, 3, 0, 0, 4, 2, 2, 0, 0, 3, 4,\n",
              "       1, 0, 4, 0, 3, 3, 4, 3, 1, 0, 4, 3, 4, 1, 0, 4, 1, 4, 4, 2, 1, 3,\n",
              "       3, 4, 0, 1, 4, 3, 3, 2, 0, 0, 2, 0, 4, 3, 4, 1, 1, 0, 4, 3, 0, 3,\n",
              "       0, 4, 0, 3, 4, 1, 3, 4, 0, 1, 4, 3, 4, 2, 3, 4, 0, 0, 0, 1, 4, 4,\n",
              "       3, 0, 1, 1, 1, 3, 1, 4, 0, 0, 3, 0, 4, 0, 1, 1, 3, 1, 0, 3, 0, 0,\n",
              "       0, 4, 4, 2, 2, 2, 4, 1, 1, 0, 2, 0, 3, 3, 4, 2, 4, 3, 0, 0, 0, 2,\n",
              "       1, 3, 0, 4, 4, 1, 4, 3, 4, 0, 1, 0, 3, 3, 1, 3, 2, 1, 2, 1, 3, 4,\n",
              "       0, 1, 4, 4, 2, 4, 0, 0, 1, 0, 0, 0, 3, 2, 0, 3, 0, 3, 1, 0, 4, 3,\n",
              "       0, 3, 3, 2, 4, 1, 3, 0, 3, 0, 3, 3, 4, 1, 0, 1, 0, 3, 1, 0, 2, 0,\n",
              "       2, 3, 1, 0, 0, 0, 4, 3, 2, 1, 0, 3, 2, 0, 2, 0, 4, 3, 3, 0, 1, 3,\n",
              "       0, 0, 0, 0, 0, 2, 1, 3, 4, 1, 4, 1, 3, 1, 2, 0, 0, 4, 4, 3, 3, 3,\n",
              "       2, 1, 4, 2, 3, 3, 4, 1, 4, 2, 3, 2, 3, 2, 1, 3, 3, 0, 1, 2, 0, 1,\n",
              "       0, 0, 3, 2, 4, 2, 0, 4, 0, 4, 3, 1, 1, 4, 2, 0, 2, 2, 2, 4, 0, 0,\n",
              "       4, 4, 1, 3, 0, 2, 0, 0, 4])"
            ]
          },
          "metadata": {},
          "execution_count": 88
        }
      ]
    },
    {
      "cell_type": "code",
      "metadata": {
        "id": "R_u10Hcipfeq"
      },
      "source": [
        "df_pred.Category=df_pred.Category.replace(0, \"business\")\n",
        "df_pred.Category=df_pred.Category.replace(1, \"tech\")\n",
        "df_pred.Category=df_pred.Category.replace(2, \"entertainment\")\n",
        "df_pred.Category=df_pred.Category.replace(3, \"sport\")\n",
        "df_pred.Category=df_pred.Category.replace(4, \"politics\")"
      ],
      "id": "R_u10Hcipfeq",
      "execution_count": null,
      "outputs": []
    },
    {
      "cell_type": "code",
      "metadata": {
        "colab": {
          "base_uri": "https://localhost:8080/",
          "height": 419
        },
        "id": "webZGrT4ppUU",
        "outputId": "3ad1b2c0-47bf-41b5-a720-e04b8961bbbf"
      },
      "source": [
        "df_label"
      ],
      "id": "webZGrT4ppUU",
      "execution_count": null,
      "outputs": [
        {
          "output_type": "execute_result",
          "data": {
            "text/html": [
              "<div>\n",
              "<style scoped>\n",
              "    .dataframe tbody tr th:only-of-type {\n",
              "        vertical-align: middle;\n",
              "    }\n",
              "\n",
              "    .dataframe tbody tr th {\n",
              "        vertical-align: top;\n",
              "    }\n",
              "\n",
              "    .dataframe thead th {\n",
              "        text-align: right;\n",
              "    }\n",
              "</style>\n",
              "<table border=\"1\" class=\"dataframe\">\n",
              "  <thead>\n",
              "    <tr style=\"text-align: right;\">\n",
              "      <th></th>\n",
              "      <th>ArticleId</th>\n",
              "      <th>Category</th>\n",
              "    </tr>\n",
              "  </thead>\n",
              "  <tbody>\n",
              "    <tr>\n",
              "      <th>0</th>\n",
              "      <td>1018</td>\n",
              "      <td>3</td>\n",
              "    </tr>\n",
              "    <tr>\n",
              "      <th>1</th>\n",
              "      <td>1319</td>\n",
              "      <td>1</td>\n",
              "    </tr>\n",
              "    <tr>\n",
              "      <th>2</th>\n",
              "      <td>1138</td>\n",
              "      <td>3</td>\n",
              "    </tr>\n",
              "    <tr>\n",
              "      <th>3</th>\n",
              "      <td>459</td>\n",
              "      <td>0</td>\n",
              "    </tr>\n",
              "    <tr>\n",
              "      <th>4</th>\n",
              "      <td>1020</td>\n",
              "      <td>3</td>\n",
              "    </tr>\n",
              "    <tr>\n",
              "      <th>...</th>\n",
              "      <td>...</td>\n",
              "      <td>...</td>\n",
              "    </tr>\n",
              "    <tr>\n",
              "      <th>730</th>\n",
              "      <td>1923</td>\n",
              "      <td>0</td>\n",
              "    </tr>\n",
              "    <tr>\n",
              "      <th>731</th>\n",
              "      <td>373</td>\n",
              "      <td>2</td>\n",
              "    </tr>\n",
              "    <tr>\n",
              "      <th>732</th>\n",
              "      <td>1704</td>\n",
              "      <td>3</td>\n",
              "    </tr>\n",
              "    <tr>\n",
              "      <th>733</th>\n",
              "      <td>206</td>\n",
              "      <td>0</td>\n",
              "    </tr>\n",
              "    <tr>\n",
              "      <th>734</th>\n",
              "      <td>471</td>\n",
              "      <td>4</td>\n",
              "    </tr>\n",
              "  </tbody>\n",
              "</table>\n",
              "<p>735 rows × 2 columns</p>\n",
              "</div>"
            ],
            "text/plain": [
              "     ArticleId  Category\n",
              "0         1018         3\n",
              "1         1319         1\n",
              "2         1138         3\n",
              "3          459         0\n",
              "4         1020         3\n",
              "..         ...       ...\n",
              "730       1923         0\n",
              "731        373         2\n",
              "732       1704         3\n",
              "733        206         0\n",
              "734        471         4\n",
              "\n",
              "[735 rows x 2 columns]"
            ]
          },
          "metadata": {},
          "execution_count": 85
        }
      ]
    },
    {
      "cell_type": "code",
      "metadata": {
        "id": "JeJ8wS1Pp5vm"
      },
      "source": [
        "df_pred = df_label.copy()"
      ],
      "id": "JeJ8wS1Pp5vm",
      "execution_count": null,
      "outputs": []
    },
    {
      "cell_type": "code",
      "metadata": {
        "id": "ZfALEbK__kpv"
      },
      "source": [
        "preds"
      ],
      "id": "ZfALEbK__kpv",
      "execution_count": null,
      "outputs": []
    },
    {
      "cell_type": "code",
      "metadata": {
        "id": "ewtPSfetp9J2"
      },
      "source": [
        "df_pred.Category = preds"
      ],
      "id": "ewtPSfetp9J2",
      "execution_count": null,
      "outputs": []
    },
    {
      "cell_type": "code",
      "metadata": {
        "colab": {
          "base_uri": "https://localhost:8080/",
          "height": 419
        },
        "id": "EFXnmBNcp__2",
        "outputId": "00916ca8-117a-4a0b-fece-50118edb8f38"
      },
      "source": [
        "df_pred"
      ],
      "id": "EFXnmBNcp__2",
      "execution_count": null,
      "outputs": [
        {
          "output_type": "execute_result",
          "data": {
            "text/html": [
              "<div>\n",
              "<style scoped>\n",
              "    .dataframe tbody tr th:only-of-type {\n",
              "        vertical-align: middle;\n",
              "    }\n",
              "\n",
              "    .dataframe tbody tr th {\n",
              "        vertical-align: top;\n",
              "    }\n",
              "\n",
              "    .dataframe thead th {\n",
              "        text-align: right;\n",
              "    }\n",
              "</style>\n",
              "<table border=\"1\" class=\"dataframe\">\n",
              "  <thead>\n",
              "    <tr style=\"text-align: right;\">\n",
              "      <th></th>\n",
              "      <th>ArticleId</th>\n",
              "      <th>Category</th>\n",
              "    </tr>\n",
              "  </thead>\n",
              "  <tbody>\n",
              "    <tr>\n",
              "      <th>0</th>\n",
              "      <td>1018</td>\n",
              "      <td>sport</td>\n",
              "    </tr>\n",
              "    <tr>\n",
              "      <th>1</th>\n",
              "      <td>1319</td>\n",
              "      <td>tech</td>\n",
              "    </tr>\n",
              "    <tr>\n",
              "      <th>2</th>\n",
              "      <td>1138</td>\n",
              "      <td>sport</td>\n",
              "    </tr>\n",
              "    <tr>\n",
              "      <th>3</th>\n",
              "      <td>459</td>\n",
              "      <td>business</td>\n",
              "    </tr>\n",
              "    <tr>\n",
              "      <th>4</th>\n",
              "      <td>1020</td>\n",
              "      <td>sport</td>\n",
              "    </tr>\n",
              "    <tr>\n",
              "      <th>...</th>\n",
              "      <td>...</td>\n",
              "      <td>...</td>\n",
              "    </tr>\n",
              "    <tr>\n",
              "      <th>730</th>\n",
              "      <td>1923</td>\n",
              "      <td>business</td>\n",
              "    </tr>\n",
              "    <tr>\n",
              "      <th>731</th>\n",
              "      <td>373</td>\n",
              "      <td>entertainment</td>\n",
              "    </tr>\n",
              "    <tr>\n",
              "      <th>732</th>\n",
              "      <td>1704</td>\n",
              "      <td>business</td>\n",
              "    </tr>\n",
              "    <tr>\n",
              "      <th>733</th>\n",
              "      <td>206</td>\n",
              "      <td>business</td>\n",
              "    </tr>\n",
              "    <tr>\n",
              "      <th>734</th>\n",
              "      <td>471</td>\n",
              "      <td>politics</td>\n",
              "    </tr>\n",
              "  </tbody>\n",
              "</table>\n",
              "<p>735 rows × 2 columns</p>\n",
              "</div>"
            ],
            "text/plain": [
              "     ArticleId       Category\n",
              "0         1018          sport\n",
              "1         1319           tech\n",
              "2         1138          sport\n",
              "3          459       business\n",
              "4         1020          sport\n",
              "..         ...            ...\n",
              "730       1923       business\n",
              "731        373  entertainment\n",
              "732       1704       business\n",
              "733        206       business\n",
              "734        471       politics\n",
              "\n",
              "[735 rows x 2 columns]"
            ]
          },
          "metadata": {},
          "execution_count": 95
        }
      ]
    },
    {
      "cell_type": "code",
      "metadata": {
        "id": "IV5wDoQAqcOy"
      },
      "source": [
        "df_pred.to_csv('/content/drive/MyDrive/Datasets/DL-NLP-A4/solution.csv', index_label = False)"
      ],
      "id": "IV5wDoQAqcOy",
      "execution_count": null,
      "outputs": []
    },
    {
      "cell_type": "code",
      "metadata": {
        "id": "xObIPZvrre9R"
      },
      "source": [
        "temp = pd.read_csv('/content/drive/MyDrive/Colab Notebooks/DATASETS/assgn4/solution.csv')"
      ],
      "id": "xObIPZvrre9R",
      "execution_count": null,
      "outputs": []
    },
    {
      "cell_type": "code",
      "metadata": {
        "colab": {
          "base_uri": "https://localhost:8080/",
          "height": 419
        },
        "id": "401CQg0Grl5A",
        "outputId": "091ae177-636d-461e-fc7e-5105d3fe3e5d"
      },
      "source": [
        "temp"
      ],
      "id": "401CQg0Grl5A",
      "execution_count": null,
      "outputs": [
        {
          "output_type": "execute_result",
          "data": {
            "text/html": [
              "<div>\n",
              "<style scoped>\n",
              "    .dataframe tbody tr th:only-of-type {\n",
              "        vertical-align: middle;\n",
              "    }\n",
              "\n",
              "    .dataframe tbody tr th {\n",
              "        vertical-align: top;\n",
              "    }\n",
              "\n",
              "    .dataframe thead th {\n",
              "        text-align: right;\n",
              "    }\n",
              "</style>\n",
              "<table border=\"1\" class=\"dataframe\">\n",
              "  <thead>\n",
              "    <tr style=\"text-align: right;\">\n",
              "      <th></th>\n",
              "      <th>ArticleId</th>\n",
              "      <th>Category</th>\n",
              "    </tr>\n",
              "  </thead>\n",
              "  <tbody>\n",
              "    <tr>\n",
              "      <th>0</th>\n",
              "      <td>1018</td>\n",
              "      <td>sport</td>\n",
              "    </tr>\n",
              "    <tr>\n",
              "      <th>1</th>\n",
              "      <td>1319</td>\n",
              "      <td>tech</td>\n",
              "    </tr>\n",
              "    <tr>\n",
              "      <th>2</th>\n",
              "      <td>1138</td>\n",
              "      <td>sport</td>\n",
              "    </tr>\n",
              "    <tr>\n",
              "      <th>3</th>\n",
              "      <td>459</td>\n",
              "      <td>business</td>\n",
              "    </tr>\n",
              "    <tr>\n",
              "      <th>4</th>\n",
              "      <td>1020</td>\n",
              "      <td>sport</td>\n",
              "    </tr>\n",
              "    <tr>\n",
              "      <th>...</th>\n",
              "      <td>...</td>\n",
              "      <td>...</td>\n",
              "    </tr>\n",
              "    <tr>\n",
              "      <th>730</th>\n",
              "      <td>1923</td>\n",
              "      <td>business</td>\n",
              "    </tr>\n",
              "    <tr>\n",
              "      <th>731</th>\n",
              "      <td>373</td>\n",
              "      <td>entertainment</td>\n",
              "    </tr>\n",
              "    <tr>\n",
              "      <th>732</th>\n",
              "      <td>1704</td>\n",
              "      <td>business</td>\n",
              "    </tr>\n",
              "    <tr>\n",
              "      <th>733</th>\n",
              "      <td>206</td>\n",
              "      <td>business</td>\n",
              "    </tr>\n",
              "    <tr>\n",
              "      <th>734</th>\n",
              "      <td>471</td>\n",
              "      <td>politics</td>\n",
              "    </tr>\n",
              "  </tbody>\n",
              "</table>\n",
              "<p>735 rows × 2 columns</p>\n",
              "</div>"
            ],
            "text/plain": [
              "     ArticleId       Category\n",
              "0         1018          sport\n",
              "1         1319           tech\n",
              "2         1138          sport\n",
              "3          459       business\n",
              "4         1020          sport\n",
              "..         ...            ...\n",
              "730       1923       business\n",
              "731        373  entertainment\n",
              "732       1704       business\n",
              "733        206       business\n",
              "734        471       politics\n",
              "\n",
              "[735 rows x 2 columns]"
            ]
          },
          "metadata": {},
          "execution_count": 99
        }
      ]
    },
    {
      "cell_type": "markdown",
      "metadata": {
        "id": "BksWCg9AHJaR"
      },
      "source": [
        "### **Load Saved Model**\n",
        "\n"
      ],
      "id": "BksWCg9AHJaR"
    },
    {
      "cell_type": "code",
      "metadata": {
        "colab": {
          "base_uri": "https://localhost:8080/"
        },
        "id": "tPHkfVBtHef5",
        "outputId": "071ce0a9-7daf-4884-c216-a1608d1fe5da"
      },
      "source": [
        "loaded_model = keras.models.load_model('/content/drive/MyDrive/Models/DL-NLP-A4/')\n",
        "loaded_model.summary()"
      ],
      "id": "tPHkfVBtHef5",
      "execution_count": null,
      "outputs": [
        {
          "output_type": "stream",
          "name": "stdout",
          "text": [
            "Model: \"model_10\"\n",
            "__________________________________________________________________________________________________\n",
            "Layer (type)                    Output Shape         Param #     Connected to                     \n",
            "==================================================================================================\n",
            "input_13 (InputLayer)           [(None, 1000)]       0                                            \n",
            "__________________________________________________________________________________________________\n",
            "input_14 (InputLayer)           [(None, 1000)]       0                                            \n",
            "__________________________________________________________________________________________________\n",
            "input_15 (InputLayer)           [(None, 1000)]       0                                            \n",
            "__________________________________________________________________________________________________\n",
            "embedding_9 (Embedding)         (None, 1000, 300)    7437600     input_13[0][0]                   \n",
            "__________________________________________________________________________________________________\n",
            "embedding_10 (Embedding)        (None, 1000, 300)    7437600     input_14[0][0]                   \n",
            "__________________________________________________________________________________________________\n",
            "embedding_11 (Embedding)        (None, 1000, 300)    7437600     input_15[0][0]                   \n",
            "__________________________________________________________________________________________________\n",
            "reshape_15 (Reshape)            (None, 1000, 300, 1) 0           embedding_9[0][0]                \n",
            "__________________________________________________________________________________________________\n",
            "reshape_16 (Reshape)            (None, 1000, 300, 1) 0           embedding_10[0][0]               \n",
            "__________________________________________________________________________________________________\n",
            "reshape_17 (Reshape)            (None, 1000, 300, 1) 0           embedding_11[0][0]               \n",
            "__________________________________________________________________________________________________\n",
            "concatenate_3 (Concatenate)     (None, 1000, 300, 3) 0           reshape_15[0][0]                 \n",
            "                                                                 reshape_16[0][0]                 \n",
            "                                                                 reshape_17[0][0]                 \n",
            "__________________________________________________________________________________________________\n",
            "model_9 (Functional)            (None, 1000, 300)    10848       concatenate_3[0][0]              \n",
            "__________________________________________________________________________________________________\n",
            "conv1d_2 (Conv1D)               (None, 1000, 128)    115328      model_9[0][0]                    \n",
            "__________________________________________________________________________________________________\n",
            "lstm_7 (LSTM)                   (None, 1000, 64)     49408       conv1d_2[0][0]                   \n",
            "__________________________________________________________________________________________________\n",
            "seq_self_attention (SeqSelfAtte (None, None, 64)     4161        lstm_7[0][0]                     \n",
            "__________________________________________________________________________________________________\n",
            "global_average_pooling1d (Globa (None, 64)           0           seq_self_attention[0][0]         \n",
            "__________________________________________________________________________________________________\n",
            "dense_2 (Dense)                 (None, 5)            325         global_average_pooling1d[0][0]   \n",
            "==================================================================================================\n",
            "Total params: 22,492,870\n",
            "Trainable params: 180,070\n",
            "Non-trainable params: 22,312,800\n",
            "__________________________________________________________________________________________________\n"
          ]
        }
      ]
    },
    {
      "cell_type": "code",
      "metadata": {
        "id": "9KS1r9d2Htni"
      },
      "source": [
        "y_pred=loaded_model.predict([data_test]*3)"
      ],
      "id": "9KS1r9d2Htni",
      "execution_count": null,
      "outputs": []
    },
    {
      "cell_type": "code",
      "metadata": {
        "id": "-CDWRSZOH2jp"
      },
      "source": [
        "print(classification_report(df_label.Category.values,np.argmax(y_pred,axis=1)))"
      ],
      "id": "-CDWRSZOH2jp",
      "execution_count": null,
      "outputs": []
    }
  ]
}