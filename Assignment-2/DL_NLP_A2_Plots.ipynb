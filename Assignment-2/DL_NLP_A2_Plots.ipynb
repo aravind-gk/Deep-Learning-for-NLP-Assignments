{
  "nbformat": 4,
  "nbformat_minor": 0,
  "metadata": {
    "kernelspec": {
      "display_name": "Python 3",
      "language": "python",
      "name": "python3"
    },
    "language_info": {
      "codemirror_mode": {
        "name": "ipython",
        "version": 3
      },
      "file_extension": ".py",
      "mimetype": "text/x-python",
      "name": "python",
      "nbconvert_exporter": "python",
      "pygments_lexer": "ipython3",
      "version": "3.8.5"
    },
    "colab": {
      "name": "DL-NLP-A2-Plots.ipynb",
      "provenance": [],
      "collapsed_sections": [
        "514yvaB2RjtT",
        "0Ewf_I5sRUpg",
        "Cdv8sqI8Z_7v"
      ]
    }
  },
  "cells": [
    {
      "cell_type": "markdown",
      "metadata": {
        "id": "514yvaB2RjtT"
      },
      "source": [
        "# **Import headers**"
      ]
    },
    {
      "cell_type": "code",
      "metadata": {
        "id": "vdgeatsBCUYQ"
      },
      "source": [
        "import pandas as pd\n",
        "import numpy as np\n",
        "import seaborn as sns\n",
        "import matplotlib.pyplot as plt\n",
        "\n",
        "##  SKlearn libs for regressions\n",
        "from sklearn import metrics, linear_model\n",
        "from sklearn.model_selection import train_test_split, RandomizedSearchCV, GridSearchCV\n",
        "from sklearn.feature_selection import SelectKBest, chi2, f_classif\n",
        "from sklearn.preprocessing import PolynomialFeatures\n",
        "from sklearn.ensemble import RandomForestRegressor\n",
        "from sklearn.model_selection import train_test_split\n",
        "\n",
        "##Importing Libraries for Neural Nets\n",
        "import keras\n",
        "from keras.models import Sequential, model_from_json\n",
        "from keras.layers import Dense, Dropout, Activation\n",
        "import math\n",
        "from tqdm import tqdm\n",
        "import pickle \n",
        "\n",
        "from sklearn.feature_extraction.text import TfidfVectorizer\n",
        "from sklearn.datasets import fetch_20newsgroups\n",
        "from pprint import pprint\n",
        "from sklearn.naive_bayes import MultinomialNB\n",
        "from sklearn.metrics import f1_score, classification_report\n",
        "from sklearn.naive_bayes import GaussianNB\n",
        "from sklearn.manifold import TSNE\n",
        "import tensorflow as tf\n",
        "from keras.utils.np_utils import to_categorical\n",
        "from tqdm.keras import TqdmCallback\n",
        "\n",
        "from sklearn.model_selection import cross_val_score\n",
        "from sklearn.model_selection import KFold\n",
        "from sklearn.preprocessing import LabelEncoder\n",
        "from sklearn.pipeline import Pipeline\n",
        "\n",
        "pd.set_option('display.max_columns', None)  # or 1000\n",
        "pd.set_option('display.max_rows', 100) "
      ],
      "execution_count": 1,
      "outputs": []
    },
    {
      "cell_type": "code",
      "metadata": {
        "id": "ipsPvFyFoSvE"
      },
      "source": [
        "!pip install matplotlib --upgrade\n",
        "!pip install seaborn --upgrade\n",
        "# !pip install matplotlib==3.1.3"
      ],
      "execution_count": null,
      "outputs": []
    },
    {
      "cell_type": "markdown",
      "metadata": {
        "id": "VSaGrhpWDKQy"
      },
      "source": [
        "# **Explore neural network models**"
      ]
    },
    {
      "cell_type": "code",
      "metadata": {
        "id": "xbB2q_R4RdxB"
      },
      "source": [
        "cats = ['rec.sport.hockey', 'sci.electronics', 'rec.autos']\n",
        "vectorizer = TfidfVectorizer()"
      ],
      "execution_count": 5,
      "outputs": []
    },
    {
      "cell_type": "markdown",
      "metadata": {
        "id": "0Ewf_I5sRUpg"
      },
      "source": [
        "#### **Fetch and prepare raw data**"
      ]
    },
    {
      "cell_type": "code",
      "metadata": {
        "id": "Zn14h1aGRcrS"
      },
      "source": [
        "news_train = np.array(fetch_20newsgroups(subset='train', categories=cats).data)\n",
        "news_test = np.array(fetch_20newsgroups(subset='test', categories=cats).data)\n",
        "news = np.concatenate((news_train, news_test), axis = 0) # Concatenating to ensure common vocabulary\n",
        "\n",
        "X = vectorizer.fit_transform(news).toarray()\n",
        "X_train = X[:1785].copy()\n",
        "X_test = X[1785:].copy()\n",
        "\n",
        "y_train = fetch_20newsgroups(subset='train', categories=cats).target\n",
        "y_test = fetch_20newsgroups(subset='test', categories=cats).target"
      ],
      "execution_count": 6,
      "outputs": []
    },
    {
      "cell_type": "code",
      "metadata": {
        "id": "NXW0CO8CgK87"
      },
      "source": [
        "# print(news_train[0])"
      ],
      "execution_count": 7,
      "outputs": []
    },
    {
      "cell_type": "markdown",
      "metadata": {
        "id": "Cdv8sqI8Z_7v"
      },
      "source": [
        "#### **Fetch and prepare cleaned data (without headers and footers)**"
      ]
    },
    {
      "cell_type": "code",
      "metadata": {
        "id": "_HMWIyVIGIDZ"
      },
      "source": [
        "news_train = fetch_20newsgroups(subset='train', remove=('headers', 'footers', 'quotes'), categories=cats).data\n",
        "news_test = fetch_20newsgroups(subset='test', remove=('headers', 'footers', 'quotes'), categories=cats).data\n",
        "\n",
        "X_train = vectorizer.fit_transform(news_train).toarray()\n",
        "X_test = vectorizer.transform(news_test).toarray()\n",
        "\n",
        "y_train = fetch_20newsgroups(subset='train', remove=('headers', 'footers', 'quotes'), categories=cats).target\n",
        "y_test = fetch_20newsgroups(subset='test', remove=('headers', 'footers', 'quotes'), categories=cats).target"
      ],
      "execution_count": null,
      "outputs": []
    },
    {
      "cell_type": "code",
      "metadata": {
        "id": "uJVsC5qDG5M1"
      },
      "source": [
        "# print(news_train[0])"
      ],
      "execution_count": null,
      "outputs": []
    },
    {
      "cell_type": "code",
      "metadata": {
        "colab": {
          "base_uri": "https://localhost:8080/"
        },
        "id": "KyAWmC9KpQlt",
        "outputId": "2da05b07-8b4f-462c-c991-df4d59f6e2dd"
      },
      "source": [
        "print(X_train.shape)\n",
        "print(X_test.shape)\n",
        "print(y_train.shape)\n",
        "print(y_test.shape)"
      ],
      "execution_count": null,
      "outputs": [
        {
          "output_type": "stream",
          "text": [
            "(1785, 19663)\n",
            "(1188, 19663)\n",
            "(1785,)\n",
            "(1188,)\n"
          ],
          "name": "stdout"
        }
      ]
    },
    {
      "cell_type": "markdown",
      "metadata": {
        "id": "HulD3Y5gaMfb"
      },
      "source": [
        "#### **Convert the TF-IDF vectors from sparse to dense, and make labels one-hot**"
      ]
    },
    {
      "cell_type": "code",
      "metadata": {
        "colab": {
          "base_uri": "https://localhost:8080/"
        },
        "id": "ihBOsweW3C1w",
        "outputId": "00681bb8-86c6-4039-f647-23af9b7ab412"
      },
      "source": [
        "y_train\n",
        "# class 0: rec.auto, class 1: rec.sport.hockey, class 2: rec.sci.electronics"
      ],
      "execution_count": 12,
      "outputs": [
        {
          "output_type": "execute_result",
          "data": {
            "text/plain": [
              "array([1, 0, 2, ..., 0, 1, 2])"
            ]
          },
          "metadata": {},
          "execution_count": 12
        }
      ]
    },
    {
      "cell_type": "code",
      "metadata": {
        "id": "CRRxW1MqWy28"
      },
      "source": [
        "# print value_counts of each class in training data\n",
        "# np.array(np.unique(y_train, return_counts=True)).T"
      ],
      "execution_count": 29,
      "outputs": []
    },
    {
      "cell_type": "code",
      "metadata": {
        "id": "F-6Mj1uiOxYG"
      },
      "source": [
        "y_train_oh= to_categorical(y_train)\n",
        "y_test_oh = to_categorical(y_test)\n",
        "y_train_oh = y_train_oh.astype(int)\n",
        "y_test_oh = y_test_oh.astype(int)"
      ],
      "execution_count": 13,
      "outputs": []
    },
    {
      "cell_type": "code",
      "metadata": {
        "id": "l1aDrID3WKNy"
      },
      "source": [
        "# y_train_oh\n",
        "# Labels converted to OneHot"
      ],
      "execution_count": 31,
      "outputs": []
    },
    {
      "cell_type": "markdown",
      "metadata": {
        "id": "vis-z88Gaa4o"
      },
      "source": [
        "#### **Some tunable parameters**"
      ]
    },
    {
      "cell_type": "code",
      "metadata": {
        "id": "XJhxWMNbY734"
      },
      "source": [
        "act = 'tanh'\n",
        "# batch_len = 32\n",
        "opt = 'adam'\n",
        "epoch = 20\n",
        "val_split = 0.2"
      ],
      "execution_count": 14,
      "outputs": []
    },
    {
      "cell_type": "markdown",
      "metadata": {
        "id": "tO0C3WA1n_Wo"
      },
      "source": [
        "#### **Explore the impact of batch size**"
      ]
    },
    {
      "cell_type": "code",
      "metadata": {
        "id": "ow6pv2dHrkqY"
      },
      "source": [
        "def count_misclassified_points(y_true, y_pred):\n",
        "    count = 0\n",
        "    # assuming len(y_true) == len(y_pred)\n",
        "    for i in range(len(y_true)):\n",
        "        if not np.array_equal(y_true[i], y_pred[i]):\n",
        "            count += 1\n",
        "    return count"
      ],
      "execution_count": 9,
      "outputs": []
    },
    {
      "cell_type": "code",
      "metadata": {
        "id": "CUT6RIgHK7uL"
      },
      "source": [
        "# function to make the predictions one-hot\n",
        "def make_one_hot(y):\n",
        "    n_dims = len(y[0])\n",
        "    for i in range(len(y)):\n",
        "        max_index = y[i].argmax()\n",
        "        y[i] = np.zeros(n_dims)\n",
        "        y[i][max_index] = 1\n",
        "    y = y.astype(int)\n",
        "    return y"
      ],
      "execution_count": 10,
      "outputs": []
    },
    {
      "cell_type": "code",
      "metadata": {
        "id": "JJBe30Xw8kba"
      },
      "source": [
        "X_train, X_valid, y_train, y_valid = train_test_split(X_train, y_train, test_size = val_split, random_state = 0)"
      ],
      "execution_count": null,
      "outputs": []
    },
    {
      "cell_type": "code",
      "metadata": {
        "colab": {
          "base_uri": "https://localhost:8080/"
        },
        "id": "g0bQTzmSoIPi",
        "outputId": "dcdd741f-756d-4a50-eba4-e55ab832fb3f"
      },
      "source": [
        "average_losses = dict()\n",
        "for batch_len in [8, 16, 32, 64, 128, 256, 512, 1024]:\n",
        "    losses = []\n",
        "    # Repeat training 5 times and take the average validation loss\n",
        "    for _ in tqdm(range(5)):\n",
        "        # Define the model architecture\n",
        "        keras.backend.clear_session()\n",
        "        model = Sequential()\n",
        "        model.add(Dense(32, activation = act, input_dim = X_train.shape[1]))\n",
        "        model.add(Dense(32, activation = act))\n",
        "        model.add(Dense(32, activation = act))\n",
        "        model.add(Dense(3, activation = 'softmax')) # for multi-class classification\n",
        "\n",
        "        # Train the model\n",
        "        model.compile(optimizer = opt, loss = 'categorical_crossentropy', metrics = ['accuracy'])\n",
        "        history = model.fit(X_train, y_train_oh, epochs = epoch, batch_size = batch_len, verbose = 0)\n",
        "\n",
        "        # Compute and store the validation loss (# misclassified points in this case)\n",
        "        y_pred_valid = model.predict(X_valid)\n",
        "        y_pred_valid = make_one_hot(y_pred_valid)\n",
        "\n",
        "        valid_loss = count_misclassified_points(y_pred_valid, y_valid)\n",
        "        losses.append(valid_loss)\n",
        "    \n",
        "    # Compute and store the average loss for this batch size\n",
        "    average_loss = np.mean(losses)\n",
        "    average_loss = round(average_loss, 1)\n",
        "    average_losses[batch_len] = average_loss"
      ],
      "execution_count": 15,
      "outputs": [
        {
          "output_type": "stream",
          "text": [
            "100%|██████████| 5/5 [02:39<00:00, 31.94s/it]\n",
            "100%|██████████| 5/5 [01:43<00:00, 20.69s/it]\n",
            "100%|██████████| 5/5 [01:19<00:00, 15.88s/it]\n",
            "100%|██████████| 5/5 [00:58<00:00, 11.77s/it]\n",
            "100%|██████████| 5/5 [01:07<00:00, 13.48s/it]\n",
            "100%|██████████| 5/5 [00:46<00:00,  9.37s/it]\n",
            "100%|██████████| 5/5 [00:45<00:00,  9.08s/it]\n",
            "100%|██████████| 5/5 [00:42<00:00,  8.45s/it]\n"
          ],
          "name": "stderr"
        }
      ]
    },
    {
      "cell_type": "markdown",
      "metadata": {
        "id": "pQo5qwu1kb0K"
      },
      "source": [
        "# **Plots**"
      ]
    },
    {
      "cell_type": "code",
      "metadata": {
        "colab": {
          "base_uri": "https://localhost:8080/"
        },
        "id": "0veY1ghI7krC",
        "outputId": "abde6953-f939-413e-f5fb-cd6a1b0d6503"
      },
      "source": [
        "print(average_losses)"
      ],
      "execution_count": 4,
      "outputs": [
        {
          "output_type": "stream",
          "text": [
            "{8: 36.8, 16: 34.9, 32: 32.4, 64: 33.2, 128: 33.2, 256: 34.0, 512: 34.6, 1024: 37.8}\n"
          ],
          "name": "stdout"
        }
      ]
    },
    {
      "cell_type": "code",
      "metadata": {
        "colab": {
          "base_uri": "https://localhost:8080/",
          "height": 460
        },
        "id": "JpIDLN0mUbFS",
        "outputId": "180a60d1-8dd1-47ff-d564-32ad3d210f75"
      },
      "source": [
        "# Plot the validation loss for different batch sizes \n",
        "keys = list(average_losses_valid.keys())\n",
        "values = list(average_losses_valid.values())\n",
        "plt.figure(figsize = (12, 7))\n",
        "ax = sns.barplot(x = keys, y = values, palette = 'crest')\n",
        "ax.bar_label(ax.containers[0])\n",
        "ax.set(xlabel='Batch size', ylabel='Number of misclassified data points')\n",
        "ax.set_title( \"Validation loss using different batch sizes (cleaned data)\", size = 15)\n",
        "plt.show()"
      ],
      "execution_count": 12,
      "outputs": [
        {
          "output_type": "display_data",
          "data": {
            "image/png": "[encoded data removed]",
            "text/plain": [
              "<Figure size 864x504 with 1 Axes>"
            ]
          },
          "metadata": {
            "needs_background": "light"
          }
        }
      ]
    },
    {
      "cell_type": "code",
      "metadata": {
        "colab": {
          "base_uri": "https://localhost:8080/",
          "height": 460
        },
        "id": "LTs2Ze2d8YoQ",
        "outputId": "630624af-e879-440e-eea2-b6de7c5a08cd"
      },
      "source": [
        "# Plot the validation loss for different batch sizes \n",
        "keys = list(average_losses_valid.keys())\n",
        "values = list(average_losses_valid.values())\n",
        "plt.figure(figsize = (12, 7))\n",
        "ax = sns.barplot(x = keys, y = values, palette = 'crest')\n",
        "ax.bar_label(ax.containers[0])\n",
        "ax.set(xlabel='Batch size', ylabel='Number of misclassified data points')\n",
        "ax.set_title( \"Validation loss using different batch sizes (raw data)\", size = 15)\n",
        "plt.show()"
      ],
      "execution_count": 28,
      "outputs": [
        {
          "output_type": "display_data",
          "data": {
            "image/png": "[encoded data removed]",
            "text/plain": [
              "<Figure size 864x504 with 1 Axes>"
            ]
          },
          "metadata": {
            "needs_background": "light"
          }
        }
      ]
    },
    {
      "cell_type": "code",
      "metadata": {
        "colab": {
          "base_uri": "https://localhost:8080/",
          "height": 460
        },
        "id": "GUDP2UZmjcJW",
        "outputId": "ed81eef7-abc0-4d69-a2c7-aaec80b82555"
      },
      "source": [
        "# Plot the execution time for different batch sizes \n",
        "keys = list(batch_exec_time.keys())\n",
        "values = list(batch_exec_time.values())\n",
        "plt.figure(figsize = (12, 7))\n",
        "ax = sns.barplot(x = keys, y = values, palette = 'flare_r')\n",
        "ax.bar_label(ax.containers[0])\n",
        "ax.set(xlabel='Batch sizes', ylabel='Training time (seconds)')\n",
        "ax.set_title( \"Execution time using different batch sizes\", size = 15)\n",
        "plt.show()"
      ],
      "execution_count": 15,
      "outputs": [
        {
          "output_type": "display_data",
          "data": {
            "image/png": "[encoded data removed]",
            "text/plain": [
              "<Figure size 864x504 with 1 Axes>"
            ]
          },
          "metadata": {
            "needs_background": "light"
          }
        }
      ]
    },
    {
      "cell_type": "markdown",
      "metadata": {
        "id": "WIkMTI7jau4V"
      },
      "source": [
        "# **Pickling the losses**"
      ]
    },
    {
      "cell_type": "code",
      "metadata": {
        "colab": {
          "base_uri": "https://localhost:8080/"
        },
        "id": "Z1JdcZHm9BPQ",
        "outputId": "18c565f8-541d-4bf3-95af-f2c9402d9cf5"
      },
      "source": [
        "average_losses_valid"
      ],
      "execution_count": 31,
      "outputs": [
        {
          "output_type": "execute_result",
          "data": {
            "text/plain": [
              "{8: 7.8, 16: 8.9, 32: 8.1, 64: 8.5, 128: 8.4, 256: 9.7, 512: 10.5, 1024: 13.6}"
            ]
          },
          "metadata": {},
          "execution_count": 31
        }
      ]
    },
    {
      "cell_type": "code",
      "metadata": {
        "id": "hk_0qJIdatwd"
      },
      "source": [
        "with open('average_losses.pickle', 'wb') as handle:\n",
        "    pickle.dump(average_losses, handle)\n",
        "\n",
        "with open('average_losses_valid.pickle', 'wb') as handle:\n",
        "    pickle.dump(average_losses_valid, handle)"
      ],
      "execution_count": 32,
      "outputs": []
    },
    {
      "cell_type": "code",
      "metadata": {
        "id": "mzg4DaBla39C"
      },
      "source": [
        "with open('average_losses.pickle', 'rb') as handle:\n",
        "    average_losses = pickle.load(handle)\n",
        "\n",
        "with open('average_losses_valid.pickle', 'rb') as handle:\n",
        "    average_losses_valid = pickle.load(handle)"
      ],
      "execution_count": 2,
      "outputs": []
    },
    {
      "cell_type": "markdown",
      "metadata": {
        "id": "53SO6thFk4uv"
      },
      "source": [
        "\n",
        "\n",
        "1.   First upgrade matplotlib to latest version\n",
        "2.   Restart runtime\n",
        "3.   Import packages\n",
        "4.   Upload and open pickled loss files \n",
        "5.   Plot the relevant graphs\n",
        "\n"
      ]
    },
    {
      "cell_type": "markdown",
      "metadata": {
        "id": "71yx3O4484Wt"
      },
      "source": [
        "# **Other experiments**"
      ]
    },
    {
      "cell_type": "code",
      "metadata": {
        "colab": {
          "base_uri": "https://localhost:8080/"
        },
        "id": "b17MJUFT_iuM",
        "outputId": "5b917310-6309-4216-e4e5-ad1e59fc493d"
      },
      "source": [
        "# Save and zip model\n",
        "model_name = 'modelr_98_tanh_8_20'\n",
        "model.save('modelr_98_tanh_8_20')\n",
        "!zip -r modelr_98_tanh_8_20.zip modelr_98_tanh_8_20"
      ],
      "execution_count": 44,
      "outputs": [
        {
          "output_type": "stream",
          "text": [
            "INFO:tensorflow:Assets written to: modelr_98_tanh_8_20/assets\n",
            "  adding: modelr_98_tanh_8_20/ (stored 0%)\n",
            "  adding: modelr_98_tanh_8_20/saved_model.pb (deflated 88%)\n",
            "  adding: modelr_98_tanh_8_20/assets/ (stored 0%)\n",
            "  adding: modelr_98_tanh_8_20/keras_metadata.pb (deflated 89%)\n",
            "  adding: modelr_98_tanh_8_20/variables/ (stored 0%)\n",
            "  adding: modelr_98_tanh_8_20/variables/variables.data-00000-of-00001 (deflated 23%)\n",
            "  adding: modelr_98_tanh_8_20/variables/variables.index (deflated 66%)\n"
          ],
          "name": "stdout"
        }
      ]
    }
  ]
}