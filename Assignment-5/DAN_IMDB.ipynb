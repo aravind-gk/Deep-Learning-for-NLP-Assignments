{
  "nbformat": 4,
  "nbformat_minor": 5,
  "metadata": {
    "kernelspec": {
      "display_name": "Python 3 (ipykernel)",
      "language": "python",
      "name": "python3"
    },
    "language_info": {
      "codemirror_mode": {
        "name": "ipython",
        "version": 3
      },
      "file_extension": ".py",
      "mimetype": "text/x-python",
      "name": "python",
      "nbconvert_exporter": "python",
      "pygments_lexer": "ipython3",
      "version": "3.8.10"
    },
    "colab": {
      "name": "DAN-IMDB.ipynb",
      "provenance": [],
      "collapsed_sections": [],
      "include_colab_link": true
    }
  },
  "cells": [
    {
      "cell_type": "markdown",
      "metadata": {
        "id": "view-in-github",
        "colab_type": "text"
      },
      "source": [
        "<a href=\"https://colab.research.google.com/github/aravind-gk/Deep-Learning-for-NLP-Assignments/blob/main/Assignment-5/DAN_IMDB.ipynb\" target=\"_parent\"><img src=\"https://colab.research.google.com/assets/colab-badge.svg\" alt=\"Open In Colab\"/></a>"
      ]
    },
    {
      "cell_type": "code",
      "metadata": {
        "id": "56e06997"
      },
      "source": [
        "import csv\n",
        "import tensorflow as tf\n",
        "from tensorflow import keras\n",
        "from tensorflow.keras.models import *\n",
        "from tensorflow.keras.layers import *"
      ],
      "id": "56e06997",
      "execution_count": null,
      "outputs": []
    },
    {
      "cell_type": "code",
      "metadata": {
        "id": "ff655031"
      },
      "source": [
        "import os\n",
        "import numpy as np\n",
        "import contractions as ctc\n",
        "import re\n",
        "import pandas as pd"
      ],
      "id": "ff655031",
      "execution_count": null,
      "outputs": []
    },
    {
      "cell_type": "code",
      "metadata": {
        "id": "b0e6b487"
      },
      "source": [
        "from tensorflow.keras import models,layers\n",
        "import tensorflow.keras.backend as K\n",
        "from matplotlib import pyplot as plt\n",
        "from tensorflow.keras.models import load_model"
      ],
      "id": "b0e6b487",
      "execution_count": null,
      "outputs": []
    },
    {
      "cell_type": "code",
      "metadata": {
        "id": "3d1f100a"
      },
      "source": [
        "import tensorflow_hub as hub\n",
        "from sklearn.metrics import classification_report,f1_score"
      ],
      "id": "3d1f100a",
      "execution_count": null,
      "outputs": []
    },
    {
      "cell_type": "markdown",
      "metadata": {
        "id": "a5e96ba9"
      },
      "source": [
        "# **Pre-processing**"
      ],
      "id": "a5e96ba9"
    },
    {
      "cell_type": "code",
      "metadata": {
        "id": "59e52b75"
      },
      "source": [
        "df_imdb=pd.read_csv(\"IMDB Dataset.csv\")\n",
        "labels2={\"positive\":1,\"negative\":0}\n",
        "df_imdb[\"lables\"]=df_imdb[\"sentiment\"].map(labels2)"
      ],
      "id": "59e52b75",
      "execution_count": null,
      "outputs": []
    },
    {
      "cell_type": "code",
      "metadata": {
        "id": "3acef451"
      },
      "source": [
        "def is_special(text):\n",
        "    rem = ''\n",
        "    for i in text: \n",
        "        if i.isalnum():\n",
        "            rem = rem + i\n",
        "        else:\n",
        "            rem = rem + ' '\n",
        "            rem=rem+i\n",
        "            rem = rem + ' '\n",
        "    return rem\n",
        "\n",
        "def rem_extra(text):\n",
        "    rem=re.sub(' +', ' ',text)\n",
        "    return str(rem).strip()\n",
        "\n",
        "df_imdb.review=df_imdb.review.apply(is_special)\n",
        "df_imdb.review=df_imdb.review.apply(rem_extra)\n",
        "\n",
        "df_train=df_imdb.iloc[0:25000]\n",
        "df_test=df_imdb.iloc[25000:]"
      ],
      "id": "3acef451",
      "execution_count": null,
      "outputs": []
    },
    {
      "cell_type": "code",
      "metadata": {
        "id": "6565060a",
        "outputId": "4676905b-ec5a-4b7f-b8d5-31770dc0533d"
      },
      "source": [
        "df_train.head()"
      ],
      "id": "6565060a",
      "execution_count": null,
      "outputs": [
        {
          "data": {
            "text/html": [
              "<div>\n",
              "<style scoped>\n",
              "    .dataframe tbody tr th:only-of-type {\n",
              "        vertical-align: middle;\n",
              "    }\n",
              "\n",
              "    .dataframe tbody tr th {\n",
              "        vertical-align: top;\n",
              "    }\n",
              "\n",
              "    .dataframe thead th {\n",
              "        text-align: right;\n",
              "    }\n",
              "</style>\n",
              "<table border=\"1\" class=\"dataframe\">\n",
              "  <thead>\n",
              "    <tr style=\"text-align: right;\">\n",
              "      <th></th>\n",
              "      <th>review</th>\n",
              "      <th>sentiment</th>\n",
              "      <th>lables</th>\n",
              "    </tr>\n",
              "  </thead>\n",
              "  <tbody>\n",
              "    <tr>\n",
              "      <th>0</th>\n",
              "      <td>One of the other reviewers has mentioned that ...</td>\n",
              "      <td>positive</td>\n",
              "      <td>1</td>\n",
              "    </tr>\n",
              "    <tr>\n",
              "      <th>1</th>\n",
              "      <td>A wonderful little production . &lt; br / &gt; &lt; br ...</td>\n",
              "      <td>positive</td>\n",
              "      <td>1</td>\n",
              "    </tr>\n",
              "    <tr>\n",
              "      <th>2</th>\n",
              "      <td>I thought this was a wonderful way to spend ti...</td>\n",
              "      <td>positive</td>\n",
              "      <td>1</td>\n",
              "    </tr>\n",
              "    <tr>\n",
              "      <th>3</th>\n",
              "      <td>Basically there ' s a family where a little bo...</td>\n",
              "      <td>negative</td>\n",
              "      <td>0</td>\n",
              "    </tr>\n",
              "    <tr>\n",
              "      <th>4</th>\n",
              "      <td>Petter Mattei ' s \" Love in the Time of Money ...</td>\n",
              "      <td>positive</td>\n",
              "      <td>1</td>\n",
              "    </tr>\n",
              "  </tbody>\n",
              "</table>\n",
              "</div>"
            ],
            "text/plain": [
              "                                              review sentiment  lables\n",
              "0  One of the other reviewers has mentioned that ...  positive       1\n",
              "1  A wonderful little production . < br / > < br ...  positive       1\n",
              "2  I thought this was a wonderful way to spend ti...  positive       1\n",
              "3  Basically there ' s a family where a little bo...  negative       0\n",
              "4  Petter Mattei ' s \" Love in the Time of Money ...  positive       1"
            ]
          },
          "execution_count": 37,
          "metadata": {},
          "output_type": "execute_result"
        }
      ]
    },
    {
      "cell_type": "markdown",
      "metadata": {
        "id": "8296b4c6"
      },
      "source": [
        "# **Glove embedding**"
      ],
      "id": "8296b4c6"
    },
    {
      "cell_type": "code",
      "metadata": {
        "id": "c70db119",
        "outputId": "8276a942-67b7-4c0b-905f-b81fade86b00"
      },
      "source": [
        "embeddings_index = dict()\n",
        "addrs=\"../Embeddings/glove.6B.300d.txt\"\n",
        "f = open(addrs)\n",
        "for line in f:\n",
        "    values = line.split()\n",
        "    word = values[0]\n",
        "    coefs = np.asarray(values[1:], dtype='float32')\n",
        "    embeddings_index[word] = coefs\n",
        "f.close()\n",
        "print('Loaded %s word vectors.' % len(embeddings_index))"
      ],
      "id": "c70db119",
      "execution_count": null,
      "outputs": [
        {
          "name": "stdout",
          "output_type": "stream",
          "text": [
            "Loaded 400000 word vectors.\n"
          ]
        }
      ]
    },
    {
      "cell_type": "code",
      "metadata": {
        "id": "6b929f8c"
      },
      "source": [
        "x_train=np.zeros((len(df_train.review),300))\n",
        "k=0 # index of review\n",
        "for review in df_train.review:\n",
        "    vec=np.zeros((300))\n",
        "    c=1 # number of words in each review (taking 1 to avoid the problem of division by zero)\n",
        "    for word in review.split(): \n",
        "        embedding_vector = embeddings_index.get(word)\n",
        "        if embedding_vector is not None:\n",
        "            vec+=embedding_vector\n",
        "            c+=1\n",
        "    x_train[k]=vec/c\n",
        "    k+=1"
      ],
      "id": "6b929f8c",
      "execution_count": null,
      "outputs": []
    },
    {
      "cell_type": "code",
      "metadata": {
        "id": "09a8f9ae"
      },
      "source": [
        "x_test=np.zeros((len(df_test.review),300))\n",
        "k=0\n",
        "for review in df_test.review:\n",
        "    vec=np.zeros((300))\n",
        "    c=0\n",
        "    for word in review.split(): \n",
        "        embedding_vector = embeddings_index.get(word)\n",
        "        if embedding_vector is not None:\n",
        "            vec+=embedding_vector\n",
        "            c+=1\n",
        "    x_test[k]=vec/c\n",
        "    k+=1\n",
        "    "
      ],
      "id": "09a8f9ae",
      "execution_count": null,
      "outputs": []
    },
    {
      "cell_type": "markdown",
      "metadata": {
        "id": "453435c8"
      },
      "source": [
        "# **DAN**"
      ],
      "id": "453435c8"
    },
    {
      "cell_type": "code",
      "metadata": {
        "id": "556ff9ca"
      },
      "source": [
        "model=Sequential()\n",
        "model.add(InputLayer((300)))\n",
        "model.add(Dense(256,activation=\"swish\"))\n",
        "model.add(Dense(128,activation=\"swish\"))\n",
        "model.add(Dense(64,activation=\"swish\"))\n",
        "model.add(Dense(64,activation=\"swish\"))\n",
        "model.add(Dense(5,activation=\"softmax\"))"
      ],
      "id": "556ff9ca",
      "execution_count": null,
      "outputs": []
    },
    {
      "cell_type": "code",
      "metadata": {
        "id": "34768862"
      },
      "source": [
        "model.compile(loss=\"sparse_categorical_crossentropy\", optimizer=\"adam\", metrics=\"accuracy\")"
      ],
      "id": "34768862",
      "execution_count": null,
      "outputs": []
    },
    {
      "cell_type": "code",
      "metadata": {
        "id": "99b9d387"
      },
      "source": [
        "early = keras.callbacks.EarlyStopping(monitor='val_loss', patience=3 ,mode='min')"
      ],
      "id": "99b9d387",
      "execution_count": null,
      "outputs": []
    },
    {
      "cell_type": "code",
      "metadata": {
        "id": "6c1b9bb5",
        "outputId": "fccc7385-4347-489e-d5f2-3f303023bcd8"
      },
      "source": [
        "model.fit(x_train,df_train.lables.values,epochs=40,batch_size=32,validation_split=0.2,callbacks=[early])"
      ],
      "id": "6c1b9bb5",
      "execution_count": null,
      "outputs": [
        {
          "name": "stdout",
          "output_type": "stream",
          "text": [
            "Epoch 1/100\n",
            "704/704 [==============================] - 4s 5ms/step - loss: 0.4994 - accuracy: 0.7575 - val_loss: 0.4147 - val_accuracy: 0.8140\n",
            "Epoch 2/100\n",
            "704/704 [==============================] - 4s 5ms/step - loss: 0.4206 - accuracy: 0.8135 - val_loss: 0.4015 - val_accuracy: 0.8264\n",
            "Epoch 3/100\n",
            "704/704 [==============================] - 3s 5ms/step - loss: 0.4078 - accuracy: 0.8208 - val_loss: 0.4173 - val_accuracy: 0.8076\n",
            "Epoch 4/100\n",
            "704/704 [==============================] - 3s 5ms/step - loss: 0.4102 - accuracy: 0.8224 - val_loss: 0.4043 - val_accuracy: 0.8200\n",
            "Epoch 5/100\n",
            "704/704 [==============================] - 3s 5ms/step - loss: 0.3990 - accuracy: 0.8239 - val_loss: 0.4507 - val_accuracy: 0.7876\n",
            "Epoch 6/100\n",
            "704/704 [==============================] - 4s 5ms/step - loss: 0.3929 - accuracy: 0.8300 - val_loss: 0.4078 - val_accuracy: 0.8176\n",
            "Epoch 7/100\n",
            "704/704 [==============================] - 4s 5ms/step - loss: 0.3906 - accuracy: 0.8288 - val_loss: 0.5167 - val_accuracy: 0.7780\n",
            "Epoch 8/100\n",
            "704/704 [==============================] - 3s 5ms/step - loss: 0.3931 - accuracy: 0.8292 - val_loss: 0.4087 - val_accuracy: 0.8164\n",
            "Epoch 9/100\n",
            "704/704 [==============================] - 3s 4ms/step - loss: 0.3860 - accuracy: 0.8323 - val_loss: 0.4518 - val_accuracy: 0.7908\n",
            "Epoch 10/100\n",
            "704/704 [==============================] - 3s 5ms/step - loss: 0.3867 - accuracy: 0.8330 - val_loss: 0.3998 - val_accuracy: 0.8156\n",
            "Epoch 11/100\n",
            "704/704 [==============================] - 3s 5ms/step - loss: 0.3855 - accuracy: 0.8337 - val_loss: 0.4393 - val_accuracy: 0.8124\n",
            "Epoch 12/100\n",
            "704/704 [==============================] - 4s 5ms/step - loss: 0.3815 - accuracy: 0.8348 - val_loss: 0.4283 - val_accuracy: 0.7888\n",
            "Epoch 13/100\n",
            "704/704 [==============================] - 4s 5ms/step - loss: 0.3879 - accuracy: 0.8344 - val_loss: 0.3945 - val_accuracy: 0.8248\n",
            "Epoch 14/100\n",
            "704/704 [==============================] - 4s 5ms/step - loss: 0.3910 - accuracy: 0.8306 - val_loss: 0.4099 - val_accuracy: 0.8136\n",
            "Epoch 15/100\n",
            "704/704 [==============================] - 4s 5ms/step - loss: 0.3763 - accuracy: 0.8402 - val_loss: 0.4011 - val_accuracy: 0.8224\n",
            "Epoch 16/100\n",
            "704/704 [==============================] - 3s 5ms/step - loss: 0.3819 - accuracy: 0.8336 - val_loss: 0.3866 - val_accuracy: 0.8256\n",
            "Epoch 17/100\n",
            "704/704 [==============================] - 4s 5ms/step - loss: 0.3832 - accuracy: 0.8355 - val_loss: 0.4082 - val_accuracy: 0.8192\n",
            "Epoch 18/100\n",
            "704/704 [==============================] - 3s 5ms/step - loss: 0.4255 - accuracy: 0.8158 - val_loss: 0.5947 - val_accuracy: 0.8160\n",
            "Epoch 19/100\n",
            "704/704 [==============================] - 4s 5ms/step - loss: 0.5362 - accuracy: 0.7724 - val_loss: 0.3931 - val_accuracy: 0.8252\n",
            "Epoch 20/100\n",
            "704/704 [==============================] - 3s 5ms/step - loss: 0.3770 - accuracy: 0.8379 - val_loss: 0.3953 - val_accuracy: 0.8276\n",
            "Epoch 21/100\n",
            "704/704 [==============================] - 3s 5ms/step - loss: 0.3752 - accuracy: 0.8391 - val_loss: 0.3918 - val_accuracy: 0.8208\n",
            "Epoch 22/100\n",
            "704/704 [==============================] - 3s 5ms/step - loss: 0.3793 - accuracy: 0.8341 - val_loss: 0.3968 - val_accuracy: 0.8224\n",
            "Epoch 23/100\n",
            "704/704 [==============================] - 4s 5ms/step - loss: 0.3780 - accuracy: 0.8365 - val_loss: 0.3838 - val_accuracy: 0.8252\n",
            "Epoch 24/100\n",
            "704/704 [==============================] - 4s 5ms/step - loss: 0.3721 - accuracy: 0.8398 - val_loss: 0.3903 - val_accuracy: 0.8268\n",
            "Epoch 25/100\n",
            "704/704 [==============================] - 3s 5ms/step - loss: 0.3752 - accuracy: 0.8392 - val_loss: 0.3888 - val_accuracy: 0.8280\n",
            "Epoch 26/100\n",
            "704/704 [==============================] - 3s 5ms/step - loss: 0.3811 - accuracy: 0.8365 - val_loss: 0.3911 - val_accuracy: 0.8280\n",
            "Epoch 27/100\n",
            "704/704 [==============================] - 3s 5ms/step - loss: 0.3967 - accuracy: 0.8283 - val_loss: 0.3866 - val_accuracy: 0.8276\n",
            "Epoch 28/100\n",
            "704/704 [==============================] - 3s 5ms/step - loss: 0.3763 - accuracy: 0.8392 - val_loss: 0.4014 - val_accuracy: 0.8284\n",
            "Epoch 29/100\n",
            "704/704 [==============================] - 3s 5ms/step - loss: 0.3758 - accuracy: 0.8393 - val_loss: 0.3955 - val_accuracy: 0.8224\n",
            "Epoch 30/100\n",
            "704/704 [==============================] - 3s 5ms/step - loss: 0.3773 - accuracy: 0.8396 - val_loss: 0.6839 - val_accuracy: 0.7996\n",
            "Epoch 31/100\n",
            "704/704 [==============================] - 3s 5ms/step - loss: 0.3724 - accuracy: 0.8379 - val_loss: 0.3889 - val_accuracy: 0.8260\n",
            "Epoch 32/100\n",
            "704/704 [==============================] - 4s 5ms/step - loss: 0.3695 - accuracy: 0.8400 - val_loss: 0.4002 - val_accuracy: 0.8276\n",
            "Epoch 33/100\n",
            "704/704 [==============================] - 4s 5ms/step - loss: 0.3719 - accuracy: 0.8411 - val_loss: 0.4117 - val_accuracy: 0.8144\n"
          ]
        },
        {
          "data": {
            "text/plain": [
              "<keras.callbacks.History at 0x7f2291f137c0>"
            ]
          },
          "execution_count": 61,
          "metadata": {},
          "output_type": "execute_result"
        }
      ]
    },
    {
      "cell_type": "code",
      "metadata": {
        "id": "3557d4da",
        "outputId": "87df8d26-55fa-4f25-9ea2-25c81b7b5c20"
      },
      "source": [
        "y_pred = np.argmax(model1.predict(x_test),axis=1)\n",
        "print(classification_report(df_test.lables.values,y_pred))"
      ],
      "id": "3557d4da",
      "execution_count": null,
      "outputs": [
        {
          "name": "stdout",
          "output_type": "stream",
          "text": [
            "              precision    recall  f1-score   support\n",
            "\n",
            "           0       0.80      0.89      0.84     12474\n",
            "           1       0.88      0.77      0.82     12526\n",
            "\n",
            "    accuracy                           0.83     25000\n",
            "   macro avg       0.84      0.83      0.83     25000\n",
            "weighted avg       0.84      0.83      0.83     25000\n",
            "\n"
          ]
        }
      ]
    },
    {
      "cell_type": "code",
      "metadata": {
        "id": "6e8e2eab",
        "outputId": "5038bbaf-6fc6-4f44-c9fa-0d44bb472899"
      },
      "source": [
        "f1_score(df_test.lables.values,y_pred)"
      ],
      "id": "6e8e2eab",
      "execution_count": null,
      "outputs": [
        {
          "data": {
            "text/plain": [
              "0.8224275300898458"
            ]
          },
          "execution_count": 104,
          "metadata": {},
          "output_type": "execute_result"
        }
      ]
    }
  ]
}