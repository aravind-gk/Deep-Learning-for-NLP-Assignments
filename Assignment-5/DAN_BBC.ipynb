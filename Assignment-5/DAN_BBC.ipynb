{
  "nbformat": 4,
  "nbformat_minor": 5,
  "metadata": {
    "kernelspec": {
      "display_name": "Python 3 (ipykernel)",
      "language": "python",
      "name": "python3"
    },
    "language_info": {
      "codemirror_mode": {
        "name": "ipython",
        "version": 3
      },
      "file_extension": ".py",
      "mimetype": "text/x-python",
      "name": "python",
      "nbconvert_exporter": "python",
      "pygments_lexer": "ipython3",
      "version": "3.8.10"
    },
    "colab": {
      "name": "DAN-BBC.ipynb",
      "provenance": [],
      "include_colab_link": true
    }
  },
  "cells": [
    {
      "cell_type": "markdown",
      "metadata": {
        "id": "view-in-github",
        "colab_type": "text"
      },
      "source": [
        "<a href=\"https://colab.research.google.com/github/aravind-gk/Deep-Learning-for-NLP-Assignments/blob/main/Assignment-5/DAN_BBC.ipynb\" target=\"_parent\"><img src=\"https://colab.research.google.com/assets/colab-badge.svg\" alt=\"Open In Colab\"/></a>"
      ]
    },
    {
      "cell_type": "code",
      "metadata": {
        "id": "2e0dd7f8"
      },
      "source": [
        "import pandas as pd\n",
        "import csv\n",
        "import tensorflow as tf\n",
        "from tensorflow import keras\n",
        "from tensorflow.keras.models import *\n",
        "from tensorflow.keras.layers import *"
      ],
      "id": "2e0dd7f8",
      "execution_count": null,
      "outputs": []
    },
    {
      "cell_type": "code",
      "metadata": {
        "id": "df8f66e6"
      },
      "source": [
        "import os\n",
        "import numpy as np\n",
        "import contractions as ctc\n",
        "import re"
      ],
      "id": "df8f66e6",
      "execution_count": null,
      "outputs": []
    },
    {
      "cell_type": "code",
      "metadata": {
        "id": "0ad7c72b"
      },
      "source": [
        "from tensorflow.keras import models,layers\n",
        "import tensorflow.keras.backend as K\n",
        "from matplotlib import pyplot as plt\n",
        "from tensorflow.keras.models import load_model"
      ],
      "id": "0ad7c72b",
      "execution_count": null,
      "outputs": []
    },
    {
      "cell_type": "code",
      "metadata": {
        "id": "82ab17da"
      },
      "source": [
        "from sklearn.metrics import classification_report,f1_score"
      ],
      "id": "82ab17da",
      "execution_count": null,
      "outputs": []
    },
    {
      "cell_type": "markdown",
      "metadata": {
        "id": "2494455f"
      },
      "source": [
        "# **Load data**\n"
      ],
      "id": "2494455f"
    },
    {
      "cell_type": "code",
      "metadata": {
        "id": "5f5fa632"
      },
      "source": [
        "df_train=pd.read_csv(\"./TrainData.csv\")"
      ],
      "id": "5f5fa632",
      "execution_count": null,
      "outputs": []
    },
    {
      "cell_type": "code",
      "metadata": {
        "id": "84a915b1"
      },
      "source": [
        "labels={'business':0, 'tech':1, 'politics':2, 'sport':3, 'entertainment':4}"
      ],
      "id": "84a915b1",
      "execution_count": null,
      "outputs": []
    },
    {
      "cell_type": "code",
      "metadata": {
        "id": "df30c3bc"
      },
      "source": [
        "df_train[\"labels\"]=df_train[\"Category\"].map(labels)"
      ],
      "id": "df30c3bc",
      "execution_count": null,
      "outputs": []
    },
    {
      "cell_type": "code",
      "metadata": {
        "id": "00a7ee06",
        "outputId": "3eb2c85f-3d0e-4f37-ef13-5b42eb2ec53b"
      },
      "source": [
        "df_train.head()"
      ],
      "id": "00a7ee06",
      "execution_count": null,
      "outputs": [
        {
          "data": {
            "text/html": [
              "<div>\n",
              "<style scoped>\n",
              "    .dataframe tbody tr th:only-of-type {\n",
              "        vertical-align: middle;\n",
              "    }\n",
              "\n",
              "    .dataframe tbody tr th {\n",
              "        vertical-align: top;\n",
              "    }\n",
              "\n",
              "    .dataframe thead th {\n",
              "        text-align: right;\n",
              "    }\n",
              "</style>\n",
              "<table border=\"1\" class=\"dataframe\">\n",
              "  <thead>\n",
              "    <tr style=\"text-align: right;\">\n",
              "      <th></th>\n",
              "      <th>Text</th>\n",
              "      <th>Category</th>\n",
              "      <th>labels</th>\n",
              "    </tr>\n",
              "  </thead>\n",
              "  <tbody>\n",
              "    <tr>\n",
              "      <th>0</th>\n",
              "      <td>worldcom ex-boss launches defence lawyers defe...</td>\n",
              "      <td>business</td>\n",
              "      <td>0</td>\n",
              "    </tr>\n",
              "    <tr>\n",
              "      <th>1</th>\n",
              "      <td>german business confidence slides german busin...</td>\n",
              "      <td>business</td>\n",
              "      <td>0</td>\n",
              "    </tr>\n",
              "    <tr>\n",
              "      <th>2</th>\n",
              "      <td>bbc poll indicates economic gloom citizens in ...</td>\n",
              "      <td>business</td>\n",
              "      <td>0</td>\n",
              "    </tr>\n",
              "    <tr>\n",
              "      <th>3</th>\n",
              "      <td>lifestyle  governs mobile choice  faster  bett...</td>\n",
              "      <td>tech</td>\n",
              "      <td>1</td>\n",
              "    </tr>\n",
              "    <tr>\n",
              "      <th>4</th>\n",
              "      <td>enron bosses in $168m payout eighteen former e...</td>\n",
              "      <td>business</td>\n",
              "      <td>0</td>\n",
              "    </tr>\n",
              "  </tbody>\n",
              "</table>\n",
              "</div>"
            ],
            "text/plain": [
              "                                                Text  Category  labels\n",
              "0  worldcom ex-boss launches defence lawyers defe...  business       0\n",
              "1  german business confidence slides german busin...  business       0\n",
              "2  bbc poll indicates economic gloom citizens in ...  business       0\n",
              "3  lifestyle  governs mobile choice  faster  bett...      tech       1\n",
              "4  enron bosses in $168m payout eighteen former e...  business       0"
            ]
          },
          "execution_count": 7,
          "metadata": {},
          "output_type": "execute_result"
        }
      ]
    },
    {
      "cell_type": "code",
      "metadata": {
        "id": "16dcafe6",
        "outputId": "a59df6ec-1eef-48ab-d303-73321e2999b0"
      },
      "source": [
        "df_train.Text[0]"
      ],
      "id": "16dcafe6",
      "execution_count": null,
      "outputs": [
        {
          "data": {
            "text/plain": [
              "'worldcom ex-boss launches defence lawyers defending former worldcom chief bernie ebbers against a battery of fraud charges have called a company whistleblower as their first witness.  cynthia cooper  worldcom s ex-head of internal accounting  alerted directors to irregular accounting practices at the us telecoms giant in 2002. her warnings led to the collapse of the firm following the discovery of an $11bn (£5.7bn) accounting fraud. mr ebbers has pleaded not guilty to charges of fraud and conspiracy.  prosecution lawyers have argued that mr ebbers orchestrated a series of accounting tricks at worldcom  ordering employees to hide expenses and inflate revenues to meet wall street earnings estimates. but ms cooper  who now runs her own consulting business  told a jury in new york on wednesday that external auditors arthur andersen had approved worldcom s accounting in early 2001 and 2002. she said andersen had given a  green light  to the procedures and practices used by worldcom. mr ebber s lawyers have said he was unaware of the fraud  arguing that auditors did not alert him to any problems.  ms cooper also said that during shareholder meetings mr ebbers often passed over technical questions to the company s finance chief  giving only  brief  answers himself. the prosecution s star witness  former worldcom financial chief scott sullivan  has said that mr ebbers ordered accounting adjustments at the firm  telling him to  hit our books . however  ms cooper said mr sullivan had not mentioned  anything uncomfortable  about worldcom s accounting during a 2001 audit committee meeting. mr ebbers could face a jail sentence of 85 years if convicted of all the charges he is facing. worldcom emerged from bankruptcy protection in 2004  and is now known as mci. last week  mci agreed to a buyout by verizon communications in a deal valued at $6.75bn.'"
            ]
          },
          "execution_count": 9,
          "metadata": {},
          "output_type": "execute_result"
        }
      ]
    },
    {
      "cell_type": "code",
      "metadata": {
        "id": "9d3f04bd"
      },
      "source": [
        "def is_special(text):\n",
        "    rem = ''\n",
        "    for i in text: \n",
        "        if i.isalnum():\n",
        "            rem = rem + i\n",
        "        else:\n",
        "            rem = rem + ' '\n",
        "            rem=rem+i\n",
        "            rem = rem + ' '\n",
        "    return rem"
      ],
      "id": "9d3f04bd",
      "execution_count": null,
      "outputs": []
    },
    {
      "cell_type": "code",
      "metadata": {
        "id": "ba1030f2"
      },
      "source": [
        "def rem_extra(text):\n",
        "    rem=re.sub(' +', ' ',text)\n",
        "    return str(rem).strip()"
      ],
      "id": "ba1030f2",
      "execution_count": null,
      "outputs": []
    },
    {
      "cell_type": "code",
      "metadata": {
        "id": "18f8acfd"
      },
      "source": [
        "df_train.Text=df_train.Text.apply(is_special)"
      ],
      "id": "18f8acfd",
      "execution_count": null,
      "outputs": []
    },
    {
      "cell_type": "code",
      "metadata": {
        "id": "ec714d60"
      },
      "source": [
        "df_train.Text=df_train.Text.apply(rem_extra)"
      ],
      "id": "ec714d60",
      "execution_count": null,
      "outputs": []
    },
    {
      "cell_type": "markdown",
      "metadata": {
        "id": "4bdc1994"
      },
      "source": [
        "# **Glove embedding**"
      ],
      "id": "4bdc1994"
    },
    {
      "cell_type": "code",
      "metadata": {
        "id": "2a148a52",
        "outputId": "b2587a8b-d6a4-4bb4-ed49-9f10032aba95"
      },
      "source": [
        "embeddings_index = dict()\n",
        "addrs=\"../Embeddings/glove.6B.300d.txt\"\n",
        "f = open(addrs)\n",
        "for line in f:\n",
        "    values = line.split()\n",
        "    word = values[0]\n",
        "    coefs = np.asarray(values[1:], dtype='float32')\n",
        "    embeddings_index[word] = coefs\n",
        "f.close()\n",
        "print('Loaded %s word vectors.' % len(embeddings_index))"
      ],
      "id": "2a148a52",
      "execution_count": null,
      "outputs": [
        {
          "name": "stdout",
          "output_type": "stream",
          "text": [
            "Loaded 400000 word vectors.\n"
          ]
        }
      ]
    },
    {
      "cell_type": "code",
      "metadata": {
        "id": "63a4f2ad"
      },
      "source": [
        "x_train=np.zeros((len(df_train.Text),300))\n",
        "k=0\n",
        "for review in df_train.Text:\n",
        "    vec=np.zeros((300))\n",
        "    c=0\n",
        "    for word in review.split(): \n",
        "        embedding_vector = embeddings_index.get(word)\n",
        "        if embedding_vector is not None:\n",
        "            vec+=embedding_vector\n",
        "            c+=1\n",
        "    x_train[k]=vec/c\n",
        "    k+=1\n",
        "    "
      ],
      "id": "63a4f2ad",
      "execution_count": null,
      "outputs": []
    },
    {
      "cell_type": "code",
      "metadata": {
        "id": "9939c680",
        "outputId": "2afeb6d2-fbdc-4b3e-b5e6-0192b2b5a7e5"
      },
      "source": [
        "x_train.shape"
      ],
      "id": "9939c680",
      "execution_count": null,
      "outputs": [
        {
          "data": {
            "text/plain": [
              "(1490, 300)"
            ]
          },
          "execution_count": 42,
          "metadata": {},
          "output_type": "execute_result"
        }
      ]
    },
    {
      "cell_type": "markdown",
      "metadata": {
        "id": "cc3d0c1f"
      },
      "source": [
        "# **Basic Pre-processing**"
      ],
      "id": "cc3d0c1f"
    },
    {
      "cell_type": "code",
      "metadata": {
        "id": "4667205c"
      },
      "source": [
        "df_test=pd.read_csv(\"./TestData_Inputs.csv\")"
      ],
      "id": "4667205c",
      "execution_count": null,
      "outputs": []
    },
    {
      "cell_type": "code",
      "metadata": {
        "id": "049e71c6",
        "outputId": "dacfb93e-ec16-4be2-eba1-9f0e362f3349"
      },
      "source": [
        "df_test.head()"
      ],
      "id": "049e71c6",
      "execution_count": null,
      "outputs": [
        {
          "data": {
            "text/html": [
              "<div>\n",
              "<style scoped>\n",
              "    .dataframe tbody tr th:only-of-type {\n",
              "        vertical-align: middle;\n",
              "    }\n",
              "\n",
              "    .dataframe tbody tr th {\n",
              "        vertical-align: top;\n",
              "    }\n",
              "\n",
              "    .dataframe thead th {\n",
              "        text-align: right;\n",
              "    }\n",
              "</style>\n",
              "<table border=\"1\" class=\"dataframe\">\n",
              "  <thead>\n",
              "    <tr style=\"text-align: right;\">\n",
              "      <th></th>\n",
              "      <th>ArticleId</th>\n",
              "      <th>Text</th>\n",
              "    </tr>\n",
              "  </thead>\n",
              "  <tbody>\n",
              "    <tr>\n",
              "      <th>0</th>\n",
              "      <td>1018</td>\n",
              "      <td>qpr keeper day heads for preston queens park r...</td>\n",
              "    </tr>\n",
              "    <tr>\n",
              "      <th>1</th>\n",
              "      <td>1319</td>\n",
              "      <td>software watching while you work software that...</td>\n",
              "    </tr>\n",
              "    <tr>\n",
              "      <th>2</th>\n",
              "      <td>1138</td>\n",
              "      <td>d arcy injury adds to ireland woe gordon d arc...</td>\n",
              "    </tr>\n",
              "    <tr>\n",
              "      <th>3</th>\n",
              "      <td>459</td>\n",
              "      <td>india s reliance family feud heats up the ongo...</td>\n",
              "    </tr>\n",
              "    <tr>\n",
              "      <th>4</th>\n",
              "      <td>1020</td>\n",
              "      <td>boro suffer morrison injury blow middlesbrough...</td>\n",
              "    </tr>\n",
              "  </tbody>\n",
              "</table>\n",
              "</div>"
            ],
            "text/plain": [
              "   ArticleId                                               Text\n",
              "0       1018  qpr keeper day heads for preston queens park r...\n",
              "1       1319  software watching while you work software that...\n",
              "2       1138  d arcy injury adds to ireland woe gordon d arc...\n",
              "3        459  india s reliance family feud heats up the ongo...\n",
              "4       1020  boro suffer morrison injury blow middlesbrough..."
            ]
          },
          "execution_count": 69,
          "metadata": {},
          "output_type": "execute_result"
        }
      ]
    },
    {
      "cell_type": "code",
      "metadata": {
        "id": "d7df1d70"
      },
      "source": [
        "df_test.Text=df_test.Text.apply(is_special)"
      ],
      "id": "d7df1d70",
      "execution_count": null,
      "outputs": []
    },
    {
      "cell_type": "code",
      "metadata": {
        "id": "683e5ed0"
      },
      "source": [
        "df_test.Text=df_test.Text.apply(rem_extra)"
      ],
      "id": "683e5ed0",
      "execution_count": null,
      "outputs": []
    },
    {
      "cell_type": "code",
      "metadata": {
        "id": "b9c0004a"
      },
      "source": [
        "x_test=np.zeros((len(df_test.Text),300))\n",
        "k=0\n",
        "for review in df_test.Text:\n",
        "    vec=np.zeros((300))\n",
        "    c=0\n",
        "    for word in review.split(): \n",
        "        embedding_vector = embeddings_index.get(word)\n",
        "        if embedding_vector is not None:\n",
        "            vec+=embedding_vector\n",
        "            c+=1\n",
        "    x_test[k]=vec/c\n",
        "    k+=1\n",
        "    "
      ],
      "id": "b9c0004a",
      "execution_count": null,
      "outputs": []
    },
    {
      "cell_type": "code",
      "metadata": {
        "id": "9a3fb338"
      },
      "source": [
        "df_labels=pd.read_csv(\"./TestLabels.csv\")"
      ],
      "id": "9a3fb338",
      "execution_count": null,
      "outputs": []
    },
    {
      "cell_type": "code",
      "metadata": {
        "id": "ebdf5d1c"
      },
      "source": [
        "df_labels[\"labels\"]=df_labels[\"Category\"].map(labels)"
      ],
      "id": "ebdf5d1c",
      "execution_count": null,
      "outputs": []
    },
    {
      "cell_type": "markdown",
      "metadata": {
        "id": "9ed12fc7"
      },
      "source": [
        "# **DAN using Glove**\n"
      ],
      "id": "9ed12fc7"
    },
    {
      "cell_type": "code",
      "metadata": {
        "id": "7631139b"
      },
      "source": [
        "model=Sequential()\n",
        "model.add(InputLayer((300)))\n",
        "model.add(Dense(128,activation=\"swish\"))\n",
        "model.add(Dense(128,activation=\"swish\"))\n",
        "model.add(Dense(128,activation=\"swish\"))\n",
        "model.add(Dense(5,activation=\"softmax\"))"
      ],
      "id": "7631139b",
      "execution_count": null,
      "outputs": []
    },
    {
      "cell_type": "code",
      "metadata": {
        "id": "af06f48d"
      },
      "source": [
        "model.compile(loss=\"sparse_categorical_crossentropy\",optimizer=\"adam\",metrics=\"accuracy\")"
      ],
      "id": "af06f48d",
      "execution_count": null,
      "outputs": []
    },
    {
      "cell_type": "code",
      "metadata": {
        "id": "0842734c"
      },
      "source": [
        "early=keras.callbacks.EarlyStopping(monitor='val_loss',patience=10,mode='min')"
      ],
      "id": "0842734c",
      "execution_count": null,
      "outputs": []
    },
    {
      "cell_type": "code",
      "metadata": {
        "id": "9cde5192",
        "outputId": "e21fe79e-048f-41e8-b4ab-2e5d7cffccb7"
      },
      "source": [
        "model.fit(x_train, df_train.labels.values, epochs=30, batch_size=64, validation_split=0.2, callbacks=[early])"
      ],
      "id": "9cde5192",
      "execution_count": null,
      "outputs": [
        {
          "name": "stdout",
          "output_type": "stream",
          "text": [
            "Epoch 1/100\n",
            "42/42 [==============================] - 1s 12ms/step - loss: 2.6953 - accuracy: 0.5720 - val_loss: 0.7380 - val_accuracy: 0.7383\n",
            "Epoch 2/100\n",
            "42/42 [==============================] - 0s 3ms/step - loss: 0.6403 - accuracy: 0.8009 - val_loss: 0.7357 - val_accuracy: 0.7919\n",
            "Epoch 3/100\n",
            "42/42 [==============================] - 0s 3ms/step - loss: 0.4050 - accuracy: 0.8606 - val_loss: 0.3793 - val_accuracy: 0.8591\n",
            "Epoch 4/100\n",
            "42/42 [==============================] - 0s 3ms/step - loss: 0.2209 - accuracy: 0.9262 - val_loss: 0.2810 - val_accuracy: 0.9060\n",
            "Epoch 5/100\n",
            "42/42 [==============================] - 0s 3ms/step - loss: 0.1614 - accuracy: 0.9485 - val_loss: 0.3800 - val_accuracy: 0.8658\n",
            "Epoch 6/100\n",
            "42/42 [==============================] - 0s 4ms/step - loss: 0.1880 - accuracy: 0.9389 - val_loss: 0.3758 - val_accuracy: 0.8859\n",
            "Epoch 7/100\n",
            "42/42 [==============================] - 0s 3ms/step - loss: 0.1520 - accuracy: 0.9493 - val_loss: 0.3130 - val_accuracy: 0.9262\n",
            "Epoch 8/100\n",
            "42/42 [==============================] - 0s 3ms/step - loss: 0.1171 - accuracy: 0.9612 - val_loss: 0.3197 - val_accuracy: 0.9262\n",
            "Epoch 9/100\n",
            "42/42 [==============================] - 0s 4ms/step - loss: 0.1104 - accuracy: 0.9635 - val_loss: 0.2713 - val_accuracy: 0.9329\n",
            "Epoch 10/100\n",
            "42/42 [==============================] - 0s 3ms/step - loss: 0.1272 - accuracy: 0.9575 - val_loss: 0.2853 - val_accuracy: 0.9597\n",
            "Epoch 11/100\n",
            "42/42 [==============================] - 0s 3ms/step - loss: 0.0612 - accuracy: 0.9769 - val_loss: 0.2286 - val_accuracy: 0.9262\n",
            "Epoch 12/100\n",
            "42/42 [==============================] - 0s 3ms/step - loss: 0.2620 - accuracy: 0.9239 - val_loss: 0.1782 - val_accuracy: 0.9396\n",
            "Epoch 13/100\n",
            "42/42 [==============================] - 0s 4ms/step - loss: 0.0983 - accuracy: 0.9694 - val_loss: 0.1453 - val_accuracy: 0.9530\n",
            "Epoch 14/100\n",
            "42/42 [==============================] - 0s 4ms/step - loss: 0.1667 - accuracy: 0.9463 - val_loss: 0.2021 - val_accuracy: 0.9128\n",
            "Epoch 15/100\n",
            "42/42 [==============================] - 0s 4ms/step - loss: 0.0643 - accuracy: 0.9799 - val_loss: 0.2146 - val_accuracy: 0.9530\n",
            "Epoch 16/100\n",
            "42/42 [==============================] - 0s 4ms/step - loss: 0.1202 - accuracy: 0.9627 - val_loss: 0.1978 - val_accuracy: 0.9329\n",
            "Epoch 17/100\n",
            "42/42 [==============================] - 0s 3ms/step - loss: 0.0684 - accuracy: 0.9776 - val_loss: 0.5331 - val_accuracy: 0.8926\n",
            "Epoch 18/100\n",
            "42/42 [==============================] - 0s 3ms/step - loss: 0.0710 - accuracy: 0.9746 - val_loss: 0.3248 - val_accuracy: 0.9329\n",
            "Epoch 19/100\n",
            "42/42 [==============================] - 0s 3ms/step - loss: 0.1889 - accuracy: 0.9523 - val_loss: 0.2856 - val_accuracy: 0.9329\n",
            "Epoch 20/100\n",
            "42/42 [==============================] - 0s 4ms/step - loss: 0.1474 - accuracy: 0.9553 - val_loss: 0.1626 - val_accuracy: 0.9463\n",
            "Epoch 21/100\n",
            "42/42 [==============================] - 0s 3ms/step - loss: 0.0506 - accuracy: 0.9821 - val_loss: 0.2607 - val_accuracy: 0.9195\n",
            "Epoch 22/100\n",
            "42/42 [==============================] - 0s 3ms/step - loss: 0.0814 - accuracy: 0.9724 - val_loss: 0.1855 - val_accuracy: 0.9530\n",
            "Epoch 23/100\n",
            "42/42 [==============================] - 0s 3ms/step - loss: 0.0282 - accuracy: 0.9903 - val_loss: 0.1599 - val_accuracy: 0.9664\n"
          ]
        },
        {
          "data": {
            "text/plain": [
              "<keras.callbacks.History at 0x7fb0e2955670>"
            ]
          },
          "execution_count": 130,
          "metadata": {},
          "output_type": "execute_result"
        }
      ]
    },
    {
      "cell_type": "code",
      "metadata": {
        "id": "95ec6a91",
        "outputId": "8b91e9ff-16eb-4654-d324-70bb552e6d5e"
      },
      "source": [
        "y_pred=np.argmax(model.predict(x_test),axis=1)\n",
        "print(classification_report(df_labels.labels.values,y_pred))"
      ],
      "id": "95ec6a91",
      "execution_count": null,
      "outputs": [
        {
          "name": "stdout",
          "output_type": "stream",
          "text": [
            "              precision    recall  f1-score   support\n",
            "\n",
            "           0       0.96      0.91      0.94       176\n",
            "           1       0.92      0.98      0.95       135\n",
            "           2       0.95      0.98      0.96       143\n",
            "           3       0.99      0.98      0.98       168\n",
            "           4       0.97      0.96      0.97       113\n",
            "\n",
            "    accuracy                           0.96       735\n",
            "   macro avg       0.96      0.96      0.96       735\n",
            "weighted avg       0.96      0.96      0.96       735\n",
            "\n"
          ]
        }
      ]
    },
    {
      "cell_type": "code",
      "metadata": {
        "id": "86833d9d",
        "outputId": "18ef49c9-1019-4317-aba9-f4bcf8d4093b"
      },
      "source": [
        "f1_score(df_labels.labels.values,y_pred)"
      ],
      "id": "86833d9d",
      "execution_count": null,
      "outputs": [
        {
          "data": {
            "text/plain": [
              "0.9608977969125032"
            ]
          },
          "execution_count": 174,
          "metadata": {},
          "output_type": "execute_result"
        }
      ]
    }
  ]
}